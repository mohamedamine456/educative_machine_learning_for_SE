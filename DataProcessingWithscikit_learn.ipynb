{
  "nbformat": 4,
  "nbformat_minor": 0,
  "metadata": {
    "colab": {
      "name": "DataProcessingWithscikit-learn.ipynb",
      "provenance": []
    },
    "kernelspec": {
      "name": "python3",
      "display_name": "Python 3"
    }
  },
  "cells": [
    {
      "cell_type": "markdown",
      "metadata": {
        "id": "TWCHyPoK2Bje"
      },
      "source": [
        "# **INTRODUCTION**"
      ]
    },
    {
      "cell_type": "markdown",
      "metadata": {
        "id": "2J5rdVRZ2GhV"
      },
      "source": [
        "# ML engineering vs. data science\n",
        "\n",
        "In industry, there is quite a bit of overlap between machine learning engineering and data science. Both jobs involve working with data, such as data analysis and data preprocessing.\n",
        "\n",
        "The main task for machine learning engineers is to first analyze the data for viable trends, then create an efficient input pipeline for training a model. This process involves using libraries like NumPy and pandas for handling data, along with machine learning frameworks like TensorFlow for creating the model and input pipeline.\n",
        "\n",
        "While the NumPy and pandas libraries are also used in data science, the Data Preprocessing section will cover one of the core libraries that is specific to industry-level data science: scikit-learn. Data scientists tend to work on smaller datasets than machine learning engineers, and their main goal is to analyze the data and quickly extract usable results. Therefore, they focus more on traditional data inference models (found in scikit-learn), rather than deep neural networks."
      ]
    },
    {
      "cell_type": "markdown",
      "metadata": {
        "id": "m16gGaKZ3W09"
      },
      "source": [
        "# **STANDARDIZING DATA**"
      ]
    },
    {
      "cell_type": "code",
      "metadata": {
        "id": "jNIvpixR3bwk"
      },
      "source": [
        "# A- Standard Data format"
      ],
      "execution_count": null,
      "outputs": []
    },
    {
      "cell_type": "markdown",
      "metadata": {
        "id": "xaB8Oj6R4yqq"
      },
      "source": [
        "Data can contain all sorts of different values. For example, Olympic 100m sprint times will range from 9.5 to 10.5 seconds, while calorie counts in large pepperoni pizzas can range from 1500 to 3000 calories. Even data measuring the exact same quantities can range in value (e.g. weight in kilograms vs. weight in pounds).\n",
        "\n",
        "When data can take on any range of values, it makes it difficult to interpret. Therefore, data scientists will convert the data into a standard format to make it easier to understand. The standard format refers to data that has 0 mean and unit variance (i.e. standard deviation = 1), and the process of converting data into this format is called data standardization.\n",
        "\n",
        "Data standardization is a relatively simple process. For each data value, x, we subtract the overall mean of the data, μ, then divide by the overall standard deviation, σ. The new value, z, represents the standardized data value. Thus, the formula for data standardization is:\n",
        "\n",
        "z = (x - μ) / σ\n",
        "​"
      ]
    },
    {
      "cell_type": "code",
      "metadata": {
        "id": "nzvD6ya76E4x"
      },
      "source": [
        "# imports\n",
        "import numpy as np"
      ],
      "execution_count": 2,
      "outputs": []
    },
    {
      "cell_type": "code",
      "metadata": {
        "colab": {
          "base_uri": "https://localhost:8080/"
        },
        "id": "iSYM-jk141uL",
        "outputId": "5b68fac7-5a22-4166-e997-b6ae9e2b288f"
      },
      "source": [
        "# B- NumPy and scikit-learn\n",
        "# define pizza_data\n",
        "pizza_data = np.array([[2100,   10,  800],\n",
        "                       [2500,   11,  850],\n",
        "                       [1800,   10,  760],\n",
        "                       [2000,   12,  800],\n",
        "                       [2300,   11,  810]])\n",
        "\n",
        "print('{}\\n'.format(repr(pizza_data)))\n",
        "print('{}\\n'.format(pizza_data.sum()))\n",
        "\n",
        "# import scale from sklearn.preprocessing\n",
        "from sklearn.preprocessing import scale\n",
        "\n",
        "# standardizing each column of pizza_data\n",
        "col_standardized = scale(pizza_data)\n",
        "print('{}\\n'.format(repr(col_standardized)))\n",
        "\n",
        "# column means (rounded to nearest tousandth)\n",
        "col_means = col_standardized.mean(axis=0).round(decimals=3)\n",
        "print('{}\\n'.format(repr(col_means)))\n",
        "\n",
        "# column standard deviations\n",
        "col_stds = col_standardized.std(axis=0)\n",
        "print('{}\\n'.format(repr(col_stds)))"
      ],
      "execution_count": null,
      "outputs": [
        {
          "output_type": "stream",
          "text": [
            "array([[2100,   10,  800],\n",
            "       [2500,   11,  850],\n",
            "       [1800,   10,  760],\n",
            "       [2000,   12,  800],\n",
            "       [2300,   11,  810]])\n",
            "\n",
            "14774\n",
            "\n",
            "array([[-0.16552118, -1.06904497, -0.1393466 ],\n",
            "       [ 1.4896906 ,  0.26726124,  1.60248593],\n",
            "       [-1.40693001, -1.06904497, -1.53281263],\n",
            "       [-0.57932412,  1.60356745, -0.1393466 ],\n",
            "       [ 0.66208471,  0.26726124,  0.2090199 ]])\n",
            "\n",
            "array([ 0., -0.,  0.])\n",
            "\n",
            "array([1., 1., 1.])\n",
            "\n"
          ],
          "name": "stdout"
        }
      ]
    },
    {
      "cell_type": "markdown",
      "metadata": {
        "id": "I4U36se4D-fx"
      },
      "source": [
        "# **DATA RANGE**"
      ]
    },
    {
      "cell_type": "code",
      "metadata": {
        "id": "R7a_myauEAvG"
      },
      "source": [
        "# A- Range scaling\n",
        "\n",
        "# To scale a data by compressing it into a fixed range. \n",
        "# one of the biggest use cases for this is compressig data into the range [0, 1].\n",
        "# helps to view data in terms of porportions, or percentages based on maximum and minimum valuesin data.\n",
        "# the formula for scaling based on a range is. a two-step process. for a given data value x,\n",
        "# we first compute the porportion of the value with respect to the min and max of the data\n",
        "# like:  Xprop = (X - Dmin) / (Dmax - Dmin)\n",
        "# we compute the proportion of the data value Xprop !!!!(works only if Dmin != Dmax)\n",
        "# then we use proprotion to scale to the range [Rmin, Rmax].\n",
        "# the formula to do that is: Xscale = Xprop * (Rmax - Rmin) + Rmin"
      ],
      "execution_count": null,
      "outputs": []
    },
    {
      "cell_type": "code",
      "metadata": {
        "colab": {
          "base_uri": "https://localhost:8080/"
        },
        "id": "4b5wYJvtGhEX",
        "outputId": "ec24af6e-829d-47d4-f7c9-24cbbe6b091a"
      },
      "source": [
        "# B- Range compression in scikit-learn\n",
        "\n",
        "# define data\n",
        "data = np.array([[ 1.2,  3.2],\n",
        "                 [-0.3, -1.2],\n",
        "                 [ 6.5, 10.1],\n",
        "                 [ 2.2, -8.4]])\n",
        "\n",
        "print('{}\\n'.format(repr(data)))\n",
        "\n",
        "# import MinMaxScaler from sklearn.preprocessing\n",
        "from sklearn.preprocessing import MinMaxScaler\n",
        "\n",
        "# default scaler range is [0, 1]\n",
        "default_scaler = MinMaxScaler()\n",
        "transformed = default_scaler.fit_transform(data)\n",
        "print('{}\\n'.format(repr(transformed)))\n",
        "\n",
        "# custom Scaler, example range [-2, 3]\n",
        "custom_scaler = MinMaxScaler(feature_range=(-2, 3))\n",
        "transformed = custom_scaler.fit_transform(data)\n",
        "print('{}\\n'.format(repr(transformed)))"
      ],
      "execution_count": null,
      "outputs": [
        {
          "output_type": "stream",
          "text": [
            "array([[ 1.2,  3.2],\n",
            "       [-0.3, -1.2],\n",
            "       [ 6.5, 10.1],\n",
            "       [ 2.2, -8.4]])\n",
            "\n",
            "array([[0.22058824, 0.62702703],\n",
            "       [0.        , 0.38918919],\n",
            "       [1.        , 1.        ],\n",
            "       [0.36764706, 0.        ]])\n",
            "\n",
            "array([[-0.89705882,  1.13513514],\n",
            "       [-2.        , -0.05405405],\n",
            "       [ 3.        ,  3.        ],\n",
            "       [-0.16176471, -2.        ]])\n",
            "\n"
          ],
          "name": "stdout"
        }
      ]
    },
    {
      "cell_type": "code",
      "metadata": {
        "colab": {
          "base_uri": "https://localhost:8080/"
        },
        "id": "mUH8H-TDIGIs",
        "outputId": "1c0116f4-0769-4c5d-ea97-7e34bd8c4d12"
      },
      "source": [
        "# define new_data\n",
        "new_data = np.array([[ 1.2, -0.5],\n",
        "                     [ 5.3,  2.3],\n",
        "                     [-3.3,  4.1]])\n",
        "\n",
        "print('{}\\n'.format(repr(new_data)))\n",
        "\n",
        "# import MinMaxScaler\n",
        "from sklearn.preprocessing import MinMaxScaler\n",
        "\n",
        "default_scaler = MinMaxScaler()\n",
        "transformed = default_scaler.fit_transform(new_data)\n",
        "print('{}\\n'.format(repr(transformed)))\n",
        "\n",
        "# new instance of MinMaxScaler\n",
        "default_scaler = MinMaxScaler()\n",
        "# different data value fit\n",
        "default_scaler.fit(data)\n",
        "transformed = default_scaler.transform(new_data)\n",
        "print('{}\\n'.format(repr(transformed)))\n"
      ],
      "execution_count": null,
      "outputs": [
        {
          "output_type": "stream",
          "text": [
            "array([[ 1.2, -0.5],\n",
            "       [ 5.3,  2.3],\n",
            "       [-3.3,  4.1]])\n",
            "\n",
            "array([[0.52325581, 0.        ],\n",
            "       [1.        , 0.60869565],\n",
            "       [0.        , 1.        ]])\n",
            "\n",
            "array([[ 0.22058824,  0.42702703],\n",
            "       [ 0.82352941,  0.57837838],\n",
            "       [-0.44117647,  0.67567568]])\n",
            "\n"
          ],
          "name": "stdout"
        }
      ]
    },
    {
      "cell_type": "markdown",
      "metadata": {
        "id": "eQKvcufiJzpt"
      },
      "source": [
        "# **ROBUST SCALING**"
      ]
    },
    {
      "cell_type": "markdown",
      "metadata": {
        "id": "1-fa6VglJ2Ii"
      },
      "source": [
        ""
      ]
    },
    {
      "cell_type": "code",
      "metadata": {
        "id": "iAj-SbOaJ2Xz"
      },
      "source": [
        "# the goal is to learn how to scale data without being affected by outliers\n",
        "\n",
        "# A- Data Outliers\n",
        "\n",
        "# An important aspect of data that we have to deal with is outliers.\n",
        "# In general terms, an outlier is a data point that is significantly further away from the other data points.\n",
        "# For example, if we had watermelons of weights 5, 4, 6, 7, and 20 pounds, the 20 pound watermelon is an outlier.\n",
        "\n",
        "\n",
        "# We can robustly scale the data, i.e. avoid being affected by outliers,\n",
        "# by using use the data's median and Interquartile Range (IQR).\n",
        "# Since the median and IQR are percentile measurements of the data (50% for median, 25% to 75% for the IQR),\n",
        "# they are not affected by outliers. For the scaling method,\n",
        "# we just subtract the median from each data value then scale to the IQR."
      ],
      "execution_count": null,
      "outputs": []
    },
    {
      "cell_type": "code",
      "metadata": {
        "colab": {
          "base_uri": "https://localhost:8080/"
        },
        "id": "gGLVV6LTXfI3",
        "outputId": "85ef8391-19fa-49a4-ccc3-b9bbebb5cb35"
      },
      "source": [
        "# B- Robust scaling with scikit-learn\n",
        "\n",
        "# define data\n",
        "data = np.array([[ 1.2,  2.3],\n",
        "       [ 2.1,  4.2],\n",
        "       [-1.9,  3.1],\n",
        "       [-2.5,  2.5],\n",
        "       [ 0.8,  3. ],\n",
        "       [ 6.3,  2.1],\n",
        "       [-1.5,  2.7],\n",
        "       [ 1.4,  2.9],\n",
        "       [ 1.8,  3.2]])\n",
        "print('{}\\n'.format(repr(data)))\n",
        "\n",
        "# import RobustScaler from sklearn.preprocessing\n",
        "from sklearn.preprocessing import RobustScaler\n",
        "\n",
        "# initialize a robust_scaler\n",
        "robust_scaler = RobustScaler()\n",
        "transformed = robust_scaler.fit_transform(data)\n",
        "\n",
        "print('{}\\n'.format(repr(transformed)))"
      ],
      "execution_count": null,
      "outputs": [
        {
          "output_type": "stream",
          "text": [
            "array([[ 1.2,  2.3],\n",
            "       [ 2.1,  4.2],\n",
            "       [-1.9,  3.1],\n",
            "       [-2.5,  2.5],\n",
            "       [ 0.8,  3. ],\n",
            "       [ 6.3,  2.1],\n",
            "       [-1.5,  2.7],\n",
            "       [ 1.4,  2.9],\n",
            "       [ 1.8,  3.2]])\n",
            "\n",
            "array([[ 0.        , -1.        ],\n",
            "       [ 0.27272727,  2.16666667],\n",
            "       [-0.93939394,  0.33333333],\n",
            "       [-1.12121212, -0.66666667],\n",
            "       [-0.12121212,  0.16666667],\n",
            "       [ 1.54545455, -1.33333333],\n",
            "       [-0.81818182, -0.33333333],\n",
            "       [ 0.06060606,  0.        ],\n",
            "       [ 0.18181818,  0.5       ]])\n",
            "\n"
          ],
          "name": "stdout"
        }
      ]
    },
    {
      "cell_type": "markdown",
      "metadata": {
        "id": "5D6UEHjiYs8W"
      },
      "source": [
        "# **NORMALIZING DATA**"
      ]
    },
    {
      "cell_type": "code",
      "metadata": {
        "id": "75Y8eWfBYv2z"
      },
      "source": [
        "# L2 Normalization\n"
      ],
      "execution_count": null,
      "outputs": []
    },
    {
      "cell_type": "markdown",
      "metadata": {
        "id": "cdo-EoRLFY8O"
      },
      "source": [
        "Formula for L2 Normalization is: ![Screen Shot 2021-02-28 at 3.40.36 PM.png](data:image/png;base64,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)"
      ]
    },
    {
      "cell_type": "code",
      "metadata": {
        "colab": {
          "base_uri": "https://localhost:8080/"
        },
        "id": "NQhGi629Fh1L",
        "outputId": "4f2c5026-fa31-4cd9-f604-7c5634d5c45b"
      },
      "source": [
        "# define data\n",
        "data = np.array([[4, 1, 2, 2],\n",
        "                 [3, 4, 0, 0],\n",
        "                 [7, 5, 9, 2]])\n",
        "\n",
        "print('{}\\n'.format(repr(data)))\n",
        "\n",
        "from sklearn.preprocessing import Normalizer\n",
        "\n",
        "normalizer = Normalizer()\n",
        "transformed = normalizer.fit_transform(data)\n",
        "print('{}\\n'.format(repr(transformed)))"
      ],
      "execution_count": 6,
      "outputs": [
        {
          "output_type": "stream",
          "text": [
            "array([[4, 1, 2, 2],\n",
            "       [3, 4, 0, 0],\n",
            "       [7, 5, 9, 2]])\n",
            "\n",
            "array([[0.8       , 0.2       , 0.4       , 0.4       ],\n",
            "       [0.6       , 0.8       , 0.        , 0.        ],\n",
            "       [0.55513611, 0.39652579, 0.71374643, 0.15861032]])\n",
            "\n"
          ],
          "name": "stdout"
        }
      ]
    },
    {
      "cell_type": "markdown",
      "metadata": {
        "id": "nNqtsYyHGcl8"
      },
      "source": [
        "# **DATA IMPUTATION**"
      ]
    },
    {
      "cell_type": "code",
      "metadata": {
        "colab": {
          "base_uri": "https://localhost:8080/"
        },
        "id": "R9nMsAj1GaVl",
        "outputId": "a9bc2df7-bd81-4069-a376-535d40d8718c"
      },
      "source": [
        "# A- Data imputation methods\n",
        "\n",
        "# define data\n",
        "data = np.array([[ 1.,  2., np.NaN,  2.],\n",
        "                 [ 5., np.NaN,  1.,  2.],\n",
        "                 [ 4., np.NaN,  3., np.NaN],\n",
        "                 [ 5.,  6.,  8.,  1.],\n",
        "                 [np.NaN,  7., np.NaN,  0.]])\n",
        "\n",
        "print('{}\\n'.format(repr(data)))\n",
        "from sklearn.impute import SimpleImputer\n",
        "\n",
        "imp_mean = SimpleImputer()\n",
        "transformed = imp_mean.fit_transform(data)\n",
        "print('{}\\n'.format(repr(transformed)))"
      ],
      "execution_count": 15,
      "outputs": [
        {
          "output_type": "stream",
          "text": [
            "array([[ 1.,  2., nan,  2.],\n",
            "       [ 5., nan,  1.,  2.],\n",
            "       [ 4., nan,  3., nan],\n",
            "       [ 5.,  6.,  8.,  1.],\n",
            "       [nan,  7., nan,  0.]])\n",
            "\n",
            "array([[1.  , 2.  , 4.  , 2.  ],\n",
            "       [5.  , 5.  , 1.  , 2.  ],\n",
            "       [4.  , 5.  , 3.  , 1.25],\n",
            "       [5.  , 6.  , 8.  , 1.  ],\n",
            "       [3.75, 7.  , 4.  , 0.  ]])\n",
            "\n"
          ],
          "name": "stdout"
        }
      ]
    },
    {
      "cell_type": "code",
      "metadata": {
        "colab": {
          "base_uri": "https://localhost:8080/"
        },
        "id": "zV-n9SIZINiq",
        "outputId": "6bf6f0fd-d5b7-4fbe-8340-f6b0c47a0a45"
      },
      "source": [
        "# define data\n",
        "data = np.array([[ 1.,  2., np.NAN,  2.],\n",
        "                 [ 5., np.NAN,  1.,  2.],\n",
        "                 [ 4., np.NAN,  3., np.NAN],\n",
        "                 [ 5.,  6.,  8.,  1.],\n",
        "                 [np.NAN,  7., np.NAN,  0.]])\n",
        "\n",
        "print('{}\\n'.format(repr(data)))\n",
        "\n",
        "from sklearn.impute import SimpleImputer\n",
        "\n",
        "# this method replace nan with the median of the column\n",
        "imp_median = SimpleImputer(strategy='median')\n",
        "transformed = imp_median.fit_transform(data)\n",
        "print('{}\\n'.format(repr(transformed)))\n",
        "\n",
        "# this method replace nan with the most frequent value in the column\n",
        "imp_frequent = SimpleImputer(strategy='most_frequent')\n",
        "transformed = imp_frequent.fit_transform(data)\n",
        "print('{}\\n'.format(repr(transformed)))"
      ],
      "execution_count": 16,
      "outputs": [
        {
          "output_type": "stream",
          "text": [
            "array([[ 1.,  2., nan,  2.],\n",
            "       [ 5., nan,  1.,  2.],\n",
            "       [ 4., nan,  3., nan],\n",
            "       [ 5.,  6.,  8.,  1.],\n",
            "       [nan,  7., nan,  0.]])\n",
            "\n",
            "array([[1. , 2. , 3. , 2. ],\n",
            "       [5. , 6. , 1. , 2. ],\n",
            "       [4. , 6. , 3. , 1.5],\n",
            "       [5. , 6. , 8. , 1. ],\n",
            "       [4.5, 7. , 3. , 0. ]])\n",
            "\n",
            "array([[1., 2., 1., 2.],\n",
            "       [5., 2., 1., 2.],\n",
            "       [4., 2., 3., 2.],\n",
            "       [5., 6., 8., 1.],\n",
            "       [5., 7., 1., 0.]])\n",
            "\n"
          ],
          "name": "stdout"
        }
      ]
    },
    {
      "cell_type": "code",
      "metadata": {
        "colab": {
          "base_uri": "https://localhost:8080/"
        },
        "id": "cjZIleKVKftX",
        "outputId": "3757c612-6062-4a36-ac40-a351d8abc67b"
      },
      "source": [
        "# fill_value\n",
        "data = np.array([[ 1.,  2., np.NAN,  2.],\n",
        "                 [ 5., np.NAN,  1.,  2.],\n",
        "                 [ 4., np.NAN,  3., np.NAN],\n",
        "                 [ 5.,  6.,  8.,  1.],\n",
        "                 [np.NAN,  7., np.NAN,  0.]])\n",
        "\n",
        "print('{}\\n'.format(repr(data)))\n",
        "\n",
        "from sklearn.impute import SimpleImputer\n",
        "imp_constant = SimpleImputer(strategy='constant', fill_value=1)\n",
        "\n",
        "transformed = imp_constant.fit_transform(data)\n",
        "print('{}\\n'.format(repr(transformed)))"
      ],
      "execution_count": 18,
      "outputs": [
        {
          "output_type": "stream",
          "text": [
            "array([[ 1.,  2., nan,  2.],\n",
            "       [ 5., nan,  1.,  2.],\n",
            "       [ 4., nan,  3., nan],\n",
            "       [ 5.,  6.,  8.,  1.],\n",
            "       [nan,  7., nan,  0.]])\n",
            "\n",
            "array([[1., 2., 1., 2.],\n",
            "       [5., 1., 1., 2.],\n",
            "       [4., 1., 3., 1.],\n",
            "       [5., 6., 8., 1.],\n",
            "       [1., 7., 1., 0.]])\n",
            "\n"
          ],
          "name": "stdout"
        }
      ]
    },
    {
      "cell_type": "code",
      "metadata": {
        "id": "YMQKa_K6KXLi"
      },
      "source": [
        "# B- Other imputation methods\n"
      ],
      "execution_count": null,
      "outputs": []
    },
    {
      "cell_type": "markdown",
      "metadata": {
        "id": "bnFQ81LfLOIC"
      },
      "source": [
        "The SimpleImputer object only implements the four imputation methods shown in section A. However, data imputation is not limited to those four methods.\n",
        "\n",
        "There are also more advanced imputation methods such as k-Nearest Neighbors (filling in missing values based on similarity scores from the kNN algorithm) and MICE (applying multiple chained imputations, assuming the missing values are randomly distributed across observations).\n",
        "\n",
        "In most industry cases these advanced methods are not required, since the data is either perfectly cleaned or the missing values are scarce. Nevertheless, the advanced methods could be useful when dealing with open source datasets, since these tend to be more incomplete."
      ]
    },
    {
      "cell_type": "markdown",
      "metadata": {
        "id": "C0G8pfeQLT3h"
      },
      "source": [
        "# **PCA** (Principal Component Analysis)"
      ]
    },
    {
      "cell_type": "code",
      "metadata": {
        "id": "z37MdvVaLRVf"
      },
      "source": [
        "# A- Dimensionality reduction\n",
        "\n",
        "# PCA extracts the principal components of the dataset,\n",
        "# which are an uncorrelated set of latent variables that encompass most of the information from the original dataset.\n",
        "# Using a smaller set of principal components can make it a lot easier\n",
        "# to use the dataset in statistical or machine learning models\n",
        "# (especially when the original dataset contains many correlated features)."
      ],
      "execution_count": null,
      "outputs": []
    },
    {
      "cell_type": "code",
      "metadata": {
        "colab": {
          "base_uri": "https://localhost:8080/"
        },
        "id": "PdIgoqx_VdSF",
        "outputId": "56a4077b-8cf3-4d86-a813-e01695564d42"
      },
      "source": [
        "# B- PCA in scikit-learn\n",
        "\n",
        "# define data\n",
        "data = np.array([[ 1.5,  3. ,  9. , -0.5,  1. ],\n",
        "                 [ 2.2,  4.3,  3.5,  0.6,  2.7],\n",
        "                 [ 3. ,  6.1,  1.1,  1.2,  4.2],\n",
        "                 [ 8. , 16. ,  7.7, -1. ,  7.1]])\n",
        "\n",
        "print('{}\\n'.format(repr(data)))\n",
        "\n",
        "from sklearn.decomposition import PCA\n",
        "pca_obj = PCA()       # the value of n_component will be 4. As m 5 and default is always m-1\n",
        "pc = pca_obj.fit_transform(data).round(3)\n",
        "print('{}\\n'.format(repr(pc)))\n",
        "\n",
        "pca_obj = PCA(n_components=3)\n",
        "pc = pca_obj.fit_transform(data).round(3)\n",
        "print('{}\\n'.format(repr(pc)))\n",
        "\n",
        "pca_obj = PCA(n_components=2)\n",
        "pc = pca_obj.fit_transform(data).round(3)\n",
        "print('{}\\n'.format(repr(pc)))"
      ],
      "execution_count": 20,
      "outputs": [
        {
          "output_type": "stream",
          "text": [
            "array([[ 1.5,  3. ,  9. , -0.5,  1. ],\n",
            "       [ 2.2,  4.3,  3.5,  0.6,  2.7],\n",
            "       [ 3. ,  6.1,  1.1,  1.2,  4.2],\n",
            "       [ 8. , 16. ,  7.7, -1. ,  7.1]])\n",
            "\n",
            "array([[-4.8600e+00,  4.6300e+00, -4.7000e-02,  0.0000e+00],\n",
            "       [-3.7990e+00, -1.3180e+00,  1.2700e-01,  0.0000e+00],\n",
            "       [-1.8630e+00, -4.2260e+00, -8.9000e-02,  0.0000e+00],\n",
            "       [ 1.0522e+01,  9.1400e-01,  9.0000e-03,  0.0000e+00]])\n",
            "\n",
            "array([[-4.8600e+00,  4.6300e+00, -4.7000e-02],\n",
            "       [-3.7990e+00, -1.3180e+00,  1.2700e-01],\n",
            "       [-1.8630e+00, -4.2260e+00, -8.9000e-02],\n",
            "       [ 1.0522e+01,  9.1400e-01,  9.0000e-03]])\n",
            "\n",
            "array([[-4.86 ,  4.63 ],\n",
            "       [-3.799, -1.318],\n",
            "       [-1.863, -4.226],\n",
            "       [10.522,  0.914]])\n",
            "\n"
          ],
          "name": "stdout"
        }
      ]
    },
    {
      "cell_type": "markdown",
      "metadata": {
        "id": "fuTAAkzAXP5k"
      },
      "source": [
        "# **LABELED DATA**"
      ]
    },
    {
      "cell_type": "code",
      "metadata": {
        "colab": {
          "base_uri": "https://localhost:8080/"
        },
        "id": "hRsg_2RCXR4p",
        "outputId": "74bbedc8-fd54-4d9a-b28c-e11e74ec90f4"
      },
      "source": [
        "# A- Class labels\n",
        "\n",
        "from sklearn.datasets import load_breast_cancer\n",
        "bc = load_breast_cancer()\n",
        "print('{}\\n'.format(repr(bc)))\n",
        "print('Data shape: {}\\n'.format(bc.data.shape))\n",
        "\n",
        "# Class labels\n",
        "print('{}\\n'.format(repr(bc.target)))\n",
        "print('Labels Shape: {}\\n'.format(bc.target.shape))\n",
        "\n",
        "# Labels names\n",
        "print('{}\\n'.format(list(bc.target_names)))\n",
        "\n",
        "milgnant = bc.data[bc.target == 0]\n",
        "print('Milgnant shape: {}\\n'.format(milgnant.shape))\n",
        "\n",
        "benign = bc.data[bc.target == 1]\n",
        "print('Benign shape: {}\\n'.format(benign.shape))"
      ],
      "execution_count": 25,
      "outputs": [
        {
          "output_type": "stream",
          "text": [
            "{'data': array([[1.799e+01, 1.038e+01, 1.228e+02, ..., 2.654e-01, 4.601e-01,\n",
            "        1.189e-01],\n",
            "       [2.057e+01, 1.777e+01, 1.329e+02, ..., 1.860e-01, 2.750e-01,\n",
            "        8.902e-02],\n",
            "       [1.969e+01, 2.125e+01, 1.300e+02, ..., 2.430e-01, 3.613e-01,\n",
            "        8.758e-02],\n",
            "       ...,\n",
            "       [1.660e+01, 2.808e+01, 1.083e+02, ..., 1.418e-01, 2.218e-01,\n",
            "        7.820e-02],\n",
            "       [2.060e+01, 2.933e+01, 1.401e+02, ..., 2.650e-01, 4.087e-01,\n",
            "        1.240e-01],\n",
            "       [7.760e+00, 2.454e+01, 4.792e+01, ..., 0.000e+00, 2.871e-01,\n",
            "        7.039e-02]]), 'target': array([0, 0, 0, 0, 0, 0, 0, 0, 0, 0, 0, 0, 0, 0, 0, 0, 0, 0, 0, 1, 1, 1,\n",
            "       0, 0, 0, 0, 0, 0, 0, 0, 0, 0, 0, 0, 0, 0, 0, 1, 0, 0, 0, 0, 0, 0,\n",
            "       0, 0, 1, 0, 1, 1, 1, 1, 1, 0, 0, 1, 0, 0, 1, 1, 1, 1, 0, 1, 0, 0,\n",
            "       1, 1, 1, 1, 0, 1, 0, 0, 1, 0, 1, 0, 0, 1, 1, 1, 0, 0, 1, 0, 0, 0,\n",
            "       1, 1, 1, 0, 1, 1, 0, 0, 1, 1, 1, 0, 0, 1, 1, 1, 1, 0, 1, 1, 0, 1,\n",
            "       1, 1, 1, 1, 1, 1, 1, 0, 0, 0, 1, 0, 0, 1, 1, 1, 0, 0, 1, 0, 1, 0,\n",
            "       0, 1, 0, 0, 1, 1, 0, 1, 1, 0, 1, 1, 1, 1, 0, 1, 1, 1, 1, 1, 1, 1,\n",
            "       1, 1, 0, 1, 1, 1, 1, 0, 0, 1, 0, 1, 1, 0, 0, 1, 1, 0, 0, 1, 1, 1,\n",
            "       1, 0, 1, 1, 0, 0, 0, 1, 0, 1, 0, 1, 1, 1, 0, 1, 1, 0, 0, 1, 0, 0,\n",
            "       0, 0, 1, 0, 0, 0, 1, 0, 1, 0, 1, 1, 0, 1, 0, 0, 0, 0, 1, 1, 0, 0,\n",
            "       1, 1, 1, 0, 1, 1, 1, 1, 1, 0, 0, 1, 1, 0, 1, 1, 0, 0, 1, 0, 1, 1,\n",
            "       1, 1, 0, 1, 1, 1, 1, 1, 0, 1, 0, 0, 0, 0, 0, 0, 0, 0, 0, 0, 0, 0,\n",
            "       0, 0, 1, 1, 1, 1, 1, 1, 0, 1, 0, 1, 1, 0, 1, 1, 0, 1, 0, 0, 1, 1,\n",
            "       1, 1, 1, 1, 1, 1, 1, 1, 1, 1, 1, 0, 1, 1, 0, 1, 0, 1, 1, 1, 1, 1,\n",
            "       1, 1, 1, 1, 1, 1, 1, 1, 1, 0, 1, 1, 1, 0, 1, 0, 1, 1, 1, 1, 0, 0,\n",
            "       0, 1, 1, 1, 1, 0, 1, 0, 1, 0, 1, 1, 1, 0, 1, 1, 1, 1, 1, 1, 1, 0,\n",
            "       0, 0, 1, 1, 1, 1, 1, 1, 1, 1, 1, 1, 1, 0, 0, 1, 0, 0, 0, 1, 0, 0,\n",
            "       1, 1, 1, 1, 1, 0, 1, 1, 1, 1, 1, 0, 1, 1, 1, 0, 1, 1, 0, 0, 1, 1,\n",
            "       1, 1, 1, 1, 0, 1, 1, 1, 1, 1, 1, 1, 0, 1, 1, 1, 1, 1, 0, 1, 1, 0,\n",
            "       1, 1, 1, 1, 1, 1, 1, 1, 1, 1, 1, 1, 0, 1, 0, 0, 1, 0, 1, 1, 1, 1,\n",
            "       1, 0, 1, 1, 0, 1, 0, 1, 1, 0, 1, 0, 1, 1, 1, 1, 1, 1, 1, 1, 0, 0,\n",
            "       1, 1, 1, 1, 1, 1, 0, 1, 1, 1, 1, 1, 1, 1, 1, 1, 1, 0, 1, 1, 1, 1,\n",
            "       1, 1, 1, 0, 1, 0, 1, 1, 0, 1, 1, 1, 1, 1, 0, 0, 1, 0, 1, 0, 1, 1,\n",
            "       1, 1, 1, 0, 1, 1, 0, 1, 0, 1, 0, 0, 1, 1, 1, 0, 1, 1, 1, 1, 1, 1,\n",
            "       1, 1, 1, 1, 1, 0, 1, 0, 0, 1, 1, 1, 1, 1, 1, 1, 1, 1, 1, 1, 1, 1,\n",
            "       1, 1, 1, 1, 1, 1, 1, 1, 1, 1, 1, 1, 0, 0, 0, 0, 0, 0, 1]), 'target_names': array(['malignant', 'benign'], dtype='<U9'), 'DESCR': '.. _breast_cancer_dataset:\\n\\nBreast cancer wisconsin (diagnostic) dataset\\n--------------------------------------------\\n\\n**Data Set Characteristics:**\\n\\n    :Number of Instances: 569\\n\\n    :Number of Attributes: 30 numeric, predictive attributes and the class\\n\\n    :Attribute Information:\\n        - radius (mean of distances from center to points on the perimeter)\\n        - texture (standard deviation of gray-scale values)\\n        - perimeter\\n        - area\\n        - smoothness (local variation in radius lengths)\\n        - compactness (perimeter^2 / area - 1.0)\\n        - concavity (severity of concave portions of the contour)\\n        - concave points (number of concave portions of the contour)\\n        - symmetry \\n        - fractal dimension (\"coastline approximation\" - 1)\\n\\n        The mean, standard error, and \"worst\" or largest (mean of the three\\n        largest values) of these features were computed for each image,\\n        resulting in 30 features.  For instance, field 3 is Mean Radius, field\\n        13 is Radius SE, field 23 is Worst Radius.\\n\\n        - class:\\n                - WDBC-Malignant\\n                - WDBC-Benign\\n\\n    :Summary Statistics:\\n\\n    ===================================== ====== ======\\n                                           Min    Max\\n    ===================================== ====== ======\\n    radius (mean):                        6.981  28.11\\n    texture (mean):                       9.71   39.28\\n    perimeter (mean):                     43.79  188.5\\n    area (mean):                          143.5  2501.0\\n    smoothness (mean):                    0.053  0.163\\n    compactness (mean):                   0.019  0.345\\n    concavity (mean):                     0.0    0.427\\n    concave points (mean):                0.0    0.201\\n    symmetry (mean):                      0.106  0.304\\n    fractal dimension (mean):             0.05   0.097\\n    radius (standard error):              0.112  2.873\\n    texture (standard error):             0.36   4.885\\n    perimeter (standard error):           0.757  21.98\\n    area (standard error):                6.802  542.2\\n    smoothness (standard error):          0.002  0.031\\n    compactness (standard error):         0.002  0.135\\n    concavity (standard error):           0.0    0.396\\n    concave points (standard error):      0.0    0.053\\n    symmetry (standard error):            0.008  0.079\\n    fractal dimension (standard error):   0.001  0.03\\n    radius (worst):                       7.93   36.04\\n    texture (worst):                      12.02  49.54\\n    perimeter (worst):                    50.41  251.2\\n    area (worst):                         185.2  4254.0\\n    smoothness (worst):                   0.071  0.223\\n    compactness (worst):                  0.027  1.058\\n    concavity (worst):                    0.0    1.252\\n    concave points (worst):               0.0    0.291\\n    symmetry (worst):                     0.156  0.664\\n    fractal dimension (worst):            0.055  0.208\\n    ===================================== ====== ======\\n\\n    :Missing Attribute Values: None\\n\\n    :Class Distribution: 212 - Malignant, 357 - Benign\\n\\n    :Creator:  Dr. William H. Wolberg, W. Nick Street, Olvi L. Mangasarian\\n\\n    :Donor: Nick Street\\n\\n    :Date: November, 1995\\n\\nThis is a copy of UCI ML Breast Cancer Wisconsin (Diagnostic) datasets.\\nhttps://goo.gl/U2Uwz2\\n\\nFeatures are computed from a digitized image of a fine needle\\naspirate (FNA) of a breast mass.  They describe\\ncharacteristics of the cell nuclei present in the image.\\n\\nSeparating plane described above was obtained using\\nMultisurface Method-Tree (MSM-T) [K. P. Bennett, \"Decision Tree\\nConstruction Via Linear Programming.\" Proceedings of the 4th\\nMidwest Artificial Intelligence and Cognitive Science Society,\\npp. 97-101, 1992], a classification method which uses linear\\nprogramming to construct a decision tree.  Relevant features\\nwere selected using an exhaustive search in the space of 1-4\\nfeatures and 1-3 separating planes.\\n\\nThe actual linear program used to obtain the separating plane\\nin the 3-dimensional space is that described in:\\n[K. P. Bennett and O. L. Mangasarian: \"Robust Linear\\nProgramming Discrimination of Two Linearly Inseparable Sets\",\\nOptimization Methods and Software 1, 1992, 23-34].\\n\\nThis database is also available through the UW CS ftp server:\\n\\nftp ftp.cs.wisc.edu\\ncd math-prog/cpo-dataset/machine-learn/WDBC/\\n\\n.. topic:: References\\n\\n   - W.N. Street, W.H. Wolberg and O.L. Mangasarian. Nuclear feature extraction \\n     for breast tumor diagnosis. IS&T/SPIE 1993 International Symposium on \\n     Electronic Imaging: Science and Technology, volume 1905, pages 861-870,\\n     San Jose, CA, 1993.\\n   - O.L. Mangasarian, W.N. Street and W.H. Wolberg. Breast cancer diagnosis and \\n     prognosis via linear programming. Operations Research, 43(4), pages 570-577, \\n     July-August 1995.\\n   - W.H. Wolberg, W.N. Street, and O.L. Mangasarian. Machine learning techniques\\n     to diagnose breast cancer from fine-needle aspirates. Cancer Letters 77 (1994) \\n     163-171.', 'feature_names': array(['mean radius', 'mean texture', 'mean perimeter', 'mean area',\n",
            "       'mean smoothness', 'mean compactness', 'mean concavity',\n",
            "       'mean concave points', 'mean symmetry', 'mean fractal dimension',\n",
            "       'radius error', 'texture error', 'perimeter error', 'area error',\n",
            "       'smoothness error', 'compactness error', 'concavity error',\n",
            "       'concave points error', 'symmetry error',\n",
            "       'fractal dimension error', 'worst radius', 'worst texture',\n",
            "       'worst perimeter', 'worst area', 'worst smoothness',\n",
            "       'worst compactness', 'worst concavity', 'worst concave points',\n",
            "       'worst symmetry', 'worst fractal dimension'], dtype='<U23'), 'filename': '/usr/local/lib/python3.7/dist-packages/sklearn/datasets/data/breast_cancer.csv'}\n",
            "\n",
            "Data shape: (569, 30)\n",
            "\n",
            "array([0, 0, 0, 0, 0, 0, 0, 0, 0, 0, 0, 0, 0, 0, 0, 0, 0, 0, 0, 1, 1, 1,\n",
            "       0, 0, 0, 0, 0, 0, 0, 0, 0, 0, 0, 0, 0, 0, 0, 1, 0, 0, 0, 0, 0, 0,\n",
            "       0, 0, 1, 0, 1, 1, 1, 1, 1, 0, 0, 1, 0, 0, 1, 1, 1, 1, 0, 1, 0, 0,\n",
            "       1, 1, 1, 1, 0, 1, 0, 0, 1, 0, 1, 0, 0, 1, 1, 1, 0, 0, 1, 0, 0, 0,\n",
            "       1, 1, 1, 0, 1, 1, 0, 0, 1, 1, 1, 0, 0, 1, 1, 1, 1, 0, 1, 1, 0, 1,\n",
            "       1, 1, 1, 1, 1, 1, 1, 0, 0, 0, 1, 0, 0, 1, 1, 1, 0, 0, 1, 0, 1, 0,\n",
            "       0, 1, 0, 0, 1, 1, 0, 1, 1, 0, 1, 1, 1, 1, 0, 1, 1, 1, 1, 1, 1, 1,\n",
            "       1, 1, 0, 1, 1, 1, 1, 0, 0, 1, 0, 1, 1, 0, 0, 1, 1, 0, 0, 1, 1, 1,\n",
            "       1, 0, 1, 1, 0, 0, 0, 1, 0, 1, 0, 1, 1, 1, 0, 1, 1, 0, 0, 1, 0, 0,\n",
            "       0, 0, 1, 0, 0, 0, 1, 0, 1, 0, 1, 1, 0, 1, 0, 0, 0, 0, 1, 1, 0, 0,\n",
            "       1, 1, 1, 0, 1, 1, 1, 1, 1, 0, 0, 1, 1, 0, 1, 1, 0, 0, 1, 0, 1, 1,\n",
            "       1, 1, 0, 1, 1, 1, 1, 1, 0, 1, 0, 0, 0, 0, 0, 0, 0, 0, 0, 0, 0, 0,\n",
            "       0, 0, 1, 1, 1, 1, 1, 1, 0, 1, 0, 1, 1, 0, 1, 1, 0, 1, 0, 0, 1, 1,\n",
            "       1, 1, 1, 1, 1, 1, 1, 1, 1, 1, 1, 0, 1, 1, 0, 1, 0, 1, 1, 1, 1, 1,\n",
            "       1, 1, 1, 1, 1, 1, 1, 1, 1, 0, 1, 1, 1, 0, 1, 0, 1, 1, 1, 1, 0, 0,\n",
            "       0, 1, 1, 1, 1, 0, 1, 0, 1, 0, 1, 1, 1, 0, 1, 1, 1, 1, 1, 1, 1, 0,\n",
            "       0, 0, 1, 1, 1, 1, 1, 1, 1, 1, 1, 1, 1, 0, 0, 1, 0, 0, 0, 1, 0, 0,\n",
            "       1, 1, 1, 1, 1, 0, 1, 1, 1, 1, 1, 0, 1, 1, 1, 0, 1, 1, 0, 0, 1, 1,\n",
            "       1, 1, 1, 1, 0, 1, 1, 1, 1, 1, 1, 1, 0, 1, 1, 1, 1, 1, 0, 1, 1, 0,\n",
            "       1, 1, 1, 1, 1, 1, 1, 1, 1, 1, 1, 1, 0, 1, 0, 0, 1, 0, 1, 1, 1, 1,\n",
            "       1, 0, 1, 1, 0, 1, 0, 1, 1, 0, 1, 0, 1, 1, 1, 1, 1, 1, 1, 1, 0, 0,\n",
            "       1, 1, 1, 1, 1, 1, 0, 1, 1, 1, 1, 1, 1, 1, 1, 1, 1, 0, 1, 1, 1, 1,\n",
            "       1, 1, 1, 0, 1, 0, 1, 1, 0, 1, 1, 1, 1, 1, 0, 0, 1, 0, 1, 0, 1, 1,\n",
            "       1, 1, 1, 0, 1, 1, 0, 1, 0, 1, 0, 0, 1, 1, 1, 0, 1, 1, 1, 1, 1, 1,\n",
            "       1, 1, 1, 1, 1, 0, 1, 0, 0, 1, 1, 1, 1, 1, 1, 1, 1, 1, 1, 1, 1, 1,\n",
            "       1, 1, 1, 1, 1, 1, 1, 1, 1, 1, 1, 1, 0, 0, 0, 0, 0, 0, 1])\n",
            "\n",
            "Labels Shape: (569,)\n",
            "\n",
            "['malignant', 'benign']\n",
            "\n",
            "Milgnant shape: (212, 30)\n",
            "\n",
            "Benign shape: (357, 30)\n",
            "\n"
          ],
          "name": "stdout"
        }
      ]
    }
  ]
}