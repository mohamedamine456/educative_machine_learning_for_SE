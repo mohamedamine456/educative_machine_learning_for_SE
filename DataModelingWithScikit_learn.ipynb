{
  "nbformat": 4,
  "nbformat_minor": 0,
  "metadata": {
    "colab": {
      "name": "DataModelingWithScikit-learn.ipynb",
      "provenance": [],
      "collapsed_sections": []
    },
    "kernelspec": {
      "name": "python3",
      "display_name": "Python 3"
    }
  },
  "cells": [
    {
      "cell_type": "markdown",
      "metadata": {
        "id": "LZ8s8UBTqEK1"
      },
      "source": [
        "# **INTRODUCTION**"
      ]
    },
    {
      "cell_type": "markdown",
      "metadata": {
        "id": "1TfXsqb3qKc8"
      },
      "source": [
        "# A- Creating models for data\n",
        "\n",
        "The main job of a data scientist is analyzing data and creating models for obtaining results from the data. Oftentimes, data scientists will use simple statistical models for their data, rather than machine learning models like neural networks. This is because data scientists tend to work with smaller datasets than machine learning engineers, so they can quickly extract good results using statistical models.\n",
        "\n",
        "The scikit-learn library provides many statistical models for linear regression. It also provides a few good models for classifying data, which will be introduced in later chapters.\n",
        "\n",
        "When creating these models, data scientists need to figure out the optimal hyperparameters to use. Hyperparameters are values that we set when creating a model, e.g. certain constant coefficients used in the model's calculations. We'll talk more about hyperparameter tuning, the process of finding the optimal hyperparameter settings, in later chapters."
      ]
    },
    {
      "cell_type": "markdown",
      "metadata": {
        "id": "GSjymDU_r7Hr"
      },
      "source": [
        "# **LINEAR REGRESSION**"
      ]
    },
    {
      "cell_type": "markdown",
      "metadata": {
        "id": "cASf4He6r_ab"
      },
      "source": [
        "# A- What is Linear Regression?\n",
        "\n",
        "One of the main objectives in both machine learning and data science is finding an equation or distribution that best fits a given dataset. This is known as data modeling, where we create a model that uses the dataset's features as independent variables to predict output values for some dependent variable (with minimal error). However, it is incredibly difficult to find an optimal model for most datasets, given the amount of noise (i.e. random errors/fluctuations) in real world data.\n",
        "\n",
        "Since finding an optimal model for a dataset is difficult, we instead try to find a good approximating distribution. In many cases, a linear model (a linear combination of the dataset's features) can approximate the data well. The term linear regression refers to using a linear model to represent the relationship between a set of independent variables and a dependent variable.\n",
        "\n",
        "    Y = AX1 + BX2 + CX3 + D\n",
        "\n",
        "The above formula is example linear model which produces output y (dependent variable) based on the linear combination of independent variables x_1, x_2, x_3. The coefficients a, b, c and intercept d determine the model's fit."
      ]
    },
    {
      "cell_type": "markdown",
      "metadata": {
        "id": "1XwXhz_sswNL"
      },
      "source": [
        "# B- Basic Linear Regression\n",
        "\n",
        "The simplest form of linear regression is called least squares regression. This strategy produces a regression model, which is a linear combination of the independent variables, that minimizes the sum of squared residuals between the model's predictions and actual values for the dependent variable.\n",
        "\n",
        "In scikit-learn, the least squares regression model is implemented with the LinearRegression object, which is a part of the linear_model module in sklearn. The object contains a fit function, which takes in an input dataset of features (independent variables) and an array of labels (dependent variables) for each data observation (rows of the dataset).\n",
        "\n",
        "The code below demonstrates how to fit a LinearRegression model to a dataset of 5 different pizzas (pizza_data) and corresponding pizza prices. The first column of pizza_data represents the number of calories and the second column represents net weight (in grams)."
      ]
    },
    {
      "cell_type": "code",
      "metadata": {
        "id": "svZntg7wtBwK"
      },
      "source": [
        "# Imports to work with\n",
        "import numpy as np\n",
        "import pandas as pd"
      ],
      "execution_count": 1,
      "outputs": []
    },
    {
      "cell_type": "code",
      "metadata": {
        "colab": {
          "base_uri": "https://localhost:8080/"
        },
        "id": "mlYk7chMtRTk",
        "outputId": "6c462307-50d4-4a2d-8cec-17caea927943"
      },
      "source": [
        "# define pizza_data and pizza_prices\n",
        "\n",
        "pizza_data = np.array([[2100,  800],\n",
        "                       [2500,  850],\n",
        "                       [1800,  760],\n",
        "                       [2000,  800],\n",
        "                       [2300,  810]])\n",
        "pizza_prices = np.array([10.99, 12.5, 9.99, 10.99, 11.99])\n",
        "\n",
        "print('{}\\n'.format(repr(pizza_data)))\n",
        "print('{}\\n'.format(repr(pizza_prices)))\n",
        "\n",
        "from sklearn import linear_model\n",
        "\n",
        "reg = linear_model.LinearRegression()\n",
        "reg.fit(pizza_data, pizza_prices)"
      ],
      "execution_count": 2,
      "outputs": [
        {
          "output_type": "stream",
          "text": [
            "array([[2100,  800],\n",
            "       [2500,  850],\n",
            "       [1800,  760],\n",
            "       [2000,  800],\n",
            "       [2300,  810]])\n",
            "\n",
            "array([10.99, 12.5 ,  9.99, 10.99, 11.99])\n",
            "\n"
          ],
          "name": "stdout"
        },
        {
          "output_type": "execute_result",
          "data": {
            "text/plain": [
              "LinearRegression(copy_X=True, fit_intercept=True, n_jobs=None, normalize=False)"
            ]
          },
          "metadata": {
            "tags": []
          },
          "execution_count": 2
        }
      ]
    },
    {
      "cell_type": "code",
      "metadata": {
        "colab": {
          "base_uri": "https://localhost:8080/"
        },
        "id": "0pA3kRYvt-xv",
        "outputId": "a5ddec92-3066-40ba-851e-28aad6dc1c48"
      },
      "source": [
        "# new pizza data\n",
        "new_pizzas = np.array([[2000, 820],\n",
        "                       [2200, 830]])\n",
        "price_predicts = reg.predict(new_pizzas)\n",
        "print('{}\\n'.format(repr(price_predicts)))\n",
        "\n",
        "print('Coefficients: {}\\n'.format(repr(reg.coef_)))\n",
        "print('Intercept: {}\\n'.format(reg.intercept_))\n",
        "\n",
        "# Using prevously defined pizza_data, pizza_prices\n",
        "r2 = reg.score(pizza_data, pizza_prices)\n",
        "print('R2: {}\\n'.format(r2))"
      ],
      "execution_count": 4,
      "outputs": [
        {
          "output_type": "stream",
          "text": [
            "array([10.86599206, 11.55111111])\n",
            "\n",
            "Coefficients: array([0.00330913, 0.00232937])\n",
            "\n",
            "Intercept: 2.3376587301587346\n",
            "\n",
            "R2: 0.9758349388652625\n",
            "\n"
          ],
          "name": "stdout"
        }
      ]
    },
    {
      "cell_type": "markdown",
      "metadata": {
        "id": "ofgfdt0fvJrm"
      },
      "source": [
        "# **RIDGE REGRESSION**"
      ]
    },
    {
      "cell_type": "markdown",
      "metadata": {
        "id": "_z5_He2WvSOe"
      },
      "source": [
        ""
      ]
    }
  ]
}