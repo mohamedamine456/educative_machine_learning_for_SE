{
  "nbformat": 4,
  "nbformat_minor": 0,
  "metadata": {
    "colab": {
      "name": "DataManipulationWithnumpy.ipynb",
      "provenance": [],
      "collapsed_sections": []
    },
    "kernelspec": {
      "name": "python3",
      "display_name": "Python 3"
    }
  },
  "cells": [
    {
      "cell_type": "code",
      "metadata": {
        "colab": {
          "base_uri": "https://localhost:8080/"
        },
        "id": "ctPw8cs32SoA",
        "outputId": "a547f4aa-36da-443b-e1b9-c754e4d38168"
      },
      "source": [
        "# Import NumPy Library\n",
        "import numpy as np\n",
        "\n",
        "# Initializing a NumPy array\n",
        "arr = np.array([-1, 2, 5], dtype=np.float32)\n",
        "\n",
        "# Print the representation of the array\n",
        "print(repr(arr))"
      ],
      "execution_count": null,
      "outputs": [
        {
          "output_type": "stream",
          "text": [
            "array([-1.,  2.,  5.], dtype=float32)\n"
          ],
          "name": "stdout"
        }
      ]
    },
    {
      "cell_type": "markdown",
      "metadata": {
        "id": "pmZHepEmECSO"
      },
      "source": [
        "# **NUMPY ARRAYS**\n",
        "\n"
      ]
    },
    {
      "cell_type": "code",
      "metadata": {
        "colab": {
          "base_uri": "https://localhost:8080/"
        },
        "id": "uY1M-DdGEDlU",
        "outputId": "00176970-2eff-4caa-d0c7-22745a925681"
      },
      "source": [
        "arr = np.array([[0, 1, 2], [3, 4, 5]], dtype=np.float32)\n",
        "\n",
        "print(repr(arr))"
      ],
      "execution_count": null,
      "outputs": [
        {
          "output_type": "stream",
          "text": [
            "array([[0., 1., 2.],\n",
            "       [3., 4., 5.]], dtype=float32)\n"
          ],
          "name": "stdout"
        }
      ]
    },
    {
      "cell_type": "code",
      "metadata": {
        "colab": {
          "base_uri": "https://localhost:8080/"
        },
        "id": "S1MKdmW5EQTM",
        "outputId": "d7ac600b-8b41-46b1-df22-f826e18e5e76"
      },
      "source": [
        "arr = np.array([0, 0.1, 2])\n",
        "print(repr(arr))"
      ],
      "execution_count": null,
      "outputs": [
        {
          "output_type": "stream",
          "text": [
            "array([0. , 0.1, 2. ])\n"
          ],
          "name": "stdout"
        }
      ]
    },
    {
      "cell_type": "code",
      "metadata": {
        "colab": {
          "base_uri": "https://localhost:8080/"
        },
        "id": "G0JLqauyEXzM",
        "outputId": "e5429210-ba81-43db-a6a9-4b84e6c1edba"
      },
      "source": [
        "# declare two arrays\n",
        "a = np.array([0, 1])\n",
        "b = np.array([9, 8])\n",
        "# giving the adress to c\n",
        "c = a\n",
        "print('Array a: {}'.format(repr(a)))\n",
        "# changing a[0] value with changing c[0]\n",
        "c[0] = 5\n",
        "print('Array a: {}'.format(repr(a)))\n",
        "\n",
        "# copying b to d\n",
        "d = b.copy()\n",
        "d[0] = 6\n",
        "print('Array b: {}'.format(repr(b)))"
      ],
      "execution_count": null,
      "outputs": [
        {
          "output_type": "stream",
          "text": [
            "Array a: array([0, 1])\n",
            "Array a: array([5, 1])\n",
            "Array b: array([9, 8])\n"
          ],
          "name": "stdout"
        }
      ]
    },
    {
      "cell_type": "code",
      "metadata": {
        "colab": {
          "base_uri": "https://localhost:8080/"
        },
        "id": "JnODEd3mE8Sj",
        "outputId": "4f521331-4d0b-49dc-b933-0e77d7b1d35f"
      },
      "source": [
        "# declare np array a and testing type of array\n",
        "arr = np.array([0, 1, 2])\n",
        "print(arr.dtype)\n",
        "\n",
        "# changing type\n",
        "arr = arr.astype(np.float32)\n",
        "print(arr.dtype)"
      ],
      "execution_count": null,
      "outputs": [
        {
          "output_type": "stream",
          "text": [
            "int64\n",
            "float32\n"
          ],
          "name": "stdout"
        }
      ]
    },
    {
      "cell_type": "code",
      "metadata": {
        "colab": {
          "base_uri": "https://localhost:8080/"
        },
        "id": "JBdU2jZGFcck",
        "outputId": "aa95d411-fb3e-4b94-b1eb-fe4a99ba38f0"
      },
      "source": [
        "# NaN\n",
        "arr = np.array([np.nan, 1, 2])\n",
        "print(repr(arr))\n",
        "\n",
        "arr = np.array([np.nan, 'abc'])\n",
        "print(repr(arr))\n",
        "\n",
        "# Will result in a ValueError\n",
        "# np.array([np.nan, 1, 2], dtype=np.int32)"
      ],
      "execution_count": null,
      "outputs": [
        {
          "output_type": "stream",
          "text": [
            "array([nan,  1.,  2.])\n",
            "array(['nan', 'abc'], dtype='<U32')\n"
          ],
          "name": "stdout"
        }
      ]
    },
    {
      "cell_type": "code",
      "metadata": {
        "colab": {
          "base_uri": "https://localhost:8080/"
        },
        "id": "rhVZ_HCLGXzS",
        "outputId": "f31d605b-33d6-4f00-b8b9-7cdf219185d8"
      },
      "source": [
        "# infinity\n",
        "print(np.inf > 1000000)\n",
        "\n",
        "arr = np.array([np.inf, 5])\n",
        "print(repr(arr))\n",
        "\n",
        "arr = np.array([-np.inf, 1])\n",
        "print(repr(arr))\n",
        "\n",
        "# will result an OverflowError\n",
        "#np.array([np.inf, 3], dtype=np.int32)"
      ],
      "execution_count": null,
      "outputs": [
        {
          "output_type": "stream",
          "text": [
            "True\n",
            "array([inf,  5.])\n",
            "array([-inf,   1.])\n"
          ],
          "name": "stdout"
        }
      ]
    },
    {
      "cell_type": "markdown",
      "metadata": {
        "id": "67j2lf4qJOBI"
      },
      "source": [
        "# **NUMPY BASICS**"
      ]
    },
    {
      "cell_type": "code",
      "metadata": {
        "id": "gOAvH0xiJNo4",
        "colab": {
          "base_uri": "https://localhost:8080/"
        },
        "outputId": "a1082c0e-4505-4e1f-e907-5537b5c1c105"
      },
      "source": [
        "# A- Ranged Data\n",
        "arr = np.arange(5)\n",
        "print(repr(arr))\n",
        "\n",
        "arr = np.arange(5.1)\n",
        "print(repr(arr))\n",
        "\n",
        "arr = np.arange(-1, 4)\n",
        "print(repr(arr))\n",
        "\n",
        "arr = np.arange(-1.5, 4, 2)\n",
        "print(repr(arr))"
      ],
      "execution_count": null,
      "outputs": [
        {
          "output_type": "stream",
          "text": [
            "array([0, 1, 2, 3, 4])\n",
            "array([0., 1., 2., 3., 4., 5.])\n",
            "array([-1,  0,  1,  2,  3])\n",
            "array([-1.5,  0.5,  2.5])\n"
          ],
          "name": "stdout"
        }
      ]
    },
    {
      "cell_type": "code",
      "metadata": {
        "colab": {
          "base_uri": "https://localhost:8080/"
        },
        "id": "4i9obMzHnJeQ",
        "outputId": "9228287e-2a56-4209-8f5a-1545c6dfc639"
      },
      "source": [
        "arr = np.linspace(5, 11, num=4)\n",
        "print(repr(arr))\n",
        "\n",
        "arr = np.linspace(5, 11, num=4, endpoint=False)\n",
        "print(repr(arr))\n",
        "\n",
        "arr = np.linspace(5, 11, num=4, dtype=np.int32)\n",
        "print(repr(arr))"
      ],
      "execution_count": null,
      "outputs": [
        {
          "output_type": "stream",
          "text": [
            "array([ 5.,  7.,  9., 11.])\n",
            "array([5. , 6.5, 8. , 9.5])\n",
            "array([ 5,  7,  9, 11], dtype=int32)\n"
          ],
          "name": "stdout"
        }
      ]
    },
    {
      "cell_type": "code",
      "metadata": {
        "colab": {
          "base_uri": "https://localhost:8080/"
        },
        "id": "lS0AqhSenMZH",
        "outputId": "1a3c7236-0ee2-49e1-9e6b-b2734c07b8f7"
      },
      "source": [
        "# B- Reshaping data\n",
        "arr = np.arange(8)\n",
        "\n",
        "reshaped_arr = np.reshape(arr, (2, 4))\n",
        "print(repr(reshaped_arr))\n",
        "print('New shape: {}'.format(reshaped_arr.shape))\n",
        "\n",
        "reshaped_arr = np.reshape(arr, (-1, 2, 2))\n",
        "print(repr(reshaped_arr))\n",
        "print('New shape: {}'.format(reshaped_arr.shape))"
      ],
      "execution_count": null,
      "outputs": [
        {
          "output_type": "stream",
          "text": [
            "array([[0, 1, 2, 3],\n",
            "       [4, 5, 6, 7]])\n",
            "New shape: (2, 4)\n",
            "array([[[0, 1],\n",
            "        [2, 3]],\n",
            "\n",
            "       [[4, 5],\n",
            "        [6, 7]]])\n",
            "New shape: (2, 2, 2)\n"
          ],
          "name": "stdout"
        }
      ]
    },
    {
      "cell_type": "code",
      "metadata": {
        "colab": {
          "base_uri": "https://localhost:8080/"
        },
        "id": "g-dh1o6ErJ1V",
        "outputId": "c3bb2c3b-e5df-42ca-8bc7-ffb6d44f0fdf"
      },
      "source": [
        "# Flatten : to go from 2D to 1D example\n",
        "arr = np.arange(8)\n",
        "arr = np.reshape(arr, (2, 4))\n",
        "flattened = arr.flatten()\n",
        "print(repr(arr))\n",
        "print('arr shape: {}'.format(arr.shape))\n",
        "print(repr(flattened))\n",
        "print('flettened shape: {}'.format(flattened.shape))"
      ],
      "execution_count": null,
      "outputs": [
        {
          "output_type": "stream",
          "text": [
            "array([[0, 1, 2, 3],\n",
            "       [4, 5, 6, 7]])\n",
            "arr shape: (2, 4)\n",
            "array([0, 1, 2, 3, 4, 5, 6, 7])\n",
            "flettened shape: (8,)\n"
          ],
          "name": "stdout"
        }
      ]
    },
    {
      "cell_type": "code",
      "metadata": {
        "colab": {
          "base_uri": "https://localhost:8080/"
        },
        "id": "XxA_JQ2Mrxq7",
        "outputId": "36a5937a-d9ad-4b28-99bc-24abcf0f55ab"
      },
      "source": [
        "# Transposing : to switch column with rows\n",
        "arr = np.arange(8)\n",
        "arr = np.reshape(arr, (4, 2))\n",
        "transposed = np.transpose(arr)\n",
        "\n",
        "print(repr(arr))\n",
        "print('arr shape: {}'.format(arr.shape))\n",
        "print(repr(transposed))\n",
        "print('flettened shape: {}'.format(transposed.shape))"
      ],
      "execution_count": null,
      "outputs": [
        {
          "output_type": "stream",
          "text": [
            "array([[0, 1],\n",
            "       [2, 3],\n",
            "       [4, 5],\n",
            "       [6, 7]])\n",
            "arr shape: (4, 2)\n",
            "array([[0, 2, 4, 6],\n",
            "       [1, 3, 5, 7]])\n",
            "flettened shape: (2, 4)\n"
          ],
          "name": "stdout"
        }
      ]
    },
    {
      "cell_type": "code",
      "metadata": {
        "colab": {
          "base_uri": "https://localhost:8080/"
        },
        "id": "5_2c07x6sT_j",
        "outputId": "4b4a7fc9-474d-490d-8c4b-8d9d40c9818d"
      },
      "source": [
        "arr = np.arange(24)\n",
        "arr = np.reshape(arr, (3, 2, 4))\n",
        "transposed = np.transpose(arr, axes=(1, 2, 0))\n",
        "print('arr shape: {}'.format(arr.shape))\n",
        "print('transposed shape: {}'.format(transposed.shape))"
      ],
      "execution_count": null,
      "outputs": [
        {
          "output_type": "stream",
          "text": [
            "arr shape: (3, 2, 4)\n",
            "transposed shape: (2, 4, 3)\n"
          ],
          "name": "stdout"
        }
      ]
    },
    {
      "cell_type": "code",
      "metadata": {
        "colab": {
          "base_uri": "https://localhost:8080/"
        },
        "id": "JKAV9PU5s9LK",
        "outputId": "c710fc31-d772-419c-bbd6-77e8ec452c80"
      },
      "source": [
        "# Zeros and ones\n",
        "arr = np.zeros(4)\n",
        "print(repr(arr))\n",
        "\n",
        "arr = np.ones((2, 3))\n",
        "print(repr(arr))\n",
        "\n",
        "arr = np.ones((2, 3), dtype=np.int32)\n",
        "print(repr(arr))"
      ],
      "execution_count": null,
      "outputs": [
        {
          "output_type": "stream",
          "text": [
            "array([0., 0., 0., 0.])\n",
            "array([[1., 1., 1.],\n",
            "       [1., 1., 1.]])\n",
            "array([[1, 1, 1],\n",
            "       [1, 1, 1]], dtype=int32)\n"
          ],
          "name": "stdout"
        }
      ]
    },
    {
      "cell_type": "code",
      "metadata": {
        "colab": {
          "base_uri": "https://localhost:8080/"
        },
        "id": "i_eF7MyptUw6",
        "outputId": "3e0debfe-3b42-4c0f-de0c-aa48557b9396"
      },
      "source": [
        "# print a table like anothers shape filled with zeros\n",
        "arr = np.array([[1, 2], [3, 4]])\n",
        "print(repr(np.zeros_like(arr)))\n",
        "\n",
        "arr = np.array([[0., 1.], [1.2, 4.]])\n",
        "print(repr(np.ones_like(arr)))\n",
        "print(repr(np.ones_like(arr, dtype=np.int32)))"
      ],
      "execution_count": null,
      "outputs": [
        {
          "output_type": "stream",
          "text": [
            "array([[0, 0],\n",
            "       [0, 0]])\n",
            "array([[1., 1.],\n",
            "       [1., 1.]])\n",
            "array([[1, 1],\n",
            "       [1, 1]], dtype=int32)\n"
          ],
          "name": "stdout"
        }
      ]
    },
    {
      "cell_type": "markdown",
      "metadata": {
        "id": "Ac5BwFzRvfup"
      },
      "source": [
        "# **MATH**"
      ]
    },
    {
      "cell_type": "code",
      "metadata": {
        "colab": {
          "base_uri": "https://localhost:8080/"
        },
        "id": "3NOFRcBrvjyn",
        "outputId": "b1f0886c-842b-420a-dea0-b9eee4e92632"
      },
      "source": [
        "# A- Arithmetic\n",
        "\n",
        "# Declare an Array\n",
        "arr = np.array([[1, 2], [2, 3]])\n",
        "\n",
        "# Add 1 to element values\n",
        "print(repr(arr + 1))\n",
        "\n",
        "# Substract element values by 1.2\n",
        "print(repr(arr - 1.2))\n",
        "\n",
        "# Double element values\n",
        "print(repr(arr * 2))\n",
        "\n",
        "# Halve element values\n",
        "print(repr(arr / 2))\n",
        "\n",
        "# Integer division (half)\n",
        "print(repr(arr // 2))\n",
        "\n",
        "# Square element values\n",
        "print(repr(arr ** 2))\n",
        "\n",
        "# Square root element values\n",
        "print(repr(arr ** 0.5))"
      ],
      "execution_count": null,
      "outputs": [
        {
          "output_type": "stream",
          "text": [
            "array([[2, 3],\n",
            "       [3, 4]])\n",
            "array([[-0.2,  0.8],\n",
            "       [ 0.8,  1.8]])\n",
            "array([[2, 4],\n",
            "       [4, 6]])\n",
            "array([[0.5, 1. ],\n",
            "       [1. , 1.5]])\n",
            "array([[0, 1],\n",
            "       [1, 1]])\n",
            "array([[1, 4],\n",
            "       [4, 9]])\n",
            "array([[1.        , 1.41421356],\n",
            "       [1.41421356, 1.73205081]])\n"
          ],
          "name": "stdout"
        }
      ]
    },
    {
      "cell_type": "code",
      "metadata": {
        "colab": {
          "base_uri": "https://localhost:8080/"
        },
        "id": "8dhBZdbLwe0m",
        "outputId": "cbdf64a4-84a8-4f8f-fbe8-fc77bf642ad8"
      },
      "source": [
        "# define a function\n",
        "def f2c(temps):\n",
        "  return(5 / 9) * (temps - 32)\n",
        "fahrenheits = np.array([32, -4, 14, -40])\n",
        "celsius = f2c(fahrenheits)\n",
        "print('Celsius: {}'.format(repr(celsius)))"
      ],
      "execution_count": null,
      "outputs": [
        {
          "output_type": "stream",
          "text": [
            "Celsius: array([  0., -20., -10., -40.])\n"
          ],
          "name": "stdout"
        }
      ]
    },
    {
      "cell_type": "code",
      "metadata": {
        "colab": {
          "base_uri": "https://localhost:8080/"
        },
        "id": "GPPmo0t-w5vW",
        "outputId": "72044d66-fe1f-49f2-c350-ac310e54d5b3"
      },
      "source": [
        "# B- Non-linear functions\n",
        "\n",
        "arr = np.array([[1, 2], [3, 4]])\n",
        "# Raised to power of e\n",
        "print(repr(np.exp(arr)))\n",
        "\n",
        "# Raised to power of 2\n",
        "print(repr(np.exp2(arr)))\n",
        "\n",
        "arr2 = np.array([[1, 10], [np.e, np.pi]])\n",
        "\n",
        "# Natural logarithm\n",
        "print(repr(np.log(arr2)))\n",
        "\n",
        "# Base 10 logarithm\n",
        "print(repr(np.log10(arr2)))"
      ],
      "execution_count": null,
      "outputs": [
        {
          "output_type": "stream",
          "text": [
            "array([[ 2.71828183,  7.3890561 ],\n",
            "       [20.08553692, 54.59815003]])\n",
            "array([[ 2.,  4.],\n",
            "       [ 8., 16.]])\n",
            "array([[0.        , 2.30258509],\n",
            "       [1.        , 1.14472989]])\n",
            "array([[0.        , 1.        ],\n",
            "       [0.43429448, 0.49714987]])\n"
          ],
          "name": "stdout"
        }
      ]
    },
    {
      "cell_type": "code",
      "metadata": {
        "colab": {
          "base_uri": "https://localhost:8080/"
        },
        "id": "RDkBihyk--rq",
        "outputId": "cad74387-0ead-4ea2-c3b7-5c9f8e26a80b"
      },
      "source": [
        "arr = np.array([[1, 2], [3, 4]])\n",
        "\n",
        "# Raise 3 to powe of each number in arr\n",
        "print(repr(np.power(3, arr)))\n",
        "\n",
        "arr2 = np.array([[10.2, 4], [3, 5]])\n",
        "# Raise arr2 to power of each number in arr\n",
        "print(repr(np.power(arr2, arr)))"
      ],
      "execution_count": null,
      "outputs": [
        {
          "output_type": "stream",
          "text": [
            "array([[ 3,  9],\n",
            "       [27, 81]])\n",
            "array([[ 10.2,  16. ],\n",
            "       [ 27. , 625. ]])\n"
          ],
          "name": "stdout"
        }
      ]
    },
    {
      "cell_type": "code",
      "metadata": {
        "colab": {
          "base_uri": "https://localhost:8080/"
        },
        "id": "UgG56gma_eo6",
        "outputId": "8462fe32-bfbf-480a-dedc-28a71e11e01c"
      },
      "source": [
        "# C- Matrix Multiplication\n",
        "\n",
        "arr1 = np.array([1, 2, 3])\n",
        "arr2 = np.array([-3, 0, 10])\n",
        "# print multuplication of 2 matrices\n",
        "print(repr(np.matmul(arr1, arr2)))\n",
        "\n",
        "arr3 = np.array([[1, 2], [3, 4], [5, 6]])\n",
        "arr4 = np.array([[-1, 0, 1], [3, 2, -4]])\n",
        "print(repr(np.matmul(arr3, arr4)))\n",
        "print(repr(np.matmul(arr4, arr3)))\n",
        "\n",
        "# This will result in valueError\n",
        "#print(repr(np.matmul(arr3, arr3)))"
      ],
      "execution_count": null,
      "outputs": [
        {
          "output_type": "stream",
          "text": [
            "27\n",
            "array([[  5,   4,  -7],\n",
            "       [  9,   8, -13],\n",
            "       [ 13,  12, -19]])\n",
            "array([[  4,   4],\n",
            "       [-11, -10]])\n"
          ],
          "name": "stdout"
        }
      ]
    },
    {
      "cell_type": "markdown",
      "metadata": {
        "id": "jqqeM2t2BwaY"
      },
      "source": [
        "# **RANDOM**"
      ]
    },
    {
      "cell_type": "code",
      "metadata": {
        "colab": {
          "base_uri": "https://localhost:8080/"
        },
        "id": "mirwfvwsBvjO",
        "outputId": "6dd79276-da46-4bf1-929c-a301804e2773"
      },
      "source": [
        "# A- Random integers\n",
        "\n",
        "print(np.random.randint(5))\n",
        "print(np.random.randint(5))\n",
        "print(np.random.randint(5, high=6))\n",
        "\n",
        "random_arr = np.random.randint(-3, high=14, size=(2, 3))\n",
        "print(repr(random_arr))"
      ],
      "execution_count": null,
      "outputs": [
        {
          "output_type": "stream",
          "text": [
            "4\n",
            "0\n",
            "5\n",
            "array([[-2, 11,  0],\n",
            "       [12, 13, 12]])\n"
          ],
          "name": "stdout"
        }
      ]
    },
    {
      "cell_type": "code",
      "metadata": {
        "colab": {
          "base_uri": "https://localhost:8080/"
        },
        "id": "yU_jTUMvCgS1",
        "outputId": "768edd76-7cd4-47f9-8064-21b192765a46"
      },
      "source": [
        "# B- Utility functions\n",
        "\n",
        "np.random.seed(1)\n",
        "print(np.random.randint(10))\n",
        "random_arr = np.random.randint(3, high=100, size=(2, 2))\n",
        "print(repr(random_arr))\n",
        "\n",
        "# New seed\n",
        "np.random.seed(2)\n",
        "print(np.random.randint(10))\n",
        "random_arr = np.random.randint(3, high=100, size=(2, 2))\n",
        "print(repr(random_arr))\n",
        "\n",
        "# Original seed\n",
        "np.random.seed(1)\n",
        "print(np.random.randint(100))\n",
        "random_arr = np.random.randint(3, high=100, size=(2, 2))\n",
        "print(repr(random_arr))"
      ],
      "execution_count": null,
      "outputs": [
        {
          "output_type": "stream",
          "text": [
            "5\n",
            "array([[15, 75],\n",
            "       [12, 78]])\n",
            "8\n",
            "array([[18, 75],\n",
            "       [25, 46]])\n",
            "37\n",
            "array([[15, 75],\n",
            "       [12, 78]])\n"
          ],
          "name": "stdout"
        }
      ]
    },
    {
      "cell_type": "code",
      "metadata": {
        "colab": {
          "base_uri": "https://localhost:8080/"
        },
        "id": "svYD544yEmG9",
        "outputId": "56fe7e5a-343d-4114-d82e-f16ea1b08034"
      },
      "source": [
        "# shuffle funtion\n",
        "\n",
        "vec = np.array([1, 2, 3, 4, 5])\n",
        "np.random.shuffle(vec)\n",
        "print(repr(vec))\n",
        "np.random.shuffle(vec)\n",
        "print(repr(vec))\n",
        "\n",
        "matrix = np.array([[1, 2, 3], [4, 5, 6], [7, 8, 9]])\n",
        "np.random.shuffle(matrix)\n",
        "print(repr(matrix))"
      ],
      "execution_count": null,
      "outputs": [
        {
          "output_type": "stream",
          "text": [
            "array([1, 5, 3, 4, 2])\n",
            "array([4, 2, 1, 5, 3])\n",
            "array([[1, 2, 3],\n",
            "       [7, 8, 9],\n",
            "       [4, 5, 6]])\n"
          ],
          "name": "stdout"
        }
      ]
    },
    {
      "cell_type": "code",
      "metadata": {
        "colab": {
          "base_uri": "https://localhost:8080/"
        },
        "id": "qXc5PoTqFG4D",
        "outputId": "8b387270-5d9b-44b8-d4c8-1860d715c8c1"
      },
      "source": [
        "# C- Distributions\n",
        "print(np.random.uniform())\n",
        "print(np.random.uniform(low=-1.5, high=2.2))\n",
        "print(repr(np.random.uniform(size=3)))\n",
        "print(repr(np.random.uniform(low=3.4, high=5.9, size=(2, 2))))\n"
      ],
      "execution_count": null,
      "outputs": [
        {
          "output_type": "stream",
          "text": [
            "0.2936141483736795\n",
            "-0.43523124723050954\n",
            "array([0.13002857, 0.01936696, 0.67883553])\n",
            "array([[3.92907029, 4.06386665],\n",
            "       [4.6289329 , 3.53340636]])\n"
          ],
          "name": "stdout"
        }
      ]
    },
    {
      "cell_type": "code",
      "metadata": {
        "colab": {
          "base_uri": "https://localhost:8080/"
        },
        "id": "fXP6wbSbF2ej",
        "outputId": "40cc1016-b84e-4b3e-c872-67ee9fa4f4f3"
      },
      "source": [
        "print(np.random.normal())\n",
        "print(np.random.normal(loc=1.5, scale=3.5))\n",
        "print(repr(np.random.normal(loc=-2.4, scale=4.0, size=(2, 2))))"
      ],
      "execution_count": null,
      "outputs": [
        {
          "output_type": "stream",
          "text": [
            "0.3001703199558275\n",
            "0.2671255372726846\n",
            "array([[-6.97007279, -3.79737089],\n",
            "       [-3.23557693, -0.05350724]])\n"
          ],
          "name": "stdout"
        }
      ]
    },
    {
      "cell_type": "code",
      "metadata": {
        "colab": {
          "base_uri": "https://localhost:8080/"
        },
        "id": "vUCdbHLcGWK6",
        "outputId": "71d410d3-ae81-4e09-fa0b-94a0de805a5f"
      },
      "source": [
        "# D- Custom sampling\n",
        "\n",
        "colors = ['red', 'blue', 'green']\n",
        "print(np.random.choice(colors))\n",
        "print(repr(np.random.choice(colors, size=2)))\n",
        "print(repr(np.random.choice(colors, size=(2, 2), p=[0.8, 0.19, 0.01])))"
      ],
      "execution_count": null,
      "outputs": [
        {
          "output_type": "stream",
          "text": [
            "green\n",
            "array(['green', 'green'], dtype='<U5')\n",
            "array([['red', 'red'],\n",
            "       ['red', 'red']], dtype='<U5')\n"
          ],
          "name": "stdout"
        }
      ]
    }
  ]
}