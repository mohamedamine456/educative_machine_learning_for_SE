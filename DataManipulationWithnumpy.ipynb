{
  "nbformat": 4,
  "nbformat_minor": 0,
  "metadata": {
    "colab": {
      "name": "DataManipulationWithnumpy.ipynb",
      "provenance": [],
      "collapsed_sections": [],
      "toc_visible": true
    },
    "kernelspec": {
      "name": "python3",
      "display_name": "Python 3"
    }
  },
  "cells": [
    {
      "cell_type": "code",
      "metadata": {
        "colab": {
          "base_uri": "https://localhost:8080/"
        },
        "id": "ctPw8cs32SoA",
        "outputId": "70be8f0b-af12-4fc6-f472-53867a3943a0"
      },
      "source": [
        "# Import NumPy Library\n",
        "import numpy as np\n",
        "\n",
        "# Initializing a NumPy array\n",
        "arr = np.array([-1, 2, 5], dtype=np.float32)\n",
        "\n",
        "# Print the representation of the array\n",
        "print(repr(arr))"
      ],
      "execution_count": 29,
      "outputs": [
        {
          "output_type": "stream",
          "text": [
            "array([-1.,  2.,  5.], dtype=float32)\n"
          ],
          "name": "stdout"
        }
      ]
    },
    {
      "cell_type": "markdown",
      "metadata": {
        "id": "pmZHepEmECSO"
      },
      "source": [
        "# **NUMPY ARRAYS**\n",
        "\n"
      ]
    },
    {
      "cell_type": "code",
      "metadata": {
        "colab": {
          "base_uri": "https://localhost:8080/"
        },
        "id": "uY1M-DdGEDlU",
        "outputId": "e59cbcf7-b962-495b-9812-658945e05b14"
      },
      "source": [
        "arr = np.array([[0, 1, 2], [3, 4, 5]], dtype=np.float32)\n",
        "\n",
        "print(repr(arr))"
      ],
      "execution_count": 30,
      "outputs": [
        {
          "output_type": "stream",
          "text": [
            "array([[0., 1., 2.],\n",
            "       [3., 4., 5.]], dtype=float32)\n"
          ],
          "name": "stdout"
        }
      ]
    },
    {
      "cell_type": "code",
      "metadata": {
        "colab": {
          "base_uri": "https://localhost:8080/"
        },
        "id": "S1MKdmW5EQTM",
        "outputId": "c04f8c8c-8ce4-4e70-d434-5860eabf524b"
      },
      "source": [
        "arr = np.array([0, 0.1, 2])\n",
        "print(repr(arr))"
      ],
      "execution_count": 31,
      "outputs": [
        {
          "output_type": "stream",
          "text": [
            "array([0. , 0.1, 2. ])\n"
          ],
          "name": "stdout"
        }
      ]
    },
    {
      "cell_type": "code",
      "metadata": {
        "colab": {
          "base_uri": "https://localhost:8080/"
        },
        "id": "G0JLqauyEXzM",
        "outputId": "adb10917-5b0d-455b-b286-96c23e9282dd"
      },
      "source": [
        "# declare two arrays\n",
        "a = np.array([0, 1])\n",
        "b = np.array([9, 8])\n",
        "# giving the adress to c\n",
        "c = a\n",
        "print('Array a: {}'.format(repr(a)))\n",
        "# changing a[0] value with changing c[0]\n",
        "c[0] = 5\n",
        "print('Array a: {}'.format(repr(a)))\n",
        "\n",
        "# copying b to d\n",
        "d = b.copy()\n",
        "d[0] = 6\n",
        "print('Array b: {}'.format(repr(b)))"
      ],
      "execution_count": 32,
      "outputs": [
        {
          "output_type": "stream",
          "text": [
            "Array a: array([0, 1])\n",
            "Array a: array([5, 1])\n",
            "Array b: array([9, 8])\n"
          ],
          "name": "stdout"
        }
      ]
    },
    {
      "cell_type": "code",
      "metadata": {
        "colab": {
          "base_uri": "https://localhost:8080/"
        },
        "id": "JnODEd3mE8Sj",
        "outputId": "d83ed327-a85c-402e-f4ce-c27aa090f0c1"
      },
      "source": [
        "# declare np array a and testing type of array\n",
        "arr = np.array([0, 1, 2])\n",
        "print(arr.dtype)\n",
        "\n",
        "# changing type\n",
        "arr = arr.astype(np.float32)\n",
        "print(arr.dtype)"
      ],
      "execution_count": 33,
      "outputs": [
        {
          "output_type": "stream",
          "text": [
            "int64\n",
            "float32\n"
          ],
          "name": "stdout"
        }
      ]
    },
    {
      "cell_type": "code",
      "metadata": {
        "colab": {
          "base_uri": "https://localhost:8080/"
        },
        "id": "JBdU2jZGFcck",
        "outputId": "ee8b7603-6063-44a2-8139-dd46c21dba90"
      },
      "source": [
        "# NaN\n",
        "arr = np.array([np.nan, 1, 2])\n",
        "print(repr(arr))\n",
        "\n",
        "arr = np.array([np.nan, 'abc'])\n",
        "print(repr(arr))\n",
        "\n",
        "# Will result in a ValueError\n",
        "# np.array([np.nan, 1, 2], dtype=np.int32)"
      ],
      "execution_count": 34,
      "outputs": [
        {
          "output_type": "stream",
          "text": [
            "array([nan,  1.,  2.])\n",
            "array(['nan', 'abc'], dtype='<U32')\n"
          ],
          "name": "stdout"
        }
      ]
    },
    {
      "cell_type": "code",
      "metadata": {
        "colab": {
          "base_uri": "https://localhost:8080/"
        },
        "id": "rhVZ_HCLGXzS",
        "outputId": "ec040da6-3a65-4337-846f-f667fed1a175"
      },
      "source": [
        "# infinity\n",
        "print(np.inf > 1000000)\n",
        "\n",
        "arr = np.array([np.inf, 5])\n",
        "print(repr(arr))\n",
        "\n",
        "arr = np.array([-np.inf, 1])\n",
        "print(repr(arr))\n",
        "\n",
        "# will result an OverflowError\n",
        "#np.array([np.inf, 3], dtype=np.int32)"
      ],
      "execution_count": 35,
      "outputs": [
        {
          "output_type": "stream",
          "text": [
            "True\n",
            "array([inf,  5.])\n",
            "array([-inf,   1.])\n"
          ],
          "name": "stdout"
        }
      ]
    },
    {
      "cell_type": "markdown",
      "metadata": {
        "id": "67j2lf4qJOBI"
      },
      "source": [
        "# **NUMPY BASICS**"
      ]
    },
    {
      "cell_type": "code",
      "metadata": {
        "id": "gOAvH0xiJNo4",
        "colab": {
          "base_uri": "https://localhost:8080/"
        },
        "outputId": "07e0b2f0-c311-4714-cce7-d7e5056346da"
      },
      "source": [
        "# A- Ranged Data\n",
        "arr = np.arange(5)\n",
        "print(repr(arr))\n",
        "\n",
        "arr = np.arange(5.1)\n",
        "print(repr(arr))\n",
        "\n",
        "arr = np.arange(-1, 4)\n",
        "print(repr(arr))\n",
        "\n",
        "arr = np.arange(-1.5, 4, 2)\n",
        "print(repr(arr))"
      ],
      "execution_count": 36,
      "outputs": [
        {
          "output_type": "stream",
          "text": [
            "array([0, 1, 2, 3, 4])\n",
            "array([0., 1., 2., 3., 4., 5.])\n",
            "array([-1,  0,  1,  2,  3])\n",
            "array([-1.5,  0.5,  2.5])\n"
          ],
          "name": "stdout"
        }
      ]
    },
    {
      "cell_type": "code",
      "metadata": {
        "colab": {
          "base_uri": "https://localhost:8080/"
        },
        "id": "4i9obMzHnJeQ",
        "outputId": "f9247920-2745-4bbf-f1f5-090ecb475bc4"
      },
      "source": [
        "arr = np.linspace(5, 11, num=4)\n",
        "print(repr(arr))\n",
        "\n",
        "arr = np.linspace(5, 11, num=4, endpoint=False)\n",
        "print(repr(arr))\n",
        "\n",
        "arr = np.linspace(5, 11, num=4, dtype=np.int32)\n",
        "print(repr(arr))"
      ],
      "execution_count": 37,
      "outputs": [
        {
          "output_type": "stream",
          "text": [
            "array([ 5.,  7.,  9., 11.])\n",
            "array([5. , 6.5, 8. , 9.5])\n",
            "array([ 5,  7,  9, 11], dtype=int32)\n"
          ],
          "name": "stdout"
        }
      ]
    },
    {
      "cell_type": "code",
      "metadata": {
        "colab": {
          "base_uri": "https://localhost:8080/"
        },
        "id": "lS0AqhSenMZH",
        "outputId": "4f5010f9-48ed-47f9-ee13-260f9d8b40f0"
      },
      "source": [
        "# B- Reshaping data\n",
        "arr = np.arange(8)\n",
        "\n",
        "reshaped_arr = np.reshape(arr, (2, 4))\n",
        "print(repr(reshaped_arr))\n",
        "print('New shape: {}'.format(reshaped_arr.shape))\n",
        "\n",
        "reshaped_arr = np.reshape(arr, (-1, 2, 2))\n",
        "print(repr(reshaped_arr))\n",
        "print('New shape: {}'.format(reshaped_arr.shape))"
      ],
      "execution_count": 38,
      "outputs": [
        {
          "output_type": "stream",
          "text": [
            "array([[0, 1, 2, 3],\n",
            "       [4, 5, 6, 7]])\n",
            "New shape: (2, 4)\n",
            "array([[[0, 1],\n",
            "        [2, 3]],\n",
            "\n",
            "       [[4, 5],\n",
            "        [6, 7]]])\n",
            "New shape: (2, 2, 2)\n"
          ],
          "name": "stdout"
        }
      ]
    },
    {
      "cell_type": "code",
      "metadata": {
        "colab": {
          "base_uri": "https://localhost:8080/"
        },
        "id": "g-dh1o6ErJ1V",
        "outputId": "6e7a9932-cd60-4a88-81b5-b11b2b93c6ea"
      },
      "source": [
        "# Flatten : to go from 2D to 1D example\n",
        "arr = np.arange(8)\n",
        "arr = np.reshape(arr, (2, 4))\n",
        "flattened = arr.flatten()\n",
        "print(repr(arr))\n",
        "print('arr shape: {}'.format(arr.shape))\n",
        "print(repr(flattened))\n",
        "print('flettened shape: {}'.format(flattened.shape))"
      ],
      "execution_count": 39,
      "outputs": [
        {
          "output_type": "stream",
          "text": [
            "array([[0, 1, 2, 3],\n",
            "       [4, 5, 6, 7]])\n",
            "arr shape: (2, 4)\n",
            "array([0, 1, 2, 3, 4, 5, 6, 7])\n",
            "flettened shape: (8,)\n"
          ],
          "name": "stdout"
        }
      ]
    },
    {
      "cell_type": "code",
      "metadata": {
        "colab": {
          "base_uri": "https://localhost:8080/"
        },
        "id": "XxA_JQ2Mrxq7",
        "outputId": "4b0ee423-a32b-4442-e9ed-51045a001a45"
      },
      "source": [
        "# Transposing : to switch column with rows\n",
        "arr = np.arange(8)\n",
        "arr = np.reshape(arr, (4, 2))\n",
        "transposed = np.transpose(arr)\n",
        "\n",
        "print(repr(arr))\n",
        "print('arr shape: {}'.format(arr.shape))\n",
        "print(repr(transposed))\n",
        "print('flettened shape: {}'.format(transposed.shape))"
      ],
      "execution_count": 40,
      "outputs": [
        {
          "output_type": "stream",
          "text": [
            "array([[0, 1],\n",
            "       [2, 3],\n",
            "       [4, 5],\n",
            "       [6, 7]])\n",
            "arr shape: (4, 2)\n",
            "array([[0, 2, 4, 6],\n",
            "       [1, 3, 5, 7]])\n",
            "flettened shape: (2, 4)\n"
          ],
          "name": "stdout"
        }
      ]
    },
    {
      "cell_type": "code",
      "metadata": {
        "colab": {
          "base_uri": "https://localhost:8080/"
        },
        "id": "5_2c07x6sT_j",
        "outputId": "18c3751c-fdb2-4382-91c3-3ec5d93d10c5"
      },
      "source": [
        "arr = np.arange(24)\n",
        "arr = np.reshape(arr, (3, 2, 4))\n",
        "transposed = np.transpose(arr, axes=(1, 2, 0))\n",
        "print('arr shape: {}'.format(arr.shape))\n",
        "print('transposed shape: {}'.format(transposed.shape))"
      ],
      "execution_count": 41,
      "outputs": [
        {
          "output_type": "stream",
          "text": [
            "arr shape: (3, 2, 4)\n",
            "transposed shape: (2, 4, 3)\n"
          ],
          "name": "stdout"
        }
      ]
    },
    {
      "cell_type": "code",
      "metadata": {
        "colab": {
          "base_uri": "https://localhost:8080/"
        },
        "id": "JKAV9PU5s9LK",
        "outputId": "b33899fe-d31e-4e1b-e954-21751218cd83"
      },
      "source": [
        "# Zeros and ones\n",
        "arr = np.zeros(4)\n",
        "print(repr(arr))\n",
        "\n",
        "arr = np.ones((2, 3))\n",
        "print(repr(arr))\n",
        "\n",
        "arr = np.ones((2, 3), dtype=np.int32)\n",
        "print(repr(arr))"
      ],
      "execution_count": 42,
      "outputs": [
        {
          "output_type": "stream",
          "text": [
            "array([0., 0., 0., 0.])\n",
            "array([[1., 1., 1.],\n",
            "       [1., 1., 1.]])\n",
            "array([[1, 1, 1],\n",
            "       [1, 1, 1]], dtype=int32)\n"
          ],
          "name": "stdout"
        }
      ]
    },
    {
      "cell_type": "code",
      "metadata": {
        "colab": {
          "base_uri": "https://localhost:8080/"
        },
        "id": "i_eF7MyptUw6",
        "outputId": "969e9e1a-1591-47b1-d28c-7dc29f14996f"
      },
      "source": [
        "# print a table like anothers shape filled with zeros\n",
        "arr = np.array([[1, 2], [3, 4]])\n",
        "print(repr(np.zeros_like(arr)))\n",
        "\n",
        "arr = np.array([[0., 1.], [1.2, 4.]])\n",
        "print(repr(np.ones_like(arr)))\n",
        "print(repr(np.ones_like(arr, dtype=np.int32)))"
      ],
      "execution_count": 43,
      "outputs": [
        {
          "output_type": "stream",
          "text": [
            "array([[0, 0],\n",
            "       [0, 0]])\n",
            "array([[1., 1.],\n",
            "       [1., 1.]])\n",
            "array([[1, 1],\n",
            "       [1, 1]], dtype=int32)\n"
          ],
          "name": "stdout"
        }
      ]
    },
    {
      "cell_type": "markdown",
      "metadata": {
        "id": "Ac5BwFzRvfup"
      },
      "source": [
        "# **MATH**"
      ]
    },
    {
      "cell_type": "code",
      "metadata": {
        "colab": {
          "base_uri": "https://localhost:8080/"
        },
        "id": "3NOFRcBrvjyn",
        "outputId": "8c09267a-5a79-4026-8166-c7e75cc1540b"
      },
      "source": [
        "# A- Arithmetic\n",
        "\n",
        "# Declare an Array\n",
        "arr = np.array([[1, 2], [2, 3]])\n",
        "\n",
        "# Add 1 to element values\n",
        "print(repr(arr + 1))\n",
        "\n",
        "# Substract element values by 1.2\n",
        "print(repr(arr - 1.2))\n",
        "\n",
        "# Double element values\n",
        "print(repr(arr * 2))\n",
        "\n",
        "# Halve element values\n",
        "print(repr(arr / 2))\n",
        "\n",
        "# Integer division (half)\n",
        "print(repr(arr // 2))\n",
        "\n",
        "# Square element values\n",
        "print(repr(arr ** 2))\n",
        "\n",
        "# Square root element values\n",
        "print(repr(arr ** 0.5))"
      ],
      "execution_count": 44,
      "outputs": [
        {
          "output_type": "stream",
          "text": [
            "array([[2, 3],\n",
            "       [3, 4]])\n",
            "array([[-0.2,  0.8],\n",
            "       [ 0.8,  1.8]])\n",
            "array([[2, 4],\n",
            "       [4, 6]])\n",
            "array([[0.5, 1. ],\n",
            "       [1. , 1.5]])\n",
            "array([[0, 1],\n",
            "       [1, 1]])\n",
            "array([[1, 4],\n",
            "       [4, 9]])\n",
            "array([[1.        , 1.41421356],\n",
            "       [1.41421356, 1.73205081]])\n"
          ],
          "name": "stdout"
        }
      ]
    },
    {
      "cell_type": "code",
      "metadata": {
        "colab": {
          "base_uri": "https://localhost:8080/"
        },
        "id": "8dhBZdbLwe0m",
        "outputId": "3af546be-c28c-4fec-c61f-c42f88082047"
      },
      "source": [
        "# define a function\n",
        "def f2c(temps):\n",
        "  return(5 / 9) * (temps - 32)\n",
        "fahrenheits = np.array([32, -4, 14, -40])\n",
        "celsius = f2c(fahrenheits)\n",
        "print('Celsius: {}'.format(repr(celsius)))"
      ],
      "execution_count": 45,
      "outputs": [
        {
          "output_type": "stream",
          "text": [
            "Celsius: array([  0., -20., -10., -40.])\n"
          ],
          "name": "stdout"
        }
      ]
    },
    {
      "cell_type": "code",
      "metadata": {
        "colab": {
          "base_uri": "https://localhost:8080/"
        },
        "id": "GPPmo0t-w5vW",
        "outputId": "1e089456-4381-4c77-e228-44d8bb644e04"
      },
      "source": [
        "# B- Non-linear functions\n",
        "\n",
        "arr = np.array([[1, 2], [3, 4]])\n",
        "# Raised to power of e\n",
        "print(repr(np.exp(arr)))\n",
        "\n",
        "# Raised to power of 2\n",
        "print(repr(np.exp2(arr)))\n",
        "\n",
        "arr2 = np.array([[1, 10], [np.e, np.pi]])\n",
        "\n",
        "# Natural logarithm\n",
        "print(repr(np.log(arr2)))\n",
        "\n",
        "# Base 10 logarithm\n",
        "print(repr(np.log10(arr2)))"
      ],
      "execution_count": 46,
      "outputs": [
        {
          "output_type": "stream",
          "text": [
            "array([[ 2.71828183,  7.3890561 ],\n",
            "       [20.08553692, 54.59815003]])\n",
            "array([[ 2.,  4.],\n",
            "       [ 8., 16.]])\n",
            "array([[0.        , 2.30258509],\n",
            "       [1.        , 1.14472989]])\n",
            "array([[0.        , 1.        ],\n",
            "       [0.43429448, 0.49714987]])\n"
          ],
          "name": "stdout"
        }
      ]
    },
    {
      "cell_type": "code",
      "metadata": {
        "colab": {
          "base_uri": "https://localhost:8080/"
        },
        "id": "RDkBihyk--rq",
        "outputId": "2eb82c1e-43be-4091-cbf1-f8dbce58a4fd"
      },
      "source": [
        "arr = np.array([[1, 2], [3, 4]])\n",
        "\n",
        "# Raise 3 to powe of each number in arr\n",
        "print(repr(np.power(3, arr)))\n",
        "\n",
        "arr2 = np.array([[10.2, 4], [3, 5]])\n",
        "# Raise arr2 to power of each number in arr\n",
        "print(repr(np.power(arr2, arr)))"
      ],
      "execution_count": 47,
      "outputs": [
        {
          "output_type": "stream",
          "text": [
            "array([[ 3,  9],\n",
            "       [27, 81]])\n",
            "array([[ 10.2,  16. ],\n",
            "       [ 27. , 625. ]])\n"
          ],
          "name": "stdout"
        }
      ]
    },
    {
      "cell_type": "code",
      "metadata": {
        "colab": {
          "base_uri": "https://localhost:8080/"
        },
        "id": "UgG56gma_eo6",
        "outputId": "ae44b20f-443f-46fa-a62e-8234ac642f0d"
      },
      "source": [
        "# C- Matrix Multiplication\n",
        "\n",
        "arr1 = np.array([1, 2, 3])\n",
        "arr2 = np.array([-3, 0, 10])\n",
        "# print multuplication of 2 matrices\n",
        "print(repr(np.matmul(arr1, arr2)))\n",
        "\n",
        "arr3 = np.array([[1, 2], [3, 4], [5, 6]])\n",
        "arr4 = np.array([[-1, 0, 1], [3, 2, -4]])\n",
        "print(repr(np.matmul(arr3, arr4)))\n",
        "print(repr(np.matmul(arr4, arr3)))\n",
        "\n",
        "# This will result in valueError\n",
        "#print(repr(np.matmul(arr3, arr3)))"
      ],
      "execution_count": 48,
      "outputs": [
        {
          "output_type": "stream",
          "text": [
            "27\n",
            "array([[  5,   4,  -7],\n",
            "       [  9,   8, -13],\n",
            "       [ 13,  12, -19]])\n",
            "array([[  4,   4],\n",
            "       [-11, -10]])\n"
          ],
          "name": "stdout"
        }
      ]
    },
    {
      "cell_type": "markdown",
      "metadata": {
        "id": "jqqeM2t2BwaY"
      },
      "source": [
        "# **RANDOM**"
      ]
    },
    {
      "cell_type": "code",
      "metadata": {
        "colab": {
          "base_uri": "https://localhost:8080/"
        },
        "id": "mirwfvwsBvjO",
        "outputId": "98c91067-f3a4-461c-d731-1af7fcacaedc"
      },
      "source": [
        "# A- Random integers\n",
        "\n",
        "print(np.random.randint(5))\n",
        "print(np.random.randint(5))\n",
        "print(np.random.randint(5, high=6))\n",
        "\n",
        "random_arr = np.random.randint(-3, high=14, size=(2, 3))\n",
        "print(repr(random_arr))"
      ],
      "execution_count": 49,
      "outputs": [
        {
          "output_type": "stream",
          "text": [
            "3\n",
            "4\n",
            "5\n",
            "array([[13, 10,  6],\n",
            "       [12, -3,  1]])\n"
          ],
          "name": "stdout"
        }
      ]
    },
    {
      "cell_type": "code",
      "metadata": {
        "colab": {
          "base_uri": "https://localhost:8080/"
        },
        "id": "yU_jTUMvCgS1",
        "outputId": "3024f767-cbfb-4b3d-d687-f3e9e8890ca8"
      },
      "source": [
        "# B- Utility functions\n",
        "\n",
        "np.random.seed(1)\n",
        "print(np.random.randint(10))\n",
        "random_arr = np.random.randint(3, high=100, size=(2, 2))\n",
        "print(repr(random_arr))\n",
        "\n",
        "# New seed\n",
        "np.random.seed(2)\n",
        "print(np.random.randint(10))\n",
        "random_arr = np.random.randint(3, high=100, size=(2, 2))\n",
        "print(repr(random_arr))\n",
        "\n",
        "# Original seed\n",
        "np.random.seed(1)\n",
        "print(np.random.randint(100))\n",
        "random_arr = np.random.randint(3, high=100, size=(2, 2))\n",
        "print(repr(random_arr))"
      ],
      "execution_count": 50,
      "outputs": [
        {
          "output_type": "stream",
          "text": [
            "5\n",
            "array([[15, 75],\n",
            "       [12, 78]])\n",
            "8\n",
            "array([[18, 75],\n",
            "       [25, 46]])\n",
            "37\n",
            "array([[15, 75],\n",
            "       [12, 78]])\n"
          ],
          "name": "stdout"
        }
      ]
    },
    {
      "cell_type": "code",
      "metadata": {
        "colab": {
          "base_uri": "https://localhost:8080/"
        },
        "id": "svYD544yEmG9",
        "outputId": "4a4f365a-70c3-48cf-91cf-d21d3a4a7cf3"
      },
      "source": [
        "# shuffle funtion\n",
        "\n",
        "vec = np.array([1, 2, 3, 4, 5])\n",
        "np.random.shuffle(vec)\n",
        "print(repr(vec))\n",
        "np.random.shuffle(vec)\n",
        "print(repr(vec))\n",
        "\n",
        "matrix = np.array([[1, 2, 3], [4, 5, 6], [7, 8, 9]])\n",
        "np.random.shuffle(matrix)\n",
        "print(repr(matrix))"
      ],
      "execution_count": 51,
      "outputs": [
        {
          "output_type": "stream",
          "text": [
            "array([3, 4, 2, 5, 1])\n",
            "array([5, 3, 4, 2, 1])\n",
            "array([[4, 5, 6],\n",
            "       [7, 8, 9],\n",
            "       [1, 2, 3]])\n"
          ],
          "name": "stdout"
        }
      ]
    },
    {
      "cell_type": "code",
      "metadata": {
        "colab": {
          "base_uri": "https://localhost:8080/"
        },
        "id": "qXc5PoTqFG4D",
        "outputId": "7e99c973-8d70-4d2e-8d7b-f299030d2598"
      },
      "source": [
        "# C- Distributions\n",
        "print(np.random.uniform())\n",
        "print(np.random.uniform(low=-1.5, high=2.2))\n",
        "print(repr(np.random.uniform(size=3)))\n",
        "print(repr(np.random.uniform(low=3.4, high=5.9, size=(2, 2))))\n"
      ],
      "execution_count": 52,
      "outputs": [
        {
          "output_type": "stream",
          "text": [
            "0.3132735169322751\n",
            "0.4408281904196243\n",
            "array([0.44345289, 0.22957721, 0.53441391])\n",
            "array([[5.68490506, 4.54301202],\n",
            "       [4.47674642, 5.74781947]])\n"
          ],
          "name": "stdout"
        }
      ]
    },
    {
      "cell_type": "code",
      "metadata": {
        "colab": {
          "base_uri": "https://localhost:8080/"
        },
        "id": "fXP6wbSbF2ej",
        "outputId": "6ed2542d-9989-4ef4-fdfd-6245f84f0432"
      },
      "source": [
        "print(np.random.normal())\n",
        "print(np.random.normal(loc=1.5, scale=3.5))\n",
        "print(repr(np.random.normal(loc=-2.4, scale=4.0, size=(2, 2))))"
      ],
      "execution_count": 53,
      "outputs": [
        {
          "output_type": "stream",
          "text": [
            "0.7252740646272712\n",
            "4.772112039383628\n",
            "array([[ 2.07318791, -2.17754724],\n",
            "       [-0.89337346, -0.89545991]])\n"
          ],
          "name": "stdout"
        }
      ]
    },
    {
      "cell_type": "code",
      "metadata": {
        "colab": {
          "base_uri": "https://localhost:8080/"
        },
        "id": "vUCdbHLcGWK6",
        "outputId": "cd4c8284-cce7-4905-d090-cc3f0f1037cb"
      },
      "source": [
        "# D- Custom sampling\n",
        "\n",
        "colors = ['red', 'blue', 'green']\n",
        "print(np.random.choice(colors))\n",
        "print(repr(np.random.choice(colors, size=2)))\n",
        "print(repr(np.random.choice(colors, size=(2, 2), p=[0.8, 0.19, 0.01])))"
      ],
      "execution_count": 59,
      "outputs": [
        {
          "output_type": "stream",
          "text": [
            "blue\n",
            "array(['red', 'green'], dtype='<U5')\n",
            "array([['red', 'red'],\n",
            "       ['red', 'blue']], dtype='<U5')\n"
          ],
          "name": "stdout"
        }
      ]
    },
    {
      "cell_type": "markdown",
      "metadata": {
        "id": "hm8nGvwDuR-O"
      },
      "source": [
        "# **INDEXING**"
      ]
    },
    {
      "cell_type": "code",
      "metadata": {
        "colab": {
          "base_uri": "https://localhost:8080/"
        },
        "id": "GBgPg7EuuVOj",
        "outputId": "28bb78d9-86ca-4a9d-ddf7-4a126522ab51"
      },
      "source": [
        "# A- Array Accessing\n",
        "\n",
        "arr = np.array([1, 2, 3, 4, 5])\n",
        "print(arr[0])\n",
        "print(arr[4])\n",
        "\n",
        "arr = np.array([[6, 3], [0, 2]])\n",
        "# Subarray\n",
        "print(repr(arr[0]))"
      ],
      "execution_count": 60,
      "outputs": [
        {
          "output_type": "stream",
          "text": [
            "1\n",
            "5\n",
            "array([6, 3])\n"
          ],
          "name": "stdout"
        }
      ]
    },
    {
      "cell_type": "code",
      "metadata": {
        "colab": {
          "base_uri": "https://localhost:8080/"
        },
        "id": "6xk5fN1Jul4q",
        "outputId": "2c428883-fff1-49c2-e62a-98200605cb8f"
      },
      "source": [
        "# B- Slicing\n",
        "\n",
        "arr = np.array([1, 2, 3, 4, 5])\n",
        "print(repr(arr[:]))\n",
        "print(repr(arr[1:]))\n",
        "print(repr(arr[2:4]))\n",
        "print(repr(arr[:-1]))\n",
        "print(repr(arr[-2:]))"
      ],
      "execution_count": 61,
      "outputs": [
        {
          "output_type": "stream",
          "text": [
            "array([1, 2, 3, 4, 5])\n",
            "array([2, 3, 4, 5])\n",
            "array([3, 4])\n",
            "array([1, 2, 3, 4])\n",
            "array([4, 5])\n"
          ],
          "name": "stdout"
        }
      ]
    },
    {
      "cell_type": "code",
      "metadata": {
        "colab": {
          "base_uri": "https://localhost:8080/"
        },
        "id": "nLwbXHYiu_vR",
        "outputId": "d68f6145-240b-418c-a51b-25c837091641"
      },
      "source": [
        "arr = np.array([[1, 2, 3],\n",
        "                [4, 5, 6],\n",
        "                [7, 8, 9]])\n",
        "print(repr(arr[:]))\n",
        "print(repr(arr[1:]))\n",
        "print(repr(arr[:, -1]))\n",
        "print(repr(arr[:, 1:]))\n",
        "print(repr(arr[0:1, 1:]))\n",
        "print(repr(arr[0, 1:]))"
      ],
      "execution_count": 65,
      "outputs": [
        {
          "output_type": "stream",
          "text": [
            "array([[1, 2, 3],\n",
            "       [4, 5, 6],\n",
            "       [7, 8, 9]])\n",
            "array([[4, 5, 6],\n",
            "       [7, 8, 9]])\n",
            "array([3, 6, 9])\n",
            "array([[2, 3],\n",
            "       [5, 6],\n",
            "       [8, 9]])\n",
            "array([[2, 3]])\n",
            "array([2, 3])\n",
            "2\n"
          ],
          "name": "stdout"
        }
      ]
    },
    {
      "cell_type": "code",
      "metadata": {
        "colab": {
          "base_uri": "https://localhost:8080/"
        },
        "id": "vQ3rNcqwveTD",
        "outputId": "0c390a33-7a00-4598-e6e4-8e39dfd12e8a"
      },
      "source": [
        "# C- Argmin and argmax\n",
        "\n",
        "arr = np.array([[-2, -1, -3],\n",
        "                [4, 5, -6],\n",
        "                [-3, 9, 1]])\n",
        "print(np.argmin(arr[0]))\n",
        "print(np.argmax(arr[2]))\n",
        "print(np.argmin(arr))"
      ],
      "execution_count": 63,
      "outputs": [
        {
          "output_type": "stream",
          "text": [
            "2\n",
            "1\n",
            "5\n"
          ],
          "name": "stdout"
        }
      ]
    },
    {
      "cell_type": "code",
      "metadata": {
        "colab": {
          "base_uri": "https://localhost:8080/"
        },
        "id": "3XB_uKbAv9fw",
        "outputId": "b7957f05-53a3-4afa-c77a-4ff1ac6fbf74"
      },
      "source": [
        "arr = np.array([[-2, -1, -3],\n",
        "                [4, 5, -6],\n",
        "                [-3, 9, -1]])\n",
        "\n",
        "print(repr(np.argmin(arr, axis=0)))\n",
        "print(repr(np.argmin(arr, axis=1)))\n",
        "print(repr(np.argmax(arr, axis=-1)))"
      ],
      "execution_count": 64,
      "outputs": [
        {
          "output_type": "stream",
          "text": [
            "array([2, 0, 1])\n",
            "array([2, 2, 0])\n",
            "array([1, 1, 1])\n"
          ],
          "name": "stdout"
        }
      ]
    },
    {
      "cell_type": "markdown",
      "metadata": {
        "id": "lDS8Cysh2RAN"
      },
      "source": [
        "# **FILTERING**"
      ]
    },
    {
      "cell_type": "code",
      "metadata": {
        "colab": {
          "base_uri": "https://localhost:8080/"
        },
        "id": "QqkYaSN52Y07",
        "outputId": "6c97fe43-b056-401f-f3e8-82f63c2f06a6"
      },
      "source": [
        "# A-filtering Data\n",
        "\n",
        "arr = np.array([[0, 2, 3],\n",
        "                [1, 3, -6],\n",
        "                [-3, -2, 1]])\n",
        "\n",
        "print(repr(arr == 3))\n",
        "print(repr(arr > 0))\n",
        "print(repr(arr != 1))\n",
        "\n",
        "# Negated from the previous step\n",
        "print(repr(~(arr != 1)))"
      ],
      "execution_count": 67,
      "outputs": [
        {
          "output_type": "stream",
          "text": [
            "array([[False, False,  True],\n",
            "       [False,  True, False],\n",
            "       [False, False, False]])\n",
            "array([[False,  True,  True],\n",
            "       [ True,  True, False],\n",
            "       [False, False,  True]])\n",
            "array([[ True,  True,  True],\n",
            "       [False,  True,  True],\n",
            "       [ True,  True, False]])\n",
            "array([[False, False, False],\n",
            "       [ True, False, False],\n",
            "       [False, False,  True]])\n"
          ],
          "name": "stdout"
        }
      ]
    },
    {
      "cell_type": "code",
      "metadata": {
        "colab": {
          "base_uri": "https://localhost:8080/"
        },
        "id": "ujGDbMe942WK",
        "outputId": "855dacf9-bcf6-417f-a723-e63625e17a7f"
      },
      "source": [
        "arr = np.array([[0, 2, np.nan],\n",
        "                [1, np.nan, 6],\n",
        "                [np.nan, -2, 1]])\n",
        "print(repr(np.isnan(arr)))"
      ],
      "execution_count": 69,
      "outputs": [
        {
          "output_type": "stream",
          "text": [
            "array([[False, False,  True],\n",
            "       [False,  True, False],\n",
            "       [ True, False, False]])\n"
          ],
          "name": "stdout"
        }
      ]
    },
    {
      "cell_type": "code",
      "metadata": {
        "colab": {
          "base_uri": "https://localhost:8080/"
        },
        "id": "cPFPHIrz5Grh",
        "outputId": "3025995f-e9ae-4243-de44-fb3320a2cc05"
      },
      "source": [
        "# B- Filtering in Numpy\n",
        "\n",
        "print(repr(np.where([True, False, True])))\n",
        "\n",
        "arr = np.array([0, 3, 5, 3, 1])\n",
        "print(repr(np.where(arr == 3)))\n",
        "\n",
        "arr = np.array([[0, 2, 3],\n",
        "                [1, 0, 0],\n",
        "                [-3, 0, 0]])\n",
        "\n",
        "x_ind, y_ind = np.where(arr != 0)\n",
        "print(repr(x_ind))      # x indices of non-zero elements\n",
        "print(repr(y_ind))      # y indices of non-zero elements\n",
        "print(repr(arr[x_ind, y_ind]))"
      ],
      "execution_count": 70,
      "outputs": [
        {
          "output_type": "stream",
          "text": [
            "(array([0, 2]),)\n",
            "(array([1, 3]),)\n",
            "array([0, 0, 1, 2])\n",
            "array([1, 2, 0, 0])\n",
            "array([ 2,  3,  1, -3])\n"
          ],
          "name": "stdout"
        }
      ]
    },
    {
      "cell_type": "code",
      "metadata": {
        "colab": {
          "base_uri": "https://localhost:8080/"
        },
        "id": "9PTW-qgL50Vp",
        "outputId": "7b1affa8-5600-4a71-9fbc-5fad261879c0"
      },
      "source": [
        "np_filter = np.array([[True, False], [False, True]])\n",
        "positives = np.array([[1, 2], [3, 4]])\n",
        "negatives = np.array([[-1, -5], [-1, -8]])\n",
        "\n",
        "print(repr(np.where(np_filter, positives, negatives)))\n",
        "\n",
        "np_filter = positives > 2\n",
        "print(repr(np.where(np_filter, positives, negatives)))\n",
        "\n",
        "np_filter = negatives > 0\n",
        "print(repr(np.where(np_filter, positives, negatives)))"
      ],
      "execution_count": 71,
      "outputs": [
        {
          "output_type": "stream",
          "text": [
            "array([[ 1, -5],\n",
            "       [-1,  4]])\n",
            "array([[-1, -5],\n",
            "       [ 3,  4]])\n",
            "array([[-1, -5],\n",
            "       [-1, -8]])\n"
          ],
          "name": "stdout"
        }
      ]
    },
    {
      "cell_type": "code",
      "metadata": {
        "colab": {
          "base_uri": "https://localhost:8080/"
        },
        "id": "U1nzE3FJ6Yfh",
        "outputId": "123feb17-ee3a-40d3-ce65-73d77c8cf123"
      },
      "source": [
        "# C- Axis-wise filtering\n",
        "\n",
        "arr = np.array([[-2, -1, -3],\n",
        "                [4, 5, -6],\n",
        "                [3, 9, 1]])\n",
        "print(repr(arr > 0))\n",
        "print(np.any(arr > 0))\n",
        "print(np.all(arr > 0))"
      ],
      "execution_count": 72,
      "outputs": [
        {
          "output_type": "stream",
          "text": [
            "array([[False, False, False],\n",
            "       [ True,  True, False],\n",
            "       [ True,  True,  True]])\n",
            "True\n",
            "False\n"
          ],
          "name": "stdout"
        }
      ]
    },
    {
      "cell_type": "code",
      "metadata": {
        "colab": {
          "base_uri": "https://localhost:8080/"
        },
        "id": "N28l9H5V6wcX",
        "outputId": "6d435085-0335-43de-be6c-145097236a51"
      },
      "source": [
        "arr = np.array([[-2, -1, -3],\n",
        "               [4, 5, -6],\n",
        "               [3, 9, 2]])\n",
        "\n",
        "has_positive = np.any(arr > 0, axis=1)\n",
        "print(has_positive)\n",
        "print(repr(arr[np.where(has_positive)]))"
      ],
      "execution_count": 74,
      "outputs": [
        {
          "output_type": "stream",
          "text": [
            "[False  True  True]\n",
            "array([[ 4,  5, -6],\n",
            "       [ 3,  9,  2]])\n"
          ],
          "name": "stdout"
        }
      ]
    },
    {
      "cell_type": "code",
      "metadata": {
        "colab": {
          "base_uri": "https://localhost:8080/"
        },
        "id": "UjPDygwIDqlf",
        "outputId": "980097b5-9cbf-4dd5-c069-aecaca427a77"
      },
      "source": [
        "help(np.where)"
      ],
      "execution_count": 75,
      "outputs": [
        {
          "output_type": "stream",
          "text": [
            "Help on function where in module numpy:\n",
            "\n",
            "where(...)\n",
            "    where(condition, [x, y])\n",
            "    \n",
            "    Return elements chosen from `x` or `y` depending on `condition`.\n",
            "    \n",
            "    .. note::\n",
            "        When only `condition` is provided, this function is a shorthand for\n",
            "        ``np.asarray(condition).nonzero()``. Using `nonzero` directly should be\n",
            "        preferred, as it behaves correctly for subclasses. The rest of this\n",
            "        documentation covers only the case where all three arguments are\n",
            "        provided.\n",
            "    \n",
            "    Parameters\n",
            "    ----------\n",
            "    condition : array_like, bool\n",
            "        Where True, yield `x`, otherwise yield `y`.\n",
            "    x, y : array_like\n",
            "        Values from which to choose. `x`, `y` and `condition` need to be\n",
            "        broadcastable to some shape.\n",
            "    \n",
            "    Returns\n",
            "    -------\n",
            "    out : ndarray\n",
            "        An array with elements from `x` where `condition` is True, and elements\n",
            "        from `y` elsewhere.\n",
            "    \n",
            "    See Also\n",
            "    --------\n",
            "    choose\n",
            "    nonzero : The function that is called when x and y are omitted\n",
            "    \n",
            "    Notes\n",
            "    -----\n",
            "    If all the arrays are 1-D, `where` is equivalent to::\n",
            "    \n",
            "        [xv if c else yv\n",
            "         for c, xv, yv in zip(condition, x, y)]\n",
            "    \n",
            "    Examples\n",
            "    --------\n",
            "    >>> a = np.arange(10)\n",
            "    >>> a\n",
            "    array([0, 1, 2, 3, 4, 5, 6, 7, 8, 9])\n",
            "    >>> np.where(a < 5, a, 10*a)\n",
            "    array([ 0,  1,  2,  3,  4, 50, 60, 70, 80, 90])\n",
            "    \n",
            "    This can be used on multidimensional arrays too:\n",
            "    \n",
            "    >>> np.where([[True, False], [True, True]],\n",
            "    ...          [[1, 2], [3, 4]],\n",
            "    ...          [[9, 8], [7, 6]])\n",
            "    array([[1, 8],\n",
            "           [3, 4]])\n",
            "    \n",
            "    The shapes of x, y, and the condition are broadcast together:\n",
            "    \n",
            "    >>> x, y = np.ogrid[:3, :4]\n",
            "    >>> np.where(x < y, x, 10 + y)  # both x and 10+y are broadcast\n",
            "    array([[10,  0,  0,  0],\n",
            "           [10, 11,  1,  1],\n",
            "           [10, 11, 12,  2]])\n",
            "    \n",
            "    >>> a = np.array([[0, 1, 2],\n",
            "    ...               [0, 2, 4],\n",
            "    ...               [0, 3, 6]])\n",
            "    >>> np.where(a < 4, a, -1)  # -1 is broadcast\n",
            "    array([[ 0,  1,  2],\n",
            "           [ 0,  2, -1],\n",
            "           [ 0,  3, -1]])\n",
            "\n"
          ],
          "name": "stdout"
        }
      ]
    },
    {
      "cell_type": "markdown",
      "metadata": {
        "id": "1aEYgi-dEzK5"
      },
      "source": [
        "# **STATISTICS**"
      ]
    },
    {
      "cell_type": "code",
      "metadata": {
        "colab": {
          "base_uri": "https://localhost:8080/"
        },
        "id": "SzuRW2pIE48e",
        "outputId": "e75f3dcf-ba82-4470-af3b-ac0555e7897c"
      },
      "source": [
        "# A- Analysis\n",
        "\n",
        "arr = np.array([[0, 72, 3],\n",
        "                [1, 3, -60],\n",
        "                [-3, -2, 4]])\n",
        "\n",
        "print(\"Min           : \", arr.min())\n",
        "print(\"Max           : \", arr.max())\n",
        "\n",
        "print(\"Representation: \", repr(arr.min(axis=0)))\n",
        "print(\"Representation: \", repr(arr.max(axis=-1)))"
      ],
      "execution_count": 78,
      "outputs": [
        {
          "output_type": "stream",
          "text": [
            "Min           :  -60\n",
            "Max           :  72\n",
            "Representation:  array([ -3,  -2, -60])\n",
            "Representation:  array([72,  3,  4])\n"
          ],
          "name": "stdout"
        }
      ]
    },
    {
      "cell_type": "code",
      "metadata": {
        "colab": {
          "base_uri": "https://localhost:8080/"
        },
        "id": "aZRFJKcIFXi9",
        "outputId": "24c008e0-76b1-48d6-8406-fe9ae5976a49"
      },
      "source": [
        "# B- Statistical Metrics\n",
        "\n",
        "arr = np.array([[0, 72, 3],\n",
        "                [1, 3, -60],\n",
        "                [-3, -2, 4]])\n",
        "print(\"Mean          : \", np.mean(arr))\n",
        "print(\"Var           : \", np.var(arr))\n",
        "print(\"Median        : \", np.median(arr))\n",
        "print(\"Representation: \", repr(np.median(arr, axis=-1)))"
      ],
      "execution_count": 79,
      "outputs": [
        {
          "output_type": "stream",
          "text": [
            "Mean          :  2.0\n",
            "Var           :  977.3333333333334\n",
            "Median        :  1.0\n",
            "Representation:  array([ 3.,  1., -2.])\n"
          ],
          "name": "stdout"
        }
      ]
    },
    {
      "cell_type": "markdown",
      "metadata": {
        "id": "-FNwUuMMG0kQ"
      },
      "source": [
        "# **AGGREGATION**"
      ]
    },
    {
      "cell_type": "code",
      "metadata": {
        "colab": {
          "base_uri": "https://localhost:8080/"
        },
        "id": "opRRu1BjG7Pa",
        "outputId": "65d2f4c2-abab-44c9-b5a6-33e071b6baec"
      },
      "source": [
        "# A- Summation\n",
        "\n",
        "arr = np.array([[0, 72, 3],\n",
        "                [1, 3, -60],\n",
        "                [-3, -2, 4]])\n",
        "\n",
        "print(\"SUM arr                   : \", np.sum(arr))\n",
        "print(\"Representation SUM axis=0 : \", repr(np.sum(arr, axis=0)))\n",
        "print(\"Representation SUM axis=1 : \", repr(np.sum(arr, axis=1)))"
      ],
      "execution_count": 81,
      "outputs": [
        {
          "output_type": "stream",
          "text": [
            "SUM arr                   :  18\n",
            "Representation SUM axis=0 :  array([ -2,  73, -53])\n",
            "Representation SUM axis=1 :  array([ 75, -56,  -1])\n"
          ],
          "name": "stdout"
        }
      ]
    },
    {
      "cell_type": "code",
      "metadata": {
        "colab": {
          "base_uri": "https://localhost:8080/"
        },
        "id": "bPUdXLUPIlxS",
        "outputId": "e7aac7ea-0531-4694-b921-215c6a469013"
      },
      "source": [
        "arr = np.array([[0, 72, 3],\n",
        "                [1, 3, -60],\n",
        "                [-3, -2, 4]])\n",
        "print(\"Representation cumsum        : \", repr(np.cumsum(arr)))\n",
        "print(\"Representation cumsum axis=0 : \", repr(np.cumsum(arr, axis=0)))\n",
        "print(\"Representation cumsum axis=1 : \", repr(np.cumsum(arr, axis=1)))"
      ],
      "execution_count": 82,
      "outputs": [
        {
          "output_type": "stream",
          "text": [
            "Representation cumsum        :  array([ 0, 72, 75, 76, 79, 19, 16, 14, 18])\n",
            "Representation cumsum axis=0 :  array([[  0,  72,   3],\n",
            "       [  1,  75, -57],\n",
            "       [ -2,  73, -53]])\n",
            "Representation cumsum axis=1 :  array([[  0,  72,  75],\n",
            "       [  1,   4, -56],\n",
            "       [ -3,  -5,  -1]])\n"
          ],
          "name": "stdout"
        }
      ]
    },
    {
      "cell_type": "code",
      "metadata": {
        "colab": {
          "base_uri": "https://localhost:8080/"
        },
        "id": "LbOTgVP-IgC7",
        "outputId": "43e9295b-f088-4828-8d42-91c25a20d6d1"
      },
      "source": [
        "# B- concatenation\n",
        "\n",
        "arr1 = np.array([[0, 72, 3],\n",
        "                [1, 3, -60],\n",
        "                [-3, -2, 4]])\n",
        "arr2 = np.array([[-15, 6, 1],\n",
        "                [8, 9, -4],\n",
        "                [5, -21, 18]])\n",
        "print(\"Representation of Concatenation arr1 and arr2        : \", repr(np.concatenate([arr1, arr2])))\n",
        "print(\"Representation of Concatenation arr1 and arr2 axis=1 : \", repr(np.concatenate([arr1, arr2], axis=1)))\n",
        "print(\"Representation of Concatenation arr2 and arr1 axis=1 : \", repr(np.concatenate([arr2, arr1], axis=1)))"
      ],
      "execution_count": 83,
      "outputs": [
        {
          "output_type": "stream",
          "text": [
            "Representation of Concatenation arr1 and arr2        :  array([[  0,  72,   3],\n",
            "       [  1,   3, -60],\n",
            "       [ -3,  -2,   4],\n",
            "       [-15,   6,   1],\n",
            "       [  8,   9,  -4],\n",
            "       [  5, -21,  18]])\n",
            "Representation of Concatenation arr1 and arr2 axis=1 :  array([[  0,  72,   3, -15,   6,   1],\n",
            "       [  1,   3, -60,   8,   9,  -4],\n",
            "       [ -3,  -2,   4,   5, -21,  18]])\n",
            "Representation of Concatenation arr2 and arr1 axis=1 :  array([[-15,   6,   1,   0,  72,   3],\n",
            "       [  8,   9,  -4,   1,   3, -60],\n",
            "       [  5, -21,  18,  -3,  -2,   4]])\n"
          ],
          "name": "stdout"
        }
      ]
    },
    {
      "cell_type": "markdown",
      "metadata": {
        "id": "fjkLyXl3NtDR"
      },
      "source": [
        "# **SAVING DATA**"
      ]
    },
    {
      "cell_type": "code",
      "metadata": {
        "id": "j_TetHn0NvhE"
      },
      "source": [
        "# A- Saving\n",
        "\n",
        "arr = np.array([5, 6, 3])\n",
        "\n",
        "# Saves to arr.npy\n",
        "np.save('arr.npy', arr)\n",
        "\n",
        "# Also saves to 'arr.npy'\n",
        "#np.save('arr', arr)"
      ],
      "execution_count": 89,
      "outputs": []
    },
    {
      "cell_type": "code",
      "metadata": {
        "colab": {
          "base_uri": "https://localhost:8080/"
        },
        "id": "Eh8vAXTXOJB8",
        "outputId": "27715e1b-0f14-4b3d-a1be-1fafeff76f8f"
      },
      "source": [
        "# B- Loading\n",
        "\n",
        "arr = np.array([1, 2,3])\n",
        "np.save('arr.npy', arr)\n",
        "\n",
        "load_arr = np.load('arr.npy')\n",
        "\n",
        "print(\"Representation of loaded arr : \", repr(load_arr))\n",
        "\n",
        "# Will result a FileNotFound\n",
        "#load_arr = np.load('arr')"
      ],
      "execution_count": 91,
      "outputs": [
        {
          "output_type": "stream",
          "text": [
            "Representation of loaded arr :  array([1, 2, 3])\n"
          ],
          "name": "stdout"
        }
      ]
    }
  ]
}