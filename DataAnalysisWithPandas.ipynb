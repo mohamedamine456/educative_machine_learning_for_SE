{
  "nbformat": 4,
  "nbformat_minor": 0,
  "metadata": {
    "colab": {
      "name": "DataAnalysisWithPandas.ipynb",
      "provenance": [],
      "collapsed_sections": [],
      "toc_visible": true
    },
    "kernelspec": {
      "name": "python3",
      "display_name": "Python 3"
    }
  },
  "cells": [
    {
      "cell_type": "markdown",
      "metadata": {
        "id": "ZYgUr14tvuxJ"
      },
      "source": [
        "# **SERIES**"
      ]
    },
    {
      "cell_type": "code",
      "metadata": {
        "id": "86CWLavQv29F"
      },
      "source": [
        "# import pandas library\n",
        "import pandas as pd\n",
        "\n",
        "#import numpy library\n",
        "import numpy as np\n",
        "\n",
        "# import pyplot from matplotlib\n",
        "import matplotlib.pyplot as plt"
      ],
      "execution_count": 15,
      "outputs": []
    },
    {
      "cell_type": "code",
      "metadata": {
        "id": "DxSPUVvcRFC8",
        "colab": {
          "base_uri": "https://localhost:8080/"
        },
        "outputId": "ae703d3a-9d53-4947-bdc1-5cff1f874bcc"
      },
      "source": [
        "# A- 1-D data\n",
        "\n",
        "series = pd.Series()\n",
        "# Newline to separate series print statement\n",
        "print('{}\\n'.format(series))\n",
        "\n",
        "series = pd.Series(5)\n",
        "print('{}\\n'.format(series))\n",
        "\n",
        "series = pd.Series([1, 2, 3])\n",
        "print('{}\\n'.format(series))\n",
        "\n",
        "series = pd.Series([1, 2.2])      # upcasting\n",
        "print('{}\\n'.format(series))\n",
        "\n",
        "arr = np.array([1, 2])\n",
        "series = pd.Series(arr, dtype=np.float32)\n",
        "print('{}\\n'.format(series))\n",
        "\n",
        "series = pd.Series([[1, 2], [3, 4]])\n",
        "print('{}\\n'.format(series))"
      ],
      "execution_count": null,
      "outputs": [
        {
          "output_type": "stream",
          "text": [
            "Series([], dtype: float64)\n",
            "\n",
            "0    5\n",
            "dtype: int64\n",
            "\n",
            "0    1\n",
            "1    2\n",
            "2    3\n",
            "dtype: int64\n",
            "\n",
            "0    1.0\n",
            "1    2.2\n",
            "dtype: float64\n",
            "\n",
            "0    1.0\n",
            "1    2.0\n",
            "dtype: float32\n",
            "\n",
            "0    [1, 2]\n",
            "1    [3, 4]\n",
            "dtype: object\n",
            "\n"
          ],
          "name": "stdout"
        },
        {
          "output_type": "stream",
          "text": [
            "/usr/local/lib/python3.6/dist-packages/ipykernel_launcher.py:3: DeprecationWarning: The default dtype for empty Series will be 'object' instead of 'float64' in a future version. Specify a dtype explicitly to silence this warning.\n",
            "  This is separate from the ipykernel package so we can avoid doing imports until\n"
          ],
          "name": "stderr"
        }
      ]
    },
    {
      "cell_type": "code",
      "metadata": {
        "colab": {
          "base_uri": "https://localhost:8080/"
        },
        "id": "d7a3bM8fxC7D",
        "outputId": "bf569323-e489-46a5-900f-5f728a7c8f05"
      },
      "source": [
        "# B- Index\n",
        "\n",
        "series = pd.Series([1, 2, 3], index=['a', 'b', 'c'])\n",
        "print('{}\\n'.format(series))\n",
        "\n",
        "series = pd.Series([1, 2, 3], index=['a', 8, 0.3])\n",
        "print('{}\\n'.format(series))"
      ],
      "execution_count": null,
      "outputs": [
        {
          "output_type": "stream",
          "text": [
            "a    1\n",
            "b    2\n",
            "c    3\n",
            "dtype: int64\n",
            "\n",
            "a      1\n",
            "8      2\n",
            "0.3    3\n",
            "dtype: int64\n",
            "\n"
          ],
          "name": "stdout"
        }
      ]
    },
    {
      "cell_type": "code",
      "metadata": {
        "colab": {
          "base_uri": "https://localhost:8080/"
        },
        "id": "2jRwJZRVxfEA",
        "outputId": "e8fbb632-0c52-401e-9220-4da030365421"
      },
      "source": [
        "# C- Dictionary Input\n",
        "\n",
        "series = pd.Series({'a': 1, 'b': 2, 'c': 3})\n",
        "print('{}\\n'.format(series))\n",
        "\n",
        "series = pd.Series({'b': 2, 'a': 1, 'c':3})\n",
        "print('{}\\n'.format(series))"
      ],
      "execution_count": null,
      "outputs": [
        {
          "output_type": "stream",
          "text": [
            "a    1\n",
            "b    2\n",
            "c    3\n",
            "dtype: int64\n",
            "\n",
            "b    2\n",
            "a    1\n",
            "c    3\n",
            "dtype: int64\n",
            "\n"
          ],
          "name": "stdout"
        }
      ]
    },
    {
      "cell_type": "markdown",
      "metadata": {
        "id": "cC4DYHgDym7Q"
      },
      "source": [
        "# **DATA FRAME**"
      ]
    },
    {
      "cell_type": "code",
      "metadata": {
        "colab": {
          "base_uri": "https://localhost:8080/"
        },
        "id": "HkSfuBY_yrNO",
        "outputId": "b4564f78-691a-4645-a5c4-6c50e682e00c"
      },
      "source": [
        "# A- 2-D data\n",
        "\n",
        "df = pd.DataFrame()\n",
        "# Newline added to separate DataFrames\n",
        "print('{}\\n'.format(df))\n",
        "\n",
        "df = pd.DataFrame([5, 6])\n",
        "print('{}\\n'.format(df))\n",
        "\n",
        "df = pd.DataFrame([[5, 6]])\n",
        "print('{}\\n'.format(df))\n",
        "\n",
        "df = pd.DataFrame([[5, 6], [1, 3]],\n",
        "                  index = ['r1', 'r2'],\n",
        "                  columns=['c1', 'c2'])\n",
        "print('{}\\n'.format(df))\n",
        "\n",
        "df = pd.DataFrame({'c1': [1, 2], 'c2': [3, 4]},\n",
        "                  index=['r1', 'r2'])\n",
        "print('{}\\n'.format(df))\n"
      ],
      "execution_count": null,
      "outputs": [
        {
          "output_type": "stream",
          "text": [
            "Empty DataFrame\n",
            "Columns: []\n",
            "Index: []\n",
            "\n",
            "   0\n",
            "0  5\n",
            "1  6\n",
            "\n",
            "   0  1\n",
            "0  5  6\n",
            "\n",
            "    c1  c2\n",
            "r1   5   6\n",
            "r2   1   3\n",
            "\n",
            "    c1  c2\n",
            "r1   1   3\n",
            "r2   2   4\n",
            "\n"
          ],
          "name": "stdout"
        }
      ]
    },
    {
      "cell_type": "code",
      "metadata": {
        "colab": {
          "base_uri": "https://localhost:8080/"
        },
        "id": "dLbaetf3z4oG",
        "outputId": "7148e20f-07b6-448d-db74-470987f2011d"
      },
      "source": [
        "# B- Upcasting\n",
        "\n",
        "upcast = pd.DataFrame([[5, 6], [1.2, 3]])\n",
        "print('{}\\n'.format(upcast))\n",
        "# Datatypes of each column\n",
        "print(upcast.dtypes)"
      ],
      "execution_count": null,
      "outputs": [
        {
          "output_type": "stream",
          "text": [
            "     0  1\n",
            "0  5.0  6\n",
            "1  1.2  3\n",
            "\n",
            "0    float64\n",
            "1      int64\n",
            "dtype: object\n"
          ],
          "name": "stdout"
        }
      ]
    },
    {
      "cell_type": "code",
      "metadata": {
        "colab": {
          "base_uri": "https://localhost:8080/"
        },
        "id": "8LC5kbl20Vc9",
        "outputId": "cb2f88a9-abbb-4971-e3de-d235a0e3c490"
      },
      "source": [
        "# C- Appending rows\n",
        "\n",
        "df = pd.DataFrame([[5, 6], [1.2, 3]])\n",
        "ser = pd.Series([0, 0], name='r3')\n",
        "\n",
        "df_app = df.append(ser)\n",
        "print('{}\\n'.format(df_app))\n",
        "\n",
        "df_app = df.append(ser, ignore_index=True)\n",
        "print('{}\\n'.format(df_app))\n",
        "\n",
        "df2 = pd.DataFrame([[0, 0], [9, 9]])\n",
        "df_app = df.append(df2)\n",
        "print('{}\\n'.format(df_app))"
      ],
      "execution_count": null,
      "outputs": [
        {
          "output_type": "stream",
          "text": [
            "      0  1\n",
            "0   5.0  6\n",
            "1   1.2  3\n",
            "r3  0.0  0\n",
            "\n",
            "     0  1\n",
            "0  5.0  6\n",
            "1  1.2  3\n",
            "2  0.0  0\n",
            "\n",
            "     0  1\n",
            "0  5.0  6\n",
            "1  1.2  3\n",
            "0  0.0  0\n",
            "1  9.0  9\n",
            "\n"
          ],
          "name": "stdout"
        }
      ]
    },
    {
      "cell_type": "code",
      "metadata": {
        "colab": {
          "base_uri": "https://localhost:8080/"
        },
        "id": "CCxlBk1z1Qz1",
        "outputId": "cab51bbc-ab60-4cbb-a59c-35e541f74aca"
      },
      "source": [
        "# D- Dropping Data\n",
        "\n",
        "df = pd.DataFrame({'c1': [1, 2], 'c2': [3, 4],\n",
        "                   'c3': [5, 6]}, index=['r1', 'r2'])\n",
        "\n",
        "# Drop row r1\n",
        "df_drop = df.drop(labels='r1')\n",
        "print('{}\\n'.format(df_drop))\n",
        "\n",
        "# Drop culumns c1, c3\n",
        "#df_drop = df.drop(columns=['c1', 'c3'])\n",
        "# or \n",
        "df_drop = df.drop(labels=['c1', 'c3'], axis=1)\n",
        "print('{}\\n'.format(df_drop))\n",
        "\n",
        "df_drop = df.drop(index='r2')\n",
        "print('{}\\n'.format(df_drop))\n",
        "\n",
        "df_drop = df.drop(columns='c2')\n",
        "print('{}\\n'.format(df_drop))\n",
        "\n",
        "df_drop = df.drop(index='r2', columns='c2')\n",
        "print('{}\\n'.format(df_drop))"
      ],
      "execution_count": null,
      "outputs": [
        {
          "output_type": "stream",
          "text": [
            "    c1  c2  c3\n",
            "r2   2   4   6\n",
            "\n",
            "    c2\n",
            "r1   3\n",
            "r2   4\n",
            "\n",
            "    c1  c2  c3\n",
            "r1   1   3   5\n",
            "\n",
            "    c1  c3\n",
            "r1   1   5\n",
            "r2   2   6\n",
            "\n",
            "    c1  c3\n",
            "r1   1   5\n",
            "\n"
          ],
          "name": "stdout"
        }
      ]
    },
    {
      "cell_type": "markdown",
      "metadata": {
        "id": "Fs-UlhAV4qz8"
      },
      "source": [
        "# **COMBINING**"
      ]
    },
    {
      "cell_type": "code",
      "metadata": {
        "colab": {
          "base_uri": "https://localhost:8080/"
        },
        "id": "HNrFzcYc4tVK",
        "outputId": "378d00cc-5cda-438f-c1d2-37e0674f5751"
      },
      "source": [
        "# A- Combining\n",
        "\n",
        "df1 = pd.DataFrame({'c1': [1, 2], 'c2': [3, 4]},\n",
        "                    index = ['r1', 'r2'])\n",
        "\n",
        "df2 = pd.DataFrame({'c1': [5, 6], 'c2': [7, 8]},\n",
        "                   index = ['r1', 'r2'])\n",
        "df3 = pd.DataFrame({'c1': [5, 6], 'c2': [7, 8]})\n",
        "\n",
        "concat = pd.concat([df1, df2], axis = 1)\n",
        "print('{}\\n'.format(concat))\n",
        "\n",
        "concat = pd.concat([df2, df1, df3])\n",
        "print('{}\\n'.format(concat))\n",
        "\n",
        "\n",
        "concat = pd.concat([df1, df3], axis=1)\n",
        "print('{}\\n'.format(concat))"
      ],
      "execution_count": null,
      "outputs": [
        {
          "output_type": "stream",
          "text": [
            "    c1  c2  c1  c2\n",
            "r1   1   3   5   7\n",
            "r2   2   4   6   8\n",
            "\n",
            "    c1  c2\n",
            "r1   5   7\n",
            "r2   6   8\n",
            "r1   1   3\n",
            "r2   2   4\n",
            "0    5   7\n",
            "1    6   8\n",
            "\n",
            "     c1   c2   c1   c2\n",
            "r1  1.0  3.0  NaN  NaN\n",
            "r2  2.0  4.0  NaN  NaN\n",
            "0   NaN  NaN  5.0  7.0\n",
            "1   NaN  NaN  6.0  8.0\n",
            "\n"
          ],
          "name": "stdout"
        }
      ]
    },
    {
      "cell_type": "code",
      "metadata": {
        "colab": {
          "base_uri": "https://localhost:8080/"
        },
        "id": "4OICVjqLBiFN",
        "outputId": "12cacee5-a128-4392-93ef-f8c0c413b556"
      },
      "source": [
        "# B- Merging\n",
        "\n",
        "mlb_df1 = pd.DataFrame({'name': ['john doe', 'al smith', 'sam black', 'john doe'],\n",
        "                        'pos': ['1B', 'C', 'P', '2B'],\n",
        "                        'year': [2000, 2004, 2008, 2003]})\n",
        "\n",
        "mlb_df2 = pd.DataFrame({'name': ['john doe', 'al smith', 'jack lee'],\n",
        "                        'year': [2000, 2004, 2012],\n",
        "                        'rbi': [80, 100, 12]})\n",
        "\n",
        "print('{}\\n'.format(mlb_df1))\n",
        "print('{}\\n'.format(mlb_df2))\n",
        "\n",
        "mlb_merged = pd.merge(mlb_df1, mlb_df2)\n",
        "print('{}\\n'.format(mlb_merged))"
      ],
      "execution_count": null,
      "outputs": [
        {
          "output_type": "stream",
          "text": [
            "        name pos  year\n",
            "0   john doe  1B  2000\n",
            "1   al smith   C  2004\n",
            "2  sam black   P  2008\n",
            "3   john doe  2B  2003\n",
            "\n",
            "       name  year  rbi\n",
            "0  john doe  2000   80\n",
            "1  al smith  2004  100\n",
            "2  jack lee  2012   12\n",
            "\n",
            "       name pos  year  rbi\n",
            "0  john doe  1B  2000   80\n",
            "1  al smith   C  2004  100\n",
            "\n"
          ],
          "name": "stdout"
        }
      ]
    },
    {
      "cell_type": "markdown",
      "metadata": {
        "id": "OeO0LEnRDJLl"
      },
      "source": [
        "# **INDEXING**"
      ]
    },
    {
      "cell_type": "code",
      "metadata": {
        "colab": {
          "base_uri": "https://localhost:8080/"
        },
        "id": "rkXxK03BDL5r",
        "outputId": "ab6a4bd1-463b-4698-f319-b7eb3362a806"
      },
      "source": [
        "# A- Direct Indexing\n",
        "\n",
        "df = pd.DataFrame({'c1': [1, 2], 'c2': [3, 4],\n",
        "                   'c3': [5, 6]}, index = ['r1', 'r2'])\n",
        "\n",
        "col1 = df['c2']\n",
        "print('{}\\n'.format(col1))\n",
        "\n",
        "col1_df = df[['c1']]\n",
        "print('{}\\n'.format(col1_df))\n",
        "\n",
        "col23 = df[['c2', 'c3']]\n",
        "print('{}\\n'.format(col23))"
      ],
      "execution_count": null,
      "outputs": [
        {
          "output_type": "stream",
          "text": [
            "r1    3\n",
            "r2    4\n",
            "Name: c2, dtype: int64\n",
            "\n",
            "    c1\n",
            "r1   1\n",
            "r2   2\n",
            "\n",
            "    c2  c3\n",
            "r1   3   5\n",
            "r2   4   6\n",
            "\n"
          ],
          "name": "stdout"
        }
      ]
    },
    {
      "cell_type": "code",
      "metadata": {
        "colab": {
          "base_uri": "https://localhost:8080/"
        },
        "id": "3IyfyfJEEc01",
        "outputId": "b0801c05-3ba0-4aa0-e534-974084e0a3d7"
      },
      "source": [
        "df = pd.DataFrame({'c1': [1, 2, 3], 'c2': [4, 5, 6],\n",
        "                   'c3': [7, 8, 9]}, index = ['r1', 'r2', 'r3'])\n",
        "\n",
        "print('{}\\n'.format(df))\n",
        "\n",
        "first_two_rows = df[0:2]\n",
        "print('{}\\n'.format(first_two_rows))\n",
        "\n",
        "last_two_rows = df['r2': 'r3']\n",
        "print('{}\\n'.format(last_two_rows))\n",
        "\n",
        "# Result in KeyError\n",
        "#df['r1']"
      ],
      "execution_count": null,
      "outputs": [
        {
          "output_type": "stream",
          "text": [
            "    c1  c2  c3\n",
            "r1   1   4   7\n",
            "r2   2   5   8\n",
            "r3   3   6   9\n",
            "\n",
            "    c1  c2  c3\n",
            "r1   1   4   7\n",
            "r2   2   5   8\n",
            "\n",
            "    c1  c2  c3\n",
            "r2   2   5   8\n",
            "r3   3   6   9\n",
            "\n"
          ],
          "name": "stdout"
        }
      ]
    },
    {
      "cell_type": "code",
      "metadata": {
        "colab": {
          "base_uri": "https://localhost:8080/"
        },
        "id": "ZnoIBvFiFROj",
        "outputId": "6c72a3f1-d8aa-4748-9ad7-96f37e1a5f7c"
      },
      "source": [
        "# B- Other indexing\n",
        "\n",
        "df = pd.DataFrame({'c1': [1, 2, 3], 'c2': [4, 5, 6],\n",
        "                   'c3': [7, 8, 9]}, index = ['r1', 'r2', 'r3'])\n",
        "\n",
        "print('{}\\n'.format(df))\n",
        "\n",
        "print('{}\\n'.format(df.iloc[1]))\n",
        "\n",
        "print('{}\\n'.format(df.iloc[[0, 2]]))\n",
        "\n",
        "bool_list = [False, True, True]\n",
        "print('{}\\n'.format(df.iloc[bool_list]))"
      ],
      "execution_count": null,
      "outputs": [
        {
          "output_type": "stream",
          "text": [
            "    c1  c2  c3\n",
            "r1   1   4   7\n",
            "r2   2   5   8\n",
            "r3   3   6   9\n",
            "\n",
            "c1    2\n",
            "c2    5\n",
            "c3    8\n",
            "Name: r2, dtype: int64\n",
            "\n",
            "    c1  c2  c3\n",
            "r1   1   4   7\n",
            "r3   3   6   9\n",
            "\n",
            "    c1  c2  c3\n",
            "r2   2   5   8\n",
            "r3   3   6   9\n",
            "\n"
          ],
          "name": "stdout"
        }
      ]
    },
    {
      "cell_type": "code",
      "metadata": {
        "colab": {
          "base_uri": "https://localhost:8080/"
        },
        "id": "TzdW1qecF3dR",
        "outputId": "1cef87e4-8d66-4e2c-8ebc-56e0ebb795e1"
      },
      "source": [
        "df = pd.DataFrame({'c1': [1, 2, 3], 'c2': [4, 5, 6],\n",
        "                   'c3': [7, 8, 9]}, index = ['r1', 'r2', 'r3'])\n",
        "\n",
        "print('{}\\n'.format(df))\n",
        "\n",
        "print('{}\\n'.format(df.loc['r2']))\n",
        "\n",
        "bool_list = [False, True, True]\n",
        "print('{}\\n'.format(df.loc[bool_list]))\n",
        "\n",
        "signal_val = df.loc['r1', 'c2']\n",
        "print('Signal val: {}\\n'.format(signal_val))\n",
        "\n",
        "print('{}\\n'.format(df.loc[['r1', 'r3'], 'c2']))\n",
        "\n",
        "df.loc[['r1', 'r3'], 'c2'] = 0\n",
        "print('{}\\n'.format(df))"
      ],
      "execution_count": null,
      "outputs": [
        {
          "output_type": "stream",
          "text": [
            "    c1  c2  c3\n",
            "r1   1   4   7\n",
            "r2   2   5   8\n",
            "r3   3   6   9\n",
            "\n",
            "c1    2\n",
            "c2    5\n",
            "c3    8\n",
            "Name: r2, dtype: int64\n",
            "\n",
            "    c1  c2  c3\n",
            "r2   2   5   8\n",
            "r3   3   6   9\n",
            "\n",
            "Signal val: 4\n",
            "\n",
            "r1    4\n",
            "r3    6\n",
            "Name: c2, dtype: int64\n",
            "\n",
            "    c1  c2  c3\n",
            "r1   1   0   7\n",
            "r2   2   5   8\n",
            "r3   3   0   9\n",
            "\n"
          ],
          "name": "stdout"
        }
      ]
    },
    {
      "cell_type": "markdown",
      "metadata": {
        "id": "Ci97FZhOIFL6"
      },
      "source": [
        "# **FILE I/O**"
      ]
    },
    {
      "cell_type": "code",
      "metadata": {
        "colab": {
          "base_uri": "https://localhost:8080/"
        },
        "id": "8lRiqa3lIIHu",
        "outputId": "22c086ab-490b-41e8-faa2-08ac7ce86f32"
      },
      "source": [
        "# A- reading Data\n",
        "# CSV\n",
        "\n",
        "# data.csv contains baseball data\n",
        "df = pd.read_csv('data.csv')\n",
        "print('{}\\n'.format(df))\n",
        "\n",
        "df = pd.read_csv('data.csv', index_col=0)\n",
        "print('{}\\n'.format(df))\n",
        "\n",
        "df = pd.read_csv('data.csv', index_col=1)\n",
        "print('{}\\n'.format(df))"
      ],
      "execution_count": null,
      "outputs": [
        {
          "output_type": "stream",
          "text": [
            "   HR       name pos\n",
            "0  17  joe smith  2B\n",
            "1  28  alan west   C\n",
            "2  19   john doe   P\n",
            "\n",
            "         name pos\n",
            "HR               \n",
            "17  joe smith  2B\n",
            "28  alan west   C\n",
            "19   john doe   P\n",
            "\n",
            "           HR pos\n",
            "name             \n",
            "joe smith  17  2B\n",
            "alan west  28   C\n",
            "john doe   19   P\n",
            "\n"
          ],
          "name": "stdout"
        }
      ]
    },
    {
      "cell_type": "code",
      "metadata": {
        "id": "ruq9SCOgO1Rx"
      },
      "source": [
        "# EXECL. (need files to do that)\n",
        "\n",
        "# data.xlsv contains baseball data\n",
        "fd = pd.read_excel('data.xlsx')\n",
        "print('{}\\n'.format(df))\n",
        "\n",
        "# sheet 1\n",
        "print('sheet 1 (0-indexed) dataFrame:')\n",
        "df = pd.read_excel('data.xlsx', sheet_name=1)\n",
        "print('{}\\n'.format(df))\n",
        "\n",
        "# sheet MIL\n",
        "print('MIL DataFrame:')\n",
        "df = pd.read_excel('data.xlsx', sheet_name='MIL')\n",
        "print('{}\\n'.format(df))\n",
        "\n",
        "# sheet 0 and 1\n",
        "print('sheet 1 (0-indexed) dataFrame:')\n",
        "df = pd.read_excel('data.xlsx', sheet_name=[0, 1])\n",
        "print('{}\\n'.format(df))\n",
        "\n",
        "# All sheets\n",
        "df_dict = pd.read_excel('data.xlsx', sheet_name=None)\n",
        "print('{}\\n'.format(df))"
      ],
      "execution_count": null,
      "outputs": []
    },
    {
      "cell_type": "code",
      "metadata": {
        "id": "iH4Kq0siS94W"
      },
      "source": [
        "# JSON. (need files to do that)\n",
        "\n",
        "# data is the JSON data(as Python dict)\n",
        "print('{}\\n'.format(data))\n",
        "\n",
        "df1 = pd.read_json('data.json')\n",
        "print('{}\\n'.format(df1))\n",
        "\n",
        "df2 = pd.read_json('data.json', orient='index')\n",
        "print('{}\\n'.format(df2))"
      ],
      "execution_count": null,
      "outputs": []
    },
    {
      "cell_type": "code",
      "metadata": {
        "colab": {
          "base_uri": "https://localhost:8080/"
        },
        "id": "gTOwayNCVED7",
        "outputId": "d946c655-7a5d-4e23-ae1e-10874a29eac3"
      },
      "source": [
        "# Writing to files\n",
        "# CSV\n",
        "\n",
        "# Predefined mlb_df\n",
        "print('{}\\n'.format(df))\n",
        "\n",
        "# Index is kept when writing\n",
        "df.to_csv('data.csv')\n",
        "df = pd.read_csv('data.csv')\n",
        "print('{}\\n'.format(df))\n",
        "\n",
        "# Index is not kept when writing\n",
        "df.to_csv('data.csv', index=False)\n",
        "df = pd.read_csv('data.csv')\n",
        "print('{}\\n'.format(df))"
      ],
      "execution_count": null,
      "outputs": [
        {
          "output_type": "stream",
          "text": [
            "   Unnamed: 0       name  HR pos\n",
            "0           0  joe smith  17  2B\n",
            "1           1  alan west  28   C\n",
            "2           2   john doe  19   P\n",
            "\n",
            "   Unnamed: 0  Unnamed: 0.1       name  HR pos\n",
            "0           0             0  joe smith  17  2B\n",
            "1           1             1  alan west  28   C\n",
            "2           2             2   john doe  19   P\n",
            "\n",
            "   Unnamed: 0  Unnamed: 0.1       name  HR pos\n",
            "0           0             0  joe smith  17  2B\n",
            "1           1             1  alan west  28   C\n",
            "2           2             2   john doe  19   P\n",
            "\n"
          ],
          "name": "stdout"
        }
      ]
    },
    {
      "cell_type": "code",
      "metadata": {
        "id": "IEo_QKawVUuL"
      },
      "source": [
        "# EXCEL. (need files to do that)\n",
        "\n",
        "# Predefined DataFrames\n",
        "print('{}\\n'.format(mlb_df1))\n",
        "print('{}\\n'.format(mlb_df2))\n",
        "\n",
        "with pd.ExcelWriter('data.xlsx') as writer:\n",
        "  mlb_df1.to_excel(writer, index=False, sheet_name='NYY')\n",
        "  mlb_df2.to_excel(writer, index=False, sheet_name='BOS')\n",
        "  \n",
        "df_dict = pd.read_excel('data.xlsx', sheet_name=None)\n",
        "print(df_dict.keys())\n",
        "print('{}\\n'.format(df_dict['BOS']))"
      ],
      "execution_count": null,
      "outputs": []
    },
    {
      "cell_type": "code",
      "metadata": {
        "id": "fM7srw1SVcZb"
      },
      "source": [
        "# JSON. (need files to do that)\n",
        "\n",
        "# Predefined df\n",
        "print('{}\\n'.format(df))\n",
        "\n",
        "df.to_json('data.json')\n",
        "df2 = pd.read_json('data.json')\n",
        "print('{}\\n'.format(df2))\n",
        "\n",
        "df.to_json('data.json', orient='index')\n",
        "df2 = pd.read_json('data.json')\n",
        "print('{}\\n'.format(df2))\n",
        "df2 = pd.read_json('data.json', orient='index')\n",
        "print('{}\\n'.format(df2))"
      ],
      "execution_count": null,
      "outputs": []
    },
    {
      "cell_type": "markdown",
      "metadata": {
        "id": "u5991dqLUlsx"
      },
      "source": [
        "# **GROUPING**"
      ]
    },
    {
      "cell_type": "code",
      "metadata": {
        "id": "8lt7SWT1Uofj",
        "colab": {
          "base_uri": "https://localhost:8080/"
        },
        "outputId": "bc000624-b1cf-4ce3-ec20-7a45bd6984ac"
      },
      "source": [
        "# A- Grouping by column\n",
        "\n",
        "# predifined df of MLB stats (for me its not i did it my self)\n",
        "df = pd.read_csv('grouping.csv')\n",
        "print('{}\\n'.format(df))\n",
        "\n",
        "# grous by yearID\n",
        "groups = df.groupby('yearID')\n",
        "for name, group in groups:\n",
        "  print('Year: {}'.format(name))\n",
        "  print('{}\\n'.format(group))\n",
        "\n",
        "# getgroup \n",
        "print('Group 2016:\\n{}\\n'.format(groups.get_group(2016)))\n",
        "print('SUM:\\n{}\\n'.format(groups.sum()))\n",
        "print('MEAN:\\n{}\\n'.format(groups.mean()))"
      ],
      "execution_count": null,
      "outputs": [
        {
          "output_type": "stream",
          "text": [
            "   yearID teamID     H    R\n",
            "0    2017    CLE  1449  818\n",
            "1    2015    CLE  1395  669\n",
            "2    2016    BOS  1598  878\n",
            "3    2015    DET  1515  689\n",
            "4    2016    DET  1476  750\n",
            "5    2016    CLE  1435  777\n",
            "6    2015    BOS  1495  748\n",
            "7    2017    BOS  1461  785\n",
            "\n",
            "Year: 2015\n",
            "   yearID teamID     H    R\n",
            "1    2015    CLE  1395  669\n",
            "3    2015    DET  1515  689\n",
            "6    2015    BOS  1495  748\n",
            "\n",
            "Year: 2016\n",
            "   yearID teamID     H    R\n",
            "2    2016    BOS  1598  878\n",
            "4    2016    DET  1476  750\n",
            "5    2016    CLE  1435  777\n",
            "\n",
            "Year: 2017\n",
            "   yearID teamID     H    R\n",
            "0    2017    CLE  1449  818\n",
            "7    2017    BOS  1461  785\n",
            "\n",
            "Group 2016:\n",
            "   yearID teamID     H    R\n",
            "2    2016    BOS  1598  878\n",
            "4    2016    DET  1476  750\n",
            "5    2016    CLE  1435  777\n",
            "\n",
            "SUM:\n",
            "           H     R\n",
            "yearID            \n",
            "2015    4405  2106\n",
            "2016    4509  2405\n",
            "2017    2910  1603\n",
            "\n",
            "MEAN:\n",
            "                  H           R\n",
            "yearID                         \n",
            "2015    1468.333333  702.000000\n",
            "2016    1503.000000  801.666667\n",
            "2017    1455.000000  801.500000\n",
            "\n"
          ],
          "name": "stdout"
        }
      ]
    },
    {
      "cell_type": "code",
      "metadata": {
        "colab": {
          "base_uri": "https://localhost:8080/"
        },
        "id": "7UOPyLxAWM1S",
        "outputId": "c20fcc54-6c5e-4194-d0c3-e66431acee40"
      },
      "source": [
        "# filter\r\n",
        "no2015 = groups.filter(lambda x: x.name > 2015)\r\n",
        "print(no2015)"
      ],
      "execution_count": null,
      "outputs": [
        {
          "output_type": "stream",
          "text": [
            "  teamID     H    R\n",
            "0    CLE  1449  818\n",
            "2    BOS  1598  878\n",
            "4    DET  1476  750\n",
            "5    CLE  1435  777\n",
            "7    BOS  1461  785\n"
          ],
          "name": "stdout"
        }
      ]
    },
    {
      "cell_type": "code",
      "metadata": {
        "colab": {
          "base_uri": "https://localhost:8080/"
        },
        "id": "fM8h6zAuWctT",
        "outputId": "7239eabd-28f9-4d85-a78c-530bcad77607"
      },
      "source": [
        "# B- Multiple Columns\r\n",
        "\r\n",
        "# define player_df\r\n",
        "player_df = pd.read_csv('player.csv')\r\n",
        "\r\n",
        "groups = player_df.groupby(['yearID', 'teamID'])\r\n",
        "\r\n",
        "for name, group in groups:\r\n",
        "  print('Year, Team: {}',format(name))\r\n",
        "  print('{}\\n'.format(group))\r\n",
        "\r\n",
        "print(groups.sum())"
      ],
      "execution_count": null,
      "outputs": [
        {
          "output_type": "stream",
          "text": [
            "Year, Team: {} (2016, 'BOS')\n",
            "   yearID   playerID teamID    H\n",
            "1    2016  bettsmo01    BOS  214\n",
            "2    2016  bogaexa01    BOS  192\n",
            "4    2016  pedrodu01    BOS  201\n",
            "\n",
            "Year, Team: {} (2016, 'HOU')\n",
            "   yearID   playerID teamID    H\n",
            "0    2016  altuvjo01    HOU  216\n",
            "3    2016  correca01    HOU  158\n",
            "\n",
            "Year, Team: {} (2017, 'BOS')\n",
            "   yearID   playerID teamID    H\n",
            "6    2017  bettsmo01    BOS  166\n",
            "7    2017  bogaexa01    BOS  156\n",
            "9    2017  pedrodu01    BOS  119\n",
            "\n",
            "Year, Team: {} (2017, 'HOU')\n",
            "   yearID   playerID teamID    H\n",
            "5    2017  altuvjo01    HOU  204\n",
            "8    2017  correca01    HOU  133\n",
            "\n",
            "                 H\n",
            "yearID teamID     \n",
            "2016   BOS     607\n",
            "       HOU     374\n",
            "2017   BOS     441\n",
            "       HOU     337\n"
          ],
          "name": "stdout"
        }
      ]
    },
    {
      "cell_type": "markdown",
      "metadata": {
        "id": "mZcs2ZGrcjH7"
      },
      "source": [
        "# **FEATURES**"
      ]
    },
    {
      "cell_type": "code",
      "metadata": {
        "id": "O2NMCy38coQU"
      },
      "source": [
        "# A- Quantitive vs Categorical\r\n",
        "\r\n",
        "# A quantitative feature, e.g. height or weight, is a feature that can be measured numerically. These are features we could calculate the sum, mean, or other numerical metrics for.\r\n",
        "# A categorical feature, e.g. gender or birthplace, is one where the values are categories that could be used to group the dataset. These are the features we would use with the groupby function.\r\n"
      ],
      "execution_count": null,
      "outputs": []
    },
    {
      "cell_type": "code",
      "metadata": {
        "colab": {
          "base_uri": "https://localhost:8080/"
        },
        "id": "ZKpyOuZpeVSc",
        "outputId": "0950bc69-da04-4d5b-aa55-9fe64231d278"
      },
      "source": [
        "# B- Quantitive Features\r\n",
        "\r\n",
        "df = pd.DataFrame({\r\n",
        "    'T1': [10, 15, 8],\r\n",
        "    'T2': [25, 27, 25],\r\n",
        "    'T3': [16, 15, 10]})\r\n",
        "\r\n",
        "print('{}\\n'.format(df))\r\n",
        "\r\n",
        "print('{}\\n'.format(df.sum()))\r\n",
        "\r\n",
        "print('{}\\n'.format(df.sum(axis=1)))\r\n",
        "\r\n",
        "print('{}\\n'.format(df.mean()))\r\n",
        "\r\n",
        "print('{}\\n'.format(df.mean(axis=1)))"
      ],
      "execution_count": null,
      "outputs": [
        {
          "output_type": "stream",
          "text": [
            "   T1  T2  T3\n",
            "0  10  25  16\n",
            "1  15  27  15\n",
            "2   8  25  10\n",
            "\n",
            "T1    33\n",
            "T2    77\n",
            "T3    41\n",
            "dtype: int64\n",
            "\n",
            "0    51\n",
            "1    57\n",
            "2    43\n",
            "dtype: int64\n",
            "\n",
            "T1    11.000000\n",
            "T2    25.666667\n",
            "T3    13.666667\n",
            "dtype: float64\n",
            "\n",
            "0    17.000000\n",
            "1    19.000000\n",
            "2    14.333333\n",
            "dtype: float64\n",
            "\n"
          ],
          "name": "stdout"
        }
      ]
    },
    {
      "cell_type": "code",
      "metadata": {
        "colab": {
          "base_uri": "https://localhost:8080/"
        },
        "id": "d40acr6MfSlN",
        "outputId": "b0448118-69df-4a1b-9b7b-3d7f48d4461d"
      },
      "source": [
        "# C- Weighted Features\r\n",
        "\r\n",
        "df = pd.DataFrame({\r\n",
        "    'T1': [0.1, 150.],\r\n",
        "    'T2': [0.25, 240.],\r\n",
        "    'T3': [0.16, 100.]})\r\n",
        "\r\n",
        "print('{}\\n'.format(df))\r\n",
        "\r\n",
        "print('df multiplied by 2:\\n{}\\n'.format(df.multiply(2)))\r\n",
        "\r\n",
        "df_ms = df.multiply([100, 1], axis=0)\r\n",
        "print('df_ms: df multiplied by [100, 1]:\\n{}\\n'.format(df_ms))\r\n",
        "\r\n",
        "df_w = df_ms.multiply([1, 0.5, 1])\r\n",
        "print('df_w: df_ms multiplied by [1, 05, 1]:\\n{}\\n'.format(df_w))\r\n",
        "print('Sum of df_w:\\n{}\\n'.format(df_w.sum(axis=1)))"
      ],
      "execution_count": null,
      "outputs": [
        {
          "output_type": "stream",
          "text": [
            "      T1      T2      T3\n",
            "0    0.1    0.25    0.16\n",
            "1  150.0  240.00  100.00\n",
            "\n",
            "df multiplied by 2:\n",
            "      T1     T2      T3\n",
            "0    0.2    0.5    0.32\n",
            "1  300.0  480.0  200.00\n",
            "\n",
            "df_ms: df multiplied by [100, 1]:\n",
            "      T1     T2     T3\n",
            "0   10.0   25.0   16.0\n",
            "1  150.0  240.0  100.0\n",
            "\n",
            "df_w: df_ms multiplied by [1, 05, 1]:\n",
            "      T1     T2     T3\n",
            "0   10.0   12.5   16.0\n",
            "1  150.0  120.0  100.0\n",
            "\n",
            "Sum of df_w:\n",
            "0     38.5\n",
            "1    370.0\n",
            "dtype: float64\n",
            "\n"
          ],
          "name": "stdout"
        }
      ]
    },
    {
      "cell_type": "markdown",
      "metadata": {
        "id": "55HIeHQskxXX"
      },
      "source": [
        "# **FILTERING**"
      ]
    },
    {
      "cell_type": "code",
      "metadata": {
        "colab": {
          "base_uri": "https://localhost:8080/"
        },
        "id": "1iGT1I1bk3J0",
        "outputId": "6cd9fc14-4887-4b65-9af9-2b98ce697ae8"
      },
      "source": [
        "# A- Filter Conditions\r\n",
        "\r\n",
        "\r\n",
        "df = pd.DataFrame({\r\n",
        "    'playerID': ['bettsmo01', 'canoro01', 'cruzne02', 'ortizda01', 'cruzne02'],\r\n",
        "    'yearID': [2016, 2016, 2016, 2016, 2017],\r\n",
        "    'teamID': ['BOS', 'SEA', 'SEA', 'BOS', 'SEA'],\r\n",
        "    'HR': [31, 39, 43, 38, 39]})\r\n",
        "\r\n",
        "print('{}\\n'.format(df))\r\n",
        "\r\n",
        "cruzne02 = df['playerID'] == 'cruzne02'\r\n",
        "print('Player cruzene02 filter:\\n{}\\n'.format(cruzne02))\r\n",
        "\r\n",
        "hr40 = df['HR'] > 40\r\n",
        "print('HR > 40:\\n{}\\n'.format(hr40))\r\n",
        "\r\n",
        "notbos = df['teamID'] != 'BOS'\r\n",
        "print('Teams not BOS:\\n{}\\n'.format(notbos))"
      ],
      "execution_count": null,
      "outputs": [
        {
          "output_type": "stream",
          "text": [
            "    playerID  yearID teamID  HR\n",
            "0  bettsmo01    2016    BOS  31\n",
            "1   canoro01    2016    SEA  39\n",
            "2   cruzne02    2016    SEA  43\n",
            "3  ortizda01    2016    BOS  38\n",
            "4   cruzne02    2017    SEA  39\n",
            "\n",
            "Player cruzene02 filter:\n",
            "0    False\n",
            "1    False\n",
            "2     True\n",
            "3    False\n",
            "4     True\n",
            "Name: playerID, dtype: bool\n",
            "\n",
            "HR > 40:\n",
            "0    False\n",
            "1    False\n",
            "2     True\n",
            "3    False\n",
            "4    False\n",
            "Name: HR, dtype: bool\n",
            "\n",
            "Teams not BOS:\n",
            "0    False\n",
            "1     True\n",
            "2     True\n",
            "3    False\n",
            "4     True\n",
            "Name: teamID, dtype: bool\n",
            "\n"
          ],
          "name": "stdout"
        }
      ]
    },
    {
      "cell_type": "code",
      "metadata": {
        "colab": {
          "base_uri": "https://localhost:8080/"
        },
        "id": "kYxixH55gZNQ",
        "outputId": "0c03314d-4eb6-4b69-cc14-fbbe48b0ad7c"
      },
      "source": [
        "# B- Filter from Functions\r\n",
        "\r\n",
        "df = pd.DataFrame({\r\n",
        "    'playerID': ['bettsmo01', 'canoro01', 'cruzne02', 'ortizda01', 'cruzne02'],\r\n",
        "    'yearID': [2016, 2016, 2016, 2016, 2017],\r\n",
        "    'teamID': ['BOS', 'SEA', 'SEA', 'BOS', 'SEA'],\r\n",
        "    'HR': [31, 39, 43, 38, 39]})\r\n",
        "\r\n",
        "print('{}\\n'.format(df))\r\n",
        "\r\n",
        "str_f1 = df['playerID'].str.startswith('c')\r\n",
        "print('Player names starts with \"c\":\\n{}\\n'.format(str_f1))\r\n",
        "\r\n",
        "\r\n",
        "str_f2 = df['playerID'].str.endswith('s')\r\n",
        "print('Player names end with \"s\":\\n{}\\n'.format(str_f2))\r\n",
        "\r\n",
        "\r\n",
        "str_f3 = ~df['playerID'].str.contains('o')\r\n",
        "print('Player names does\\'nt contain \"o\":\\n{}\\n'.format(str_f3))"
      ],
      "execution_count": null,
      "outputs": [
        {
          "output_type": "stream",
          "text": [
            "    playerID  yearID teamID  HR\n",
            "0  bettsmo01    2016    BOS  31\n",
            "1   canoro01    2016    SEA  39\n",
            "2   cruzne02    2016    SEA  43\n",
            "3  ortizda01    2016    BOS  38\n",
            "4   cruzne02    2017    SEA  39\n",
            "\n",
            "Player names starts with \"c\":\n",
            "0    False\n",
            "1     True\n",
            "2     True\n",
            "3    False\n",
            "4     True\n",
            "Name: playerID, dtype: bool\n",
            "\n",
            "Player names end with \"s\":\n",
            "0    False\n",
            "1    False\n",
            "2    False\n",
            "3    False\n",
            "4    False\n",
            "Name: playerID, dtype: bool\n",
            "\n",
            "Player names does'nt contain \"o\":\n",
            "0    False\n",
            "1    False\n",
            "2     True\n",
            "3    False\n",
            "4     True\n",
            "Name: playerID, dtype: bool\n",
            "\n"
          ],
          "name": "stdout"
        }
      ]
    },
    {
      "cell_type": "code",
      "metadata": {
        "colab": {
          "base_uri": "https://localhost:8080/"
        },
        "id": "1HR3IBbN-DcQ",
        "outputId": "66df5e2c-de05-4506-f0f0-5911801d54b2"
      },
      "source": [
        "# second part\r\n",
        "\r\n",
        "df = pd.DataFrame({\r\n",
        "    'playerID': ['bettsmo01', 'canoro01', 'cruzne02', 'ortizda01', 'cruzne02'],\r\n",
        "    'yearID': [2016, 2016, 2016, 2016, 2017],\r\n",
        "    'teamID': ['BOS', 'SEA', 'SEA', 'BOS', 'SEA'],\r\n",
        "    'HR': [31, 39, 43, 38, 39]})\r\n",
        "\r\n",
        "print('{}\\n'.format(df))\r\n",
        "\r\n",
        "isin_f1 = df['playerID'].isin(['cruzne02', 'ortizda01'])\r\n",
        "print('{}\\n'.format(isin_f1))\r\n",
        "\r\n",
        "isin_f2 = df['yearID'].isin([2015, 2017])\r\n",
        "print('{}\\n'.format(isin_f2))"
      ],
      "execution_count": null,
      "outputs": [
        {
          "output_type": "stream",
          "text": [
            "    playerID  yearID teamID  HR\n",
            "0  bettsmo01    2016    BOS  31\n",
            "1   canoro01    2016    SEA  39\n",
            "2   cruzne02    2016    SEA  43\n",
            "3  ortizda01    2016    BOS  38\n",
            "4   cruzne02    2017    SEA  39\n",
            "\n",
            "0    False\n",
            "1    False\n",
            "2     True\n",
            "3     True\n",
            "4     True\n",
            "Name: playerID, dtype: bool\n",
            "\n",
            "0    False\n",
            "1    False\n",
            "2    False\n",
            "3    False\n",
            "4     True\n",
            "Name: yearID, dtype: bool\n",
            "\n"
          ],
          "name": "stdout"
        }
      ]
    },
    {
      "cell_type": "code",
      "metadata": {
        "colab": {
          "base_uri": "https://localhost:8080/"
        },
        "id": "pmL-cTMC-05M",
        "outputId": "555a622a-4b36-47ab-f957-7c50b55f6fc3"
      },
      "source": [
        "# third part\r\n",
        "\r\n",
        "df = pd.DataFrame({\r\n",
        "  'playerID': ['bettsmo01', 'canoro01', 'doejo01'],\r\n",
        "  'yearID': [2016, 2016, 2017],\r\n",
        "  'teamID': ['BOS', 'SEA', np.nan],\r\n",
        "  'HR': [31, 39, 99]})\r\n",
        "\r\n",
        "print('{}\\n'.format(df))\r\n",
        "\r\n",
        "# isna() to test if its NaN\r\n",
        "isna = df['teamID'].isna()\r\n",
        "print('{}\\n'.format(isna))\r\n",
        "\r\n",
        "# notna to test a non NaN\r\n",
        "notna = df['teamID'].notna()\r\n",
        "print('{}\\n'.format(notna))"
      ],
      "execution_count": null,
      "outputs": [
        {
          "output_type": "stream",
          "text": [
            "    playerID  yearID teamID  HR\n",
            "0  bettsmo01    2016    BOS  31\n",
            "1   canoro01    2016    SEA  39\n",
            "2    doejo01    2017    NaN  99\n",
            "\n",
            "0    False\n",
            "1    False\n",
            "2     True\n",
            "Name: teamID, dtype: bool\n",
            "\n",
            "0     True\n",
            "1     True\n",
            "2    False\n",
            "Name: teamID, dtype: bool\n",
            "\n"
          ],
          "name": "stdout"
        }
      ]
    },
    {
      "cell_type": "code",
      "metadata": {
        "colab": {
          "base_uri": "https://localhost:8080/"
        },
        "id": "PqTz733sBqO3",
        "outputId": "fdbe0e53-cb84-4f33-e802-de962a644de0"
      },
      "source": [
        "# C- Feature Filtering\r\n",
        "\r\n",
        "df = pd.DataFrame({\r\n",
        "  'playerID': ['bettsmo01', 'canoro01', 'cruzne02', 'ortizda01', 'bettsmo01'],\r\n",
        "  'yearID': [2016, 2016, 2016, 2016, 2015],\r\n",
        "  'teamID': ['BOS', 'SEA', 'SEA', 'BOS', 'BOS'],\r\n",
        "  'HR': [31, 39, 43, 38, 18]})\r\n",
        "\r\n",
        "print('{}\\n'.format(df))\r\n",
        "\r\n",
        "hr40_df = df[df['HR'] > 40]\r\n",
        "print('Players with HR > 40:\\n{}\\n'.format(hr40_df))\r\n",
        "\r\n",
        "not_hr30_df = df[~(df['HR'] > 30)]\r\n",
        "print('players with hr < 30:\\n{}\\n'.format(not_hr30_df))\r\n",
        "\r\n",
        "str_df = df[df['teamID'].str.startswith('B')]\r\n",
        "print('players team starts with \"B\":\\n{}\\n'.format(str_df))"
      ],
      "execution_count": 2,
      "outputs": [
        {
          "output_type": "stream",
          "text": [
            "    playerID  yearID teamID  HR\n",
            "0  bettsmo01    2016    BOS  31\n",
            "1   canoro01    2016    SEA  39\n",
            "2   cruzne02    2016    SEA  43\n",
            "3  ortizda01    2016    BOS  38\n",
            "4  bettsmo01    2015    BOS  18\n",
            "\n",
            "Players with HR > 40:\n",
            "   playerID  yearID teamID  HR\n",
            "2  cruzne02    2016    SEA  43\n",
            "\n",
            "players with hr < 30:\n",
            "    playerID  yearID teamID  HR\n",
            "4  bettsmo01    2015    BOS  18\n",
            "\n",
            "players team starts with \"B\":\n",
            "    playerID  yearID teamID  HR\n",
            "0  bettsmo01    2016    BOS  31\n",
            "3  ortizda01    2016    BOS  38\n",
            "4  bettsmo01    2015    BOS  18\n",
            "\n"
          ],
          "name": "stdout"
        }
      ]
    },
    {
      "cell_type": "markdown",
      "metadata": {
        "id": "SM04_nCdLMa9"
      },
      "source": [
        "# **SORTING**"
      ]
    },
    {
      "cell_type": "code",
      "metadata": {
        "colab": {
          "base_uri": "https://localhost:8080/"
        },
        "id": "pwSRO3_xLFoi",
        "outputId": "09b7be0b-7359-4892-e686-367bfa26ac75"
      },
      "source": [
        "# A- Sorting By Feature\n",
        "\n",
        "# define df\n",
        "df = pd.DataFrame({\n",
        "    'HR': [15, 7, 33, 43, 39, 29],\n",
        "    'playerID': ['pedrodu01', 'pedrodu01', 'troutmi01', 'cruzne02', 'cruzne02', 'troutmi01'],\n",
        "    'teamID': ['BOS', 'BOS', 'LAA', 'SEA', 'SEA', 'LAA'],\n",
        "    'yearID': [2016, 2017, 2017, 2016, 2017, 2016]})\n",
        "\n",
        "print('{}\\n'.format(df))\n",
        "\n",
        "# Sort by sort_values function\n",
        "sort1 = df.sort_values('yearID')\n",
        "print('Sorted by Year:\\n{}\\n'.format(sort1))\n",
        "\n",
        "# Same as before plus we define style ascending as False\n",
        "sort2 = df.sort_values('playerID', ascending=False)\n",
        "print('Sorted by Player ID:\\n{}\\n'.format(sort2))"
      ],
      "execution_count": 5,
      "outputs": [
        {
          "output_type": "stream",
          "text": [
            "   HR   playerID teamID  yearID\n",
            "0  15  pedrodu01    BOS    2016\n",
            "1   7  pedrodu01    BOS    2017\n",
            "2  33  troutmi01    LAA    2017\n",
            "3  43   cruzne02    SEA    2016\n",
            "4  39   cruzne02    SEA    2017\n",
            "5  29  troutmi01    LAA    2016\n",
            "\n",
            "Sorted by Year:\n",
            "   HR   playerID teamID  yearID\n",
            "0  15  pedrodu01    BOS    2016\n",
            "3  43   cruzne02    SEA    2016\n",
            "5  29  troutmi01    LAA    2016\n",
            "1   7  pedrodu01    BOS    2017\n",
            "2  33  troutmi01    LAA    2017\n",
            "4  39   cruzne02    SEA    2017\n",
            "\n",
            "Sorted by Player ID:\n",
            "   HR   playerID teamID  yearID\n",
            "2  33  troutmi01    LAA    2017\n",
            "5  29  troutmi01    LAA    2016\n",
            "0  15  pedrodu01    BOS    2016\n",
            "1   7  pedrodu01    BOS    2017\n",
            "3  43   cruzne02    SEA    2016\n",
            "4  39   cruzne02    SEA    2017\n",
            "\n"
          ],
          "name": "stdout"
        }
      ]
    },
    {
      "cell_type": "code",
      "metadata": {
        "colab": {
          "base_uri": "https://localhost:8080/"
        },
        "id": "Fdm4m_QiM-MQ",
        "outputId": "48011d79-8b18-4093-ea99-06a361bca57f"
      },
      "source": [
        "# define df\n",
        "df = pd.DataFrame({\n",
        "    'HR': [15, 7, 33, 43, 39, 29],\n",
        "    'playerID': ['pedrodu01', 'pedrodu01', 'troutmi01', 'cruzne02', 'cruzne02', 'troutmi01'],\n",
        "    'teamID': ['BOS', 'BOS', 'LAA', 'SEA', 'SEA', 'LAA'],\n",
        "    'yearID': [2016, 2017, 2017, 2016, 2017, 2016]})\n",
        "\n",
        "print('{}\\n'.format(df))\n",
        "\n",
        "# Sort by two values in dort_values function\n",
        "sort1 = df.sort_values(['yearID', 'playerID'])\n",
        "print('Sorted by Year and Player ID:\\n{}\\n'.format(sort1))\n",
        "\n",
        "# Same as before plus we define style ascending as table of True and False\n",
        "sort2 = df.sort_values(['yearID', 'HR'], ascending=[True, False])\n",
        "print('Sorted by Year and HR:\\n{}\\n'.format(sort2))"
      ],
      "execution_count": 7,
      "outputs": [
        {
          "output_type": "stream",
          "text": [
            "   HR   playerID teamID  yearID\n",
            "0  15  pedrodu01    BOS    2016\n",
            "1   7  pedrodu01    BOS    2017\n",
            "2  33  troutmi01    LAA    2017\n",
            "3  43   cruzne02    SEA    2016\n",
            "4  39   cruzne02    SEA    2017\n",
            "5  29  troutmi01    LAA    2016\n",
            "\n",
            "Sorted by Year and Player ID:\n",
            "   HR   playerID teamID  yearID\n",
            "3  43   cruzne02    SEA    2016\n",
            "0  15  pedrodu01    BOS    2016\n",
            "5  29  troutmi01    LAA    2016\n",
            "4  39   cruzne02    SEA    2017\n",
            "1   7  pedrodu01    BOS    2017\n",
            "2  33  troutmi01    LAA    2017\n",
            "\n",
            "Sorted by Year and HR:\n",
            "   HR   playerID teamID  yearID\n",
            "3  43   cruzne02    SEA    2016\n",
            "5  29  troutmi01    LAA    2016\n",
            "0  15  pedrodu01    BOS    2016\n",
            "4  39   cruzne02    SEA    2017\n",
            "2  33  troutmi01    LAA    2017\n",
            "1   7  pedrodu01    BOS    2017\n",
            "\n"
          ],
          "name": "stdout"
        }
      ]
    },
    {
      "cell_type": "markdown",
      "metadata": {
        "id": "laHcN1SCO5qy"
      },
      "source": [
        "# **METRICS**"
      ]
    },
    {
      "cell_type": "markdown",
      "metadata": {
        "id": "ooqcluh_QuoO"
      },
      "source": [
        "![Screen Shot 2021-02-22 at 4.01.56 PM.png](data:image/png;base64,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)"
      ]
    },
    {
      "cell_type": "code",
      "metadata": {
        "colab": {
          "base_uri": "https://localhost:8080/"
        },
        "id": "MJZ4Sn6CO821",
        "outputId": "19de3cb8-eb51-4b5b-f0eb-40abeba38f62"
      },
      "source": [
        "# A- Numeric Metrics\n",
        "\n",
        "# define df\n",
        "df = pd.DataFrame({\n",
        "    'HR': [39, 7, 43, 12, 33, 15],\n",
        "    'RBI': [119, 62, 105, 42, 72, 74],\n",
        "    'playerID': ['cruzne02', 'pedrodu01', 'cruzne02', 'pedrodu01', 'troutmi01', 'pedrodu01'],\n",
        "    'teamID': ['SEA', 'BOS', 'SEA', 'BOS', 'LAA', 'BOS'],\n",
        "    'yearID': [2017, 2017, 2016, 2015, 2017, 2016]})\n",
        "\n",
        "print('{}\\n'.format(df))\n",
        "\n",
        "# metrics \n",
        "metrics1 = df.describe()\n",
        "print('Describe df on Metrics:\\n{}\\n'.format(metrics1))\n",
        "\n",
        "hr_rbi = df[['HR', 'RBI']]\n",
        "metrics2 = hr_rbi.describe()\n",
        "print('{}\\n'.format(metrics2))"
      ],
      "execution_count": 9,
      "outputs": [
        {
          "output_type": "stream",
          "text": [
            "   HR  RBI   playerID teamID  yearID\n",
            "0  39  119   cruzne02    SEA    2017\n",
            "1   7   62  pedrodu01    BOS    2017\n",
            "2  43  105   cruzne02    SEA    2016\n",
            "3  12   42  pedrodu01    BOS    2015\n",
            "4  33   72  troutmi01    LAA    2017\n",
            "5  15   74  pedrodu01    BOS    2016\n",
            "\n",
            "Describe df on Metrics:\n",
            "              HR         RBI       yearID\n",
            "count   6.000000    6.000000     6.000000\n",
            "mean   24.833333   79.000000  2016.333333\n",
            "std    15.341664   28.312541     0.816497\n",
            "min     7.000000   42.000000  2015.000000\n",
            "25%    12.750000   64.500000  2016.000000\n",
            "50%    24.000000   73.000000  2016.500000\n",
            "75%    37.500000   97.250000  2017.000000\n",
            "max    43.000000  119.000000  2017.000000\n",
            "\n",
            "              HR         RBI\n",
            "count   6.000000    6.000000\n",
            "mean   24.833333   79.000000\n",
            "std    15.341664   28.312541\n",
            "min     7.000000   42.000000\n",
            "25%    12.750000   64.500000\n",
            "50%    24.000000   73.000000\n",
            "75%    37.500000   97.250000\n",
            "max    43.000000  119.000000\n",
            "\n"
          ],
          "name": "stdout"
        }
      ]
    },
    {
      "cell_type": "code",
      "metadata": {
        "colab": {
          "base_uri": "https://localhost:8080/"
        },
        "id": "4uISLn12SQDO",
        "outputId": "fd345cc4-b380-4f19-ba88-c52ef4b434b2"
      },
      "source": [
        "metrics1 = hr_rbi.describe(percentiles=[.5])\n",
        "print('{}\\n'.format(metrics1))\n",
        "\n",
        "metrics2 = hr_rbi.describe(percentiles=[.1])\n",
        "print('{}\\n'.format(metrics2))\n",
        "\n",
        "metrics3 = hr_rbi.describe(percentiles=[.2, .8])\n",
        "print('{}\\n'.format(metrics3))"
      ],
      "execution_count": 10,
      "outputs": [
        {
          "output_type": "stream",
          "text": [
            "              HR         RBI\n",
            "count   6.000000    6.000000\n",
            "mean   24.833333   79.000000\n",
            "std    15.341664   28.312541\n",
            "min     7.000000   42.000000\n",
            "50%    24.000000   73.000000\n",
            "max    43.000000  119.000000\n",
            "\n",
            "              HR         RBI\n",
            "count   6.000000    6.000000\n",
            "mean   24.833333   79.000000\n",
            "std    15.341664   28.312541\n",
            "min     7.000000   42.000000\n",
            "10%     9.500000   52.000000\n",
            "50%    24.000000   73.000000\n",
            "max    43.000000  119.000000\n",
            "\n",
            "              HR         RBI\n",
            "count   6.000000    6.000000\n",
            "mean   24.833333   79.000000\n",
            "std    15.341664   28.312541\n",
            "min     7.000000   42.000000\n",
            "20%    12.000000   62.000000\n",
            "50%    24.000000   73.000000\n",
            "80%    39.000000  105.000000\n",
            "max    43.000000  119.000000\n",
            "\n"
          ],
          "name": "stdout"
        }
      ]
    },
    {
      "cell_type": "code",
      "metadata": {
        "colab": {
          "base_uri": "https://localhost:8080/"
        },
        "id": "A_KR3WeRXBnn",
        "outputId": "f2bb2c0c-7273-42ec-e519-5509a2992474"
      },
      "source": [
        "# B- Categorical Features\n",
        "\n",
        "p_ids = df['playerID']\n",
        "print('{}\\n'.format(p_ids.value_counts()))\n",
        "\n",
        "print('{}\\n'.format(p_ids.value_counts(normalize=True)))\n",
        "\n",
        "print('{}\\n'.format(p_ids.value_counts(ascending=True)))"
      ],
      "execution_count": 11,
      "outputs": [
        {
          "output_type": "stream",
          "text": [
            "pedrodu01    3\n",
            "cruzne02     2\n",
            "troutmi01    1\n",
            "Name: playerID, dtype: int64\n",
            "\n",
            "pedrodu01    0.500000\n",
            "cruzne02     0.333333\n",
            "troutmi01    0.166667\n",
            "Name: playerID, dtype: float64\n",
            "\n",
            "troutmi01    1\n",
            "cruzne02     2\n",
            "pedrodu01    3\n",
            "Name: playerID, dtype: int64\n",
            "\n"
          ],
          "name": "stdout"
        }
      ]
    },
    {
      "cell_type": "code",
      "metadata": {
        "colab": {
          "base_uri": "https://localhost:8080/"
        },
        "id": "Vj54WglqXrQv",
        "outputId": "9495a028-64f9-42cb-9838-5f548e586fec"
      },
      "source": [
        "unique_players = df['playerID'].unique()\n",
        "print('{}\\n'.format(repr(unique_players)))\n",
        "\n",
        "unique_teams = df['teamID'].unique()\n",
        "print('{}\\n'.format(repr(unique_teams)))"
      ],
      "execution_count": 12,
      "outputs": [
        {
          "output_type": "stream",
          "text": [
            "array(['cruzne02', 'pedrodu01', 'troutmi01'], dtype=object)\n",
            "\n",
            "array(['SEA', 'BOS', 'LAA'], dtype=object)\n",
            "\n"
          ],
          "name": "stdout"
        }
      ]
    },
    {
      "cell_type": "code",
      "metadata": {
        "colab": {
          "base_uri": "https://localhost:8080/"
        },
        "id": "NdcJ-7jFYAkV",
        "outputId": "0e01cf92-4814-48ae-866a-93719419c744"
      },
      "source": [
        "y_ids = df['yearID']\n",
        "print('{}\\n'.format(y_ids))\n",
        "\n",
        "print('{}\\n'.format(repr(y_ids.unique())))\n",
        "print('{}\\n'.format(y_ids.value_counts()))"
      ],
      "execution_count": 13,
      "outputs": [
        {
          "output_type": "stream",
          "text": [
            "0    2017\n",
            "1    2017\n",
            "2    2016\n",
            "3    2015\n",
            "4    2017\n",
            "5    2016\n",
            "Name: yearID, dtype: int64\n",
            "\n",
            "array([2017, 2016, 2015])\n",
            "\n",
            "2017    3\n",
            "2016    2\n",
            "2015    1\n",
            "Name: yearID, dtype: int64\n",
            "\n"
          ],
          "name": "stdout"
        }
      ]
    },
    {
      "cell_type": "markdown",
      "metadata": {
        "id": "lEcBxkkBYvi7"
      },
      "source": [
        "# **PLOTTING**"
      ]
    },
    {
      "cell_type": "code",
      "metadata": {
        "colab": {
          "base_uri": "https://localhost:8080/",
          "height": 435
        },
        "id": "C7tbXGbwZAQk",
        "outputId": "18f7e46b-8dcd-4d44-ef65-34ec5931e88a"
      },
      "source": [
        "# import pyplot see the top\n",
        "df = pd.DataFrame({\n",
        "    'HR': [49, 73, 46, 45, 45, 5, 26, 28],\n",
        "    'yearID': [2000, 2001, 2002, 2003, 2004, 2005, 2006, 2007]})\n",
        "print('{}\\n'.format(df))\n",
        "\n",
        "df.plot()\n",
        "plt.show()"
      ],
      "execution_count": 22,
      "outputs": [
        {
          "output_type": "stream",
          "text": [
            "   HR  yearID\n",
            "0  49    2000\n",
            "1  73    2001\n",
            "2  46    2002\n",
            "3  45    2003\n",
            "4  45    2004\n",
            "5   5    2005\n",
            "6  26    2006\n",
            "7  28    2007\n",
            "\n"
          ],
          "name": "stdout"
        },
        {
          "output_type": "display_data",
          "data": {
            "image/png": "[encoded data removed]",
            "text/plain": [
              "<Figure size 432x288 with 1 Axes>"
            ]
          },
          "metadata": {
            "tags": [],
            "needs_background": "light"
          }
        }
      ]
    },
    {
      "cell_type": "code",
      "metadata": {
        "colab": {
          "base_uri": "https://localhost:8080/",
          "height": 435
        },
        "id": "yA5-COWpbC2j",
        "outputId": "83f7070f-c250-4910-9b8e-946de8250e37"
      },
      "source": [
        "print('{}\\n'.format(df))\n",
        "\n",
        "df.plot()\n",
        "plt.savefig('df.png')  # save to PNG file"
      ],
      "execution_count": 24,
      "outputs": [
        {
          "output_type": "stream",
          "text": [
            "   HR  yearID\n",
            "0  49    2000\n",
            "1  73    2001\n",
            "2  46    2002\n",
            "3  45    2003\n",
            "4  45    2004\n",
            "5   5    2005\n",
            "6  26    2006\n",
            "7  28    2007\n",
            "\n"
          ],
          "name": "stdout"
        },
        {
          "output_type": "display_data",
          "data": {
            "image/png": "[encoded data removed]",
            "text/plain": [
              "<Figure size 432x288 with 1 Axes>"
            ]
          },
          "metadata": {
            "tags": [],
            "needs_background": "light"
          }
        }
      ]
    },
    {
      "cell_type": "code",
      "metadata": {
        "colab": {
          "base_uri": "https://localhost:8080/",
          "height": 465
        },
        "id": "sA60uGjxaNWF",
        "outputId": "bf1d9b97-207f-4dac-888f-ab1e8d9af57a"
      },
      "source": [
        "# define df\n",
        "df = pd.DataFrame({\n",
        "    'HR': [49, 73, 46, 45, 45, 5, 26, 28],\n",
        "    'yearID': [2000, 2001, 2002, 2003, 2004, 2005, 2006, 2007]})\n",
        "print('{}\\n'.format(df))\n",
        "\n",
        "df.plot()\n",
        "plt.title('HR vs. Year')\n",
        "plt.xlabel('Year')\n",
        "plt.ylabel('HR Count')\n",
        "plt.show()"
      ],
      "execution_count": 23,
      "outputs": [
        {
          "output_type": "stream",
          "text": [
            "   HR  yearID\n",
            "0  49    2000\n",
            "1  73    2001\n",
            "2  46    2002\n",
            "3  45    2003\n",
            "4  45    2004\n",
            "5   5    2005\n",
            "6  26    2006\n",
            "7  28    2007\n",
            "\n"
          ],
          "name": "stdout"
        },
        {
          "output_type": "display_data",
          "data": {
            "image/png": "[encoded data removed]",
            "text/plain": [
              "<Figure size 432x288 with 1 Axes>"
            ]
          },
          "metadata": {
            "tags": [],
            "needs_background": "light"
          }
        }
      ]
    },
    {
      "cell_type": "code",
      "metadata": {
        "colab": {
          "base_uri": "https://localhost:8080/",
          "height": 683
        },
        "id": "Fcpxe71FahDU",
        "outputId": "0f63df77-3907-4763-9206-9e501edf5ea6"
      },
      "source": [
        "# B- Other Features\n",
        "\n",
        "# define df\n",
        "df = pd.DataFrame({\n",
        "    'HR': [49, 73, 46, 45, 45, 5, 26, 28],\n",
        "    'yearID': [2000, 2001, 2002, 2003, 2004, 2005, 2006, 2007]})\n",
        "print('{}\\n'.format(df))\n",
        "\n",
        "df.plot(kind='hist')\n",
        "df.plot(kind='box')\n",
        "plt.show()"
      ],
      "execution_count": 27,
      "outputs": [
        {
          "output_type": "stream",
          "text": [
            "   HR  yearID\n",
            "0  49    2000\n",
            "1  73    2001\n",
            "2  46    2002\n",
            "3  45    2003\n",
            "4  45    2004\n",
            "5   5    2005\n",
            "6  26    2006\n",
            "7  28    2007\n",
            "\n"
          ],
          "name": "stdout"
        },
        {
          "output_type": "display_data",
          "data": {
            "image/png": "[encoded data removed]",
            "text/plain": [
              "<Figure size 432x288 with 1 Axes>"
            ]
          },
          "metadata": {
            "tags": [],
            "needs_background": "light"
          }
        },
        {
          "output_type": "display_data",
          "data": {
            "image/png": "[encoded data removed]",
            "text/plain": [
              "<Figure size 432x288 with 1 Axes>"
            ]
          },
          "metadata": {
            "tags": [],
            "needs_background": "light"
          }
        }
      ]
    },
    {
      "cell_type": "code",
      "metadata": {
        "colab": {
          "base_uri": "https://localhost:8080/",
          "height": 683
        },
        "id": "SIs9wTiWbXor",
        "outputId": "d50cab3d-f5e4-4808-edbd-f7255f1c8c12"
      },
      "source": [
        "# C- Multiple Features\n",
        "\n",
        "df = pd.DataFrame({\n",
        "    'BB': [117, 177, 198, 148, 232, 9, 115, 132],\n",
        "    'H': [147, 156, 149, 133, 135, 12, 99, 94],\n",
        "    'yearID': [2000, 2001, 2002, 2003, 2004, 2005, 2006, 2007]})\n",
        "\n",
        "print('{}\\n'.format(df))\n",
        "\n",
        "df.plot()\n",
        "df.plot(kind='box')\n",
        "plt.show()"
      ],
      "execution_count": 29,
      "outputs": [
        {
          "output_type": "stream",
          "text": [
            "    BB    H  yearID\n",
            "0  117  147    2000\n",
            "1  177  156    2001\n",
            "2  198  149    2002\n",
            "3  148  133    2003\n",
            "4  232  135    2004\n",
            "5    9   12    2005\n",
            "6  115   99    2006\n",
            "7  132   94    2007\n",
            "\n"
          ],
          "name": "stdout"
        },
        {
          "output_type": "display_data",
          "data": {
            "image/png": "[encoded data removed]",
            "text/plain": [
              "<Figure size 432x288 with 1 Axes>"
            ]
          },
          "metadata": {
            "tags": [],
            "needs_background": "light"
          }
        },
        {
          "output_type": "display_data",
          "data": {
            "image/png": "[encoded data removed]",
            "text/plain": [
              "<Figure size 432x288 with 1 Axes>"
            ]
          },
          "metadata": {
            "tags": [],
            "needs_background": "light"
          }
        }
      ]
    }
  ]
}