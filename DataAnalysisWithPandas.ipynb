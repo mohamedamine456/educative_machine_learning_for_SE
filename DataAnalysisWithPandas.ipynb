{
  "nbformat": 4,
  "nbformat_minor": 0,
  "metadata": {
    "colab": {
      "name": "DataAnalysisWithPandas.ipynb",
      "provenance": [],
      "collapsed_sections": [],
      "toc_visible": true
    },
    "kernelspec": {
      "name": "python3",
      "display_name": "Python 3"
    }
  },
  "cells": [
    {
      "cell_type": "markdown",
      "metadata": {
        "id": "ZYgUr14tvuxJ"
      },
      "source": [
        "# **SERIES**"
      ]
    },
    {
      "cell_type": "code",
      "metadata": {
        "id": "86CWLavQv29F"
      },
      "source": [
        "# import pandas library\n",
        "import pandas as pd\n",
        "\n",
        "#import numpy library\n",
        "import numpy as np"
      ],
      "execution_count": 3,
      "outputs": []
    },
    {
      "cell_type": "code",
      "metadata": {
        "id": "DxSPUVvcRFC8",
        "colab": {
          "base_uri": "https://localhost:8080/"
        },
        "outputId": "ae703d3a-9d53-4947-bdc1-5cff1f874bcc"
      },
      "source": [
        "# A- 1-D data\n",
        "\n",
        "series = pd.Series()\n",
        "# Newline to separate series print statement\n",
        "print('{}\\n'.format(series))\n",
        "\n",
        "series = pd.Series(5)\n",
        "print('{}\\n'.format(series))\n",
        "\n",
        "series = pd.Series([1, 2, 3])\n",
        "print('{}\\n'.format(series))\n",
        "\n",
        "series = pd.Series([1, 2.2])      # upcasting\n",
        "print('{}\\n'.format(series))\n",
        "\n",
        "arr = np.array([1, 2])\n",
        "series = pd.Series(arr, dtype=np.float32)\n",
        "print('{}\\n'.format(series))\n",
        "\n",
        "series = pd.Series([[1, 2], [3, 4]])\n",
        "print('{}\\n'.format(series))"
      ],
      "execution_count": null,
      "outputs": [
        {
          "output_type": "stream",
          "text": [
            "Series([], dtype: float64)\n",
            "\n",
            "0    5\n",
            "dtype: int64\n",
            "\n",
            "0    1\n",
            "1    2\n",
            "2    3\n",
            "dtype: int64\n",
            "\n",
            "0    1.0\n",
            "1    2.2\n",
            "dtype: float64\n",
            "\n",
            "0    1.0\n",
            "1    2.0\n",
            "dtype: float32\n",
            "\n",
            "0    [1, 2]\n",
            "1    [3, 4]\n",
            "dtype: object\n",
            "\n"
          ],
          "name": "stdout"
        },
        {
          "output_type": "stream",
          "text": [
            "/usr/local/lib/python3.6/dist-packages/ipykernel_launcher.py:3: DeprecationWarning: The default dtype for empty Series will be 'object' instead of 'float64' in a future version. Specify a dtype explicitly to silence this warning.\n",
            "  This is separate from the ipykernel package so we can avoid doing imports until\n"
          ],
          "name": "stderr"
        }
      ]
    },
    {
      "cell_type": "code",
      "metadata": {
        "colab": {
          "base_uri": "https://localhost:8080/"
        },
        "id": "d7a3bM8fxC7D",
        "outputId": "bf569323-e489-46a5-900f-5f728a7c8f05"
      },
      "source": [
        "# B- Index\n",
        "\n",
        "series = pd.Series([1, 2, 3], index=['a', 'b', 'c'])\n",
        "print('{}\\n'.format(series))\n",
        "\n",
        "series = pd.Series([1, 2, 3], index=['a', 8, 0.3])\n",
        "print('{}\\n'.format(series))"
      ],
      "execution_count": null,
      "outputs": [
        {
          "output_type": "stream",
          "text": [
            "a    1\n",
            "b    2\n",
            "c    3\n",
            "dtype: int64\n",
            "\n",
            "a      1\n",
            "8      2\n",
            "0.3    3\n",
            "dtype: int64\n",
            "\n"
          ],
          "name": "stdout"
        }
      ]
    },
    {
      "cell_type": "code",
      "metadata": {
        "colab": {
          "base_uri": "https://localhost:8080/"
        },
        "id": "2jRwJZRVxfEA",
        "outputId": "e8fbb632-0c52-401e-9220-4da030365421"
      },
      "source": [
        "# C- Dictionary Input\n",
        "\n",
        "series = pd.Series({'a': 1, 'b': 2, 'c': 3})\n",
        "print('{}\\n'.format(series))\n",
        "\n",
        "series = pd.Series({'b': 2, 'a': 1, 'c':3})\n",
        "print('{}\\n'.format(series))"
      ],
      "execution_count": null,
      "outputs": [
        {
          "output_type": "stream",
          "text": [
            "a    1\n",
            "b    2\n",
            "c    3\n",
            "dtype: int64\n",
            "\n",
            "b    2\n",
            "a    1\n",
            "c    3\n",
            "dtype: int64\n",
            "\n"
          ],
          "name": "stdout"
        }
      ]
    },
    {
      "cell_type": "markdown",
      "metadata": {
        "id": "cC4DYHgDym7Q"
      },
      "source": [
        "# **DATA FRAME**"
      ]
    },
    {
      "cell_type": "code",
      "metadata": {
        "colab": {
          "base_uri": "https://localhost:8080/"
        },
        "id": "HkSfuBY_yrNO",
        "outputId": "b4564f78-691a-4645-a5c4-6c50e682e00c"
      },
      "source": [
        "# A- 2-D data\n",
        "\n",
        "df = pd.DataFrame()\n",
        "# Newline added to separate DataFrames\n",
        "print('{}\\n'.format(df))\n",
        "\n",
        "df = pd.DataFrame([5, 6])\n",
        "print('{}\\n'.format(df))\n",
        "\n",
        "df = pd.DataFrame([[5, 6]])\n",
        "print('{}\\n'.format(df))\n",
        "\n",
        "df = pd.DataFrame([[5, 6], [1, 3]],\n",
        "                  index = ['r1', 'r2'],\n",
        "                  columns=['c1', 'c2'])\n",
        "print('{}\\n'.format(df))\n",
        "\n",
        "df = pd.DataFrame({'c1': [1, 2], 'c2': [3, 4]},\n",
        "                  index=['r1', 'r2'])\n",
        "print('{}\\n'.format(df))\n"
      ],
      "execution_count": null,
      "outputs": [
        {
          "output_type": "stream",
          "text": [
            "Empty DataFrame\n",
            "Columns: []\n",
            "Index: []\n",
            "\n",
            "   0\n",
            "0  5\n",
            "1  6\n",
            "\n",
            "   0  1\n",
            "0  5  6\n",
            "\n",
            "    c1  c2\n",
            "r1   5   6\n",
            "r2   1   3\n",
            "\n",
            "    c1  c2\n",
            "r1   1   3\n",
            "r2   2   4\n",
            "\n"
          ],
          "name": "stdout"
        }
      ]
    },
    {
      "cell_type": "code",
      "metadata": {
        "colab": {
          "base_uri": "https://localhost:8080/"
        },
        "id": "dLbaetf3z4oG",
        "outputId": "7148e20f-07b6-448d-db74-470987f2011d"
      },
      "source": [
        "# B- Upcasting\n",
        "\n",
        "upcast = pd.DataFrame([[5, 6], [1.2, 3]])\n",
        "print('{}\\n'.format(upcast))\n",
        "# Datatypes of each column\n",
        "print(upcast.dtypes)"
      ],
      "execution_count": null,
      "outputs": [
        {
          "output_type": "stream",
          "text": [
            "     0  1\n",
            "0  5.0  6\n",
            "1  1.2  3\n",
            "\n",
            "0    float64\n",
            "1      int64\n",
            "dtype: object\n"
          ],
          "name": "stdout"
        }
      ]
    },
    {
      "cell_type": "code",
      "metadata": {
        "colab": {
          "base_uri": "https://localhost:8080/"
        },
        "id": "8LC5kbl20Vc9",
        "outputId": "cb2f88a9-abbb-4971-e3de-d235a0e3c490"
      },
      "source": [
        "# C- Appending rows\n",
        "\n",
        "df = pd.DataFrame([[5, 6], [1.2, 3]])\n",
        "ser = pd.Series([0, 0], name='r3')\n",
        "\n",
        "df_app = df.append(ser)\n",
        "print('{}\\n'.format(df_app))\n",
        "\n",
        "df_app = df.append(ser, ignore_index=True)\n",
        "print('{}\\n'.format(df_app))\n",
        "\n",
        "df2 = pd.DataFrame([[0, 0], [9, 9]])\n",
        "df_app = df.append(df2)\n",
        "print('{}\\n'.format(df_app))"
      ],
      "execution_count": null,
      "outputs": [
        {
          "output_type": "stream",
          "text": [
            "      0  1\n",
            "0   5.0  6\n",
            "1   1.2  3\n",
            "r3  0.0  0\n",
            "\n",
            "     0  1\n",
            "0  5.0  6\n",
            "1  1.2  3\n",
            "2  0.0  0\n",
            "\n",
            "     0  1\n",
            "0  5.0  6\n",
            "1  1.2  3\n",
            "0  0.0  0\n",
            "1  9.0  9\n",
            "\n"
          ],
          "name": "stdout"
        }
      ]
    },
    {
      "cell_type": "code",
      "metadata": {
        "colab": {
          "base_uri": "https://localhost:8080/"
        },
        "id": "CCxlBk1z1Qz1",
        "outputId": "cab51bbc-ab60-4cbb-a59c-35e541f74aca"
      },
      "source": [
        "# D- Dropping Data\n",
        "\n",
        "df = pd.DataFrame({'c1': [1, 2], 'c2': [3, 4],\n",
        "                   'c3': [5, 6]}, index=['r1', 'r2'])\n",
        "\n",
        "# Drop row r1\n",
        "df_drop = df.drop(labels='r1')\n",
        "print('{}\\n'.format(df_drop))\n",
        "\n",
        "# Drop culumns c1, c3\n",
        "#df_drop = df.drop(columns=['c1', 'c3'])\n",
        "# or \n",
        "df_drop = df.drop(labels=['c1', 'c3'], axis=1)\n",
        "print('{}\\n'.format(df_drop))\n",
        "\n",
        "df_drop = df.drop(index='r2')\n",
        "print('{}\\n'.format(df_drop))\n",
        "\n",
        "df_drop = df.drop(columns='c2')\n",
        "print('{}\\n'.format(df_drop))\n",
        "\n",
        "df_drop = df.drop(index='r2', columns='c2')\n",
        "print('{}\\n'.format(df_drop))"
      ],
      "execution_count": null,
      "outputs": [
        {
          "output_type": "stream",
          "text": [
            "    c1  c2  c3\n",
            "r2   2   4   6\n",
            "\n",
            "    c2\n",
            "r1   3\n",
            "r2   4\n",
            "\n",
            "    c1  c2  c3\n",
            "r1   1   3   5\n",
            "\n",
            "    c1  c3\n",
            "r1   1   5\n",
            "r2   2   6\n",
            "\n",
            "    c1  c3\n",
            "r1   1   5\n",
            "\n"
          ],
          "name": "stdout"
        }
      ]
    },
    {
      "cell_type": "markdown",
      "metadata": {
        "id": "Fs-UlhAV4qz8"
      },
      "source": [
        "# **COMBINING**"
      ]
    },
    {
      "cell_type": "code",
      "metadata": {
        "colab": {
          "base_uri": "https://localhost:8080/"
        },
        "id": "HNrFzcYc4tVK",
        "outputId": "378d00cc-5cda-438f-c1d2-37e0674f5751"
      },
      "source": [
        "# A- Combining\n",
        "\n",
        "df1 = pd.DataFrame({'c1': [1, 2], 'c2': [3, 4]},\n",
        "                    index = ['r1', 'r2'])\n",
        "\n",
        "df2 = pd.DataFrame({'c1': [5, 6], 'c2': [7, 8]},\n",
        "                   index = ['r1', 'r2'])\n",
        "df3 = pd.DataFrame({'c1': [5, 6], 'c2': [7, 8]})\n",
        "\n",
        "concat = pd.concat([df1, df2], axis = 1)\n",
        "print('{}\\n'.format(concat))\n",
        "\n",
        "concat = pd.concat([df2, df1, df3])\n",
        "print('{}\\n'.format(concat))\n",
        "\n",
        "\n",
        "concat = pd.concat([df1, df3], axis=1)\n",
        "print('{}\\n'.format(concat))"
      ],
      "execution_count": null,
      "outputs": [
        {
          "output_type": "stream",
          "text": [
            "    c1  c2  c1  c2\n",
            "r1   1   3   5   7\n",
            "r2   2   4   6   8\n",
            "\n",
            "    c1  c2\n",
            "r1   5   7\n",
            "r2   6   8\n",
            "r1   1   3\n",
            "r2   2   4\n",
            "0    5   7\n",
            "1    6   8\n",
            "\n",
            "     c1   c2   c1   c2\n",
            "r1  1.0  3.0  NaN  NaN\n",
            "r2  2.0  4.0  NaN  NaN\n",
            "0   NaN  NaN  5.0  7.0\n",
            "1   NaN  NaN  6.0  8.0\n",
            "\n"
          ],
          "name": "stdout"
        }
      ]
    },
    {
      "cell_type": "code",
      "metadata": {
        "colab": {
          "base_uri": "https://localhost:8080/"
        },
        "id": "4OICVjqLBiFN",
        "outputId": "12cacee5-a128-4392-93ef-f8c0c413b556"
      },
      "source": [
        "# B- Merging\n",
        "\n",
        "mlb_df1 = pd.DataFrame({'name': ['john doe', 'al smith', 'sam black', 'john doe'],\n",
        "                        'pos': ['1B', 'C', 'P', '2B'],\n",
        "                        'year': [2000, 2004, 2008, 2003]})\n",
        "\n",
        "mlb_df2 = pd.DataFrame({'name': ['john doe', 'al smith', 'jack lee'],\n",
        "                        'year': [2000, 2004, 2012],\n",
        "                        'rbi': [80, 100, 12]})\n",
        "\n",
        "print('{}\\n'.format(mlb_df1))\n",
        "print('{}\\n'.format(mlb_df2))\n",
        "\n",
        "mlb_merged = pd.merge(mlb_df1, mlb_df2)\n",
        "print('{}\\n'.format(mlb_merged))"
      ],
      "execution_count": null,
      "outputs": [
        {
          "output_type": "stream",
          "text": [
            "        name pos  year\n",
            "0   john doe  1B  2000\n",
            "1   al smith   C  2004\n",
            "2  sam black   P  2008\n",
            "3   john doe  2B  2003\n",
            "\n",
            "       name  year  rbi\n",
            "0  john doe  2000   80\n",
            "1  al smith  2004  100\n",
            "2  jack lee  2012   12\n",
            "\n",
            "       name pos  year  rbi\n",
            "0  john doe  1B  2000   80\n",
            "1  al smith   C  2004  100\n",
            "\n"
          ],
          "name": "stdout"
        }
      ]
    },
    {
      "cell_type": "markdown",
      "metadata": {
        "id": "OeO0LEnRDJLl"
      },
      "source": [
        "# **INDEXING**"
      ]
    },
    {
      "cell_type": "code",
      "metadata": {
        "colab": {
          "base_uri": "https://localhost:8080/"
        },
        "id": "rkXxK03BDL5r",
        "outputId": "ab6a4bd1-463b-4698-f319-b7eb3362a806"
      },
      "source": [
        "# A- Direct Indexing\n",
        "\n",
        "df = pd.DataFrame({'c1': [1, 2], 'c2': [3, 4],\n",
        "                   'c3': [5, 6]}, index = ['r1', 'r2'])\n",
        "\n",
        "col1 = df['c2']\n",
        "print('{}\\n'.format(col1))\n",
        "\n",
        "col1_df = df[['c1']]\n",
        "print('{}\\n'.format(col1_df))\n",
        "\n",
        "col23 = df[['c2', 'c3']]\n",
        "print('{}\\n'.format(col23))"
      ],
      "execution_count": null,
      "outputs": [
        {
          "output_type": "stream",
          "text": [
            "r1    3\n",
            "r2    4\n",
            "Name: c2, dtype: int64\n",
            "\n",
            "    c1\n",
            "r1   1\n",
            "r2   2\n",
            "\n",
            "    c2  c3\n",
            "r1   3   5\n",
            "r2   4   6\n",
            "\n"
          ],
          "name": "stdout"
        }
      ]
    },
    {
      "cell_type": "code",
      "metadata": {
        "colab": {
          "base_uri": "https://localhost:8080/"
        },
        "id": "3IyfyfJEEc01",
        "outputId": "b0801c05-3ba0-4aa0-e534-974084e0a3d7"
      },
      "source": [
        "df = pd.DataFrame({'c1': [1, 2, 3], 'c2': [4, 5, 6],\n",
        "                   'c3': [7, 8, 9]}, index = ['r1', 'r2', 'r3'])\n",
        "\n",
        "print('{}\\n'.format(df))\n",
        "\n",
        "first_two_rows = df[0:2]\n",
        "print('{}\\n'.format(first_two_rows))\n",
        "\n",
        "last_two_rows = df['r2': 'r3']\n",
        "print('{}\\n'.format(last_two_rows))\n",
        "\n",
        "# Result in KeyError\n",
        "#df['r1']"
      ],
      "execution_count": null,
      "outputs": [
        {
          "output_type": "stream",
          "text": [
            "    c1  c2  c3\n",
            "r1   1   4   7\n",
            "r2   2   5   8\n",
            "r3   3   6   9\n",
            "\n",
            "    c1  c2  c3\n",
            "r1   1   4   7\n",
            "r2   2   5   8\n",
            "\n",
            "    c1  c2  c3\n",
            "r2   2   5   8\n",
            "r3   3   6   9\n",
            "\n"
          ],
          "name": "stdout"
        }
      ]
    },
    {
      "cell_type": "code",
      "metadata": {
        "colab": {
          "base_uri": "https://localhost:8080/"
        },
        "id": "ZnoIBvFiFROj",
        "outputId": "6c72a3f1-d8aa-4748-9ad7-96f37e1a5f7c"
      },
      "source": [
        "# B- Other indexing\n",
        "\n",
        "df = pd.DataFrame({'c1': [1, 2, 3], 'c2': [4, 5, 6],\n",
        "                   'c3': [7, 8, 9]}, index = ['r1', 'r2', 'r3'])\n",
        "\n",
        "print('{}\\n'.format(df))\n",
        "\n",
        "print('{}\\n'.format(df.iloc[1]))\n",
        "\n",
        "print('{}\\n'.format(df.iloc[[0, 2]]))\n",
        "\n",
        "bool_list = [False, True, True]\n",
        "print('{}\\n'.format(df.iloc[bool_list]))"
      ],
      "execution_count": null,
      "outputs": [
        {
          "output_type": "stream",
          "text": [
            "    c1  c2  c3\n",
            "r1   1   4   7\n",
            "r2   2   5   8\n",
            "r3   3   6   9\n",
            "\n",
            "c1    2\n",
            "c2    5\n",
            "c3    8\n",
            "Name: r2, dtype: int64\n",
            "\n",
            "    c1  c2  c3\n",
            "r1   1   4   7\n",
            "r3   3   6   9\n",
            "\n",
            "    c1  c2  c3\n",
            "r2   2   5   8\n",
            "r3   3   6   9\n",
            "\n"
          ],
          "name": "stdout"
        }
      ]
    },
    {
      "cell_type": "code",
      "metadata": {
        "colab": {
          "base_uri": "https://localhost:8080/"
        },
        "id": "TzdW1qecF3dR",
        "outputId": "1cef87e4-8d66-4e2c-8ebc-56e0ebb795e1"
      },
      "source": [
        "df = pd.DataFrame({'c1': [1, 2, 3], 'c2': [4, 5, 6],\n",
        "                   'c3': [7, 8, 9]}, index = ['r1', 'r2', 'r3'])\n",
        "\n",
        "print('{}\\n'.format(df))\n",
        "\n",
        "print('{}\\n'.format(df.loc['r2']))\n",
        "\n",
        "bool_list = [False, True, True]\n",
        "print('{}\\n'.format(df.loc[bool_list]))\n",
        "\n",
        "signal_val = df.loc['r1', 'c2']\n",
        "print('Signal val: {}\\n'.format(signal_val))\n",
        "\n",
        "print('{}\\n'.format(df.loc[['r1', 'r3'], 'c2']))\n",
        "\n",
        "df.loc[['r1', 'r3'], 'c2'] = 0\n",
        "print('{}\\n'.format(df))"
      ],
      "execution_count": null,
      "outputs": [
        {
          "output_type": "stream",
          "text": [
            "    c1  c2  c3\n",
            "r1   1   4   7\n",
            "r2   2   5   8\n",
            "r3   3   6   9\n",
            "\n",
            "c1    2\n",
            "c2    5\n",
            "c3    8\n",
            "Name: r2, dtype: int64\n",
            "\n",
            "    c1  c2  c3\n",
            "r2   2   5   8\n",
            "r3   3   6   9\n",
            "\n",
            "Signal val: 4\n",
            "\n",
            "r1    4\n",
            "r3    6\n",
            "Name: c2, dtype: int64\n",
            "\n",
            "    c1  c2  c3\n",
            "r1   1   0   7\n",
            "r2   2   5   8\n",
            "r3   3   0   9\n",
            "\n"
          ],
          "name": "stdout"
        }
      ]
    },
    {
      "cell_type": "markdown",
      "metadata": {
        "id": "Ci97FZhOIFL6"
      },
      "source": [
        "# **FILE I/O**"
      ]
    },
    {
      "cell_type": "code",
      "metadata": {
        "colab": {
          "base_uri": "https://localhost:8080/"
        },
        "id": "8lRiqa3lIIHu",
        "outputId": "22c086ab-490b-41e8-faa2-08ac7ce86f32"
      },
      "source": [
        "# A- reading Data\n",
        "# CSV\n",
        "\n",
        "# data.csv contains baseball data\n",
        "df = pd.read_csv('data.csv')\n",
        "print('{}\\n'.format(df))\n",
        "\n",
        "df = pd.read_csv('data.csv', index_col=0)\n",
        "print('{}\\n'.format(df))\n",
        "\n",
        "df = pd.read_csv('data.csv', index_col=1)\n",
        "print('{}\\n'.format(df))"
      ],
      "execution_count": null,
      "outputs": [
        {
          "output_type": "stream",
          "text": [
            "   HR       name pos\n",
            "0  17  joe smith  2B\n",
            "1  28  alan west   C\n",
            "2  19   john doe   P\n",
            "\n",
            "         name pos\n",
            "HR               \n",
            "17  joe smith  2B\n",
            "28  alan west   C\n",
            "19   john doe   P\n",
            "\n",
            "           HR pos\n",
            "name             \n",
            "joe smith  17  2B\n",
            "alan west  28   C\n",
            "john doe   19   P\n",
            "\n"
          ],
          "name": "stdout"
        }
      ]
    },
    {
      "cell_type": "code",
      "metadata": {
        "id": "ruq9SCOgO1Rx"
      },
      "source": [
        "# EXECL. (need files to do that)\n",
        "\n",
        "# data.xlsv contains baseball data\n",
        "fd = pd.read_excel('data.xlsx')\n",
        "print('{}\\n'.format(df))\n",
        "\n",
        "# sheet 1\n",
        "print('sheet 1 (0-indexed) dataFrame:')\n",
        "df = pd.read_excel('data.xlsx', sheet_name=1)\n",
        "print('{}\\n'.format(df))\n",
        "\n",
        "# sheet MIL\n",
        "print('MIL DataFrame:')\n",
        "df = pd.read_excel('data.xlsx', sheet_name='MIL')\n",
        "print('{}\\n'.format(df))\n",
        "\n",
        "# sheet 0 and 1\n",
        "print('sheet 1 (0-indexed) dataFrame:')\n",
        "df = pd.read_excel('data.xlsx', sheet_name=[0, 1])\n",
        "print('{}\\n'.format(df))\n",
        "\n",
        "# All sheets\n",
        "df_dict = pd.read_excel('data.xlsx', sheet_name=None)\n",
        "print('{}\\n'.format(df))"
      ],
      "execution_count": null,
      "outputs": []
    },
    {
      "cell_type": "code",
      "metadata": {
        "id": "iH4Kq0siS94W"
      },
      "source": [
        "# JSON. (need files to do that)\n",
        "\n",
        "# data is the JSON data(as Python dict)\n",
        "print('{}\\n'.format(data))\n",
        "\n",
        "df1 = pd.read_json('data.json')\n",
        "print('{}\\n'.format(df1))\n",
        "\n",
        "df2 = pd.read_json('data.json', orient='index')\n",
        "print('{}\\n'.format(df2))"
      ],
      "execution_count": null,
      "outputs": []
    },
    {
      "cell_type": "code",
      "metadata": {
        "colab": {
          "base_uri": "https://localhost:8080/"
        },
        "id": "gTOwayNCVED7",
        "outputId": "d946c655-7a5d-4e23-ae1e-10874a29eac3"
      },
      "source": [
        "# Writing to files\n",
        "# CSV\n",
        "\n",
        "# Predefined mlb_df\n",
        "print('{}\\n'.format(df))\n",
        "\n",
        "# Index is kept when writing\n",
        "df.to_csv('data.csv')\n",
        "df = pd.read_csv('data.csv')\n",
        "print('{}\\n'.format(df))\n",
        "\n",
        "# Index is not kept when writing\n",
        "df.to_csv('data.csv', index=False)\n",
        "df = pd.read_csv('data.csv')\n",
        "print('{}\\n'.format(df))"
      ],
      "execution_count": null,
      "outputs": [
        {
          "output_type": "stream",
          "text": [
            "   Unnamed: 0       name  HR pos\n",
            "0           0  joe smith  17  2B\n",
            "1           1  alan west  28   C\n",
            "2           2   john doe  19   P\n",
            "\n",
            "   Unnamed: 0  Unnamed: 0.1       name  HR pos\n",
            "0           0             0  joe smith  17  2B\n",
            "1           1             1  alan west  28   C\n",
            "2           2             2   john doe  19   P\n",
            "\n",
            "   Unnamed: 0  Unnamed: 0.1       name  HR pos\n",
            "0           0             0  joe smith  17  2B\n",
            "1           1             1  alan west  28   C\n",
            "2           2             2   john doe  19   P\n",
            "\n"
          ],
          "name": "stdout"
        }
      ]
    },
    {
      "cell_type": "code",
      "metadata": {
        "id": "IEo_QKawVUuL"
      },
      "source": [
        "# EXCEL. (need files to do that)\n",
        "\n",
        "# Predefined DataFrames\n",
        "print('{}\\n'.format(mlb_df1))\n",
        "print('{}\\n'.format(mlb_df2))\n",
        "\n",
        "with pd.ExcelWriter('data.xlsx') as writer:\n",
        "  mlb_df1.to_excel(writer, index=False, sheet_name='NYY')\n",
        "  mlb_df2.to_excel(writer, index=False, sheet_name='BOS')\n",
        "  \n",
        "df_dict = pd.read_excel('data.xlsx', sheet_name=None)\n",
        "print(df_dict.keys())\n",
        "print('{}\\n'.format(df_dict['BOS']))"
      ],
      "execution_count": null,
      "outputs": []
    },
    {
      "cell_type": "code",
      "metadata": {
        "id": "fM7srw1SVcZb"
      },
      "source": [
        "# JSON. (need files to do that)\n",
        "\n",
        "# Predefined df\n",
        "print('{}\\n'.format(df))\n",
        "\n",
        "df.to_json('data.json')\n",
        "df2 = pd.read_json('data.json')\n",
        "print('{}\\n'.format(df2))\n",
        "\n",
        "df.to_json('data.json', orient='index')\n",
        "df2 = pd.read_json('data.json')\n",
        "print('{}\\n'.format(df2))\n",
        "df2 = pd.read_json('data.json', orient='index')\n",
        "print('{}\\n'.format(df2))"
      ],
      "execution_count": null,
      "outputs": []
    },
    {
      "cell_type": "markdown",
      "metadata": {
        "id": "u5991dqLUlsx"
      },
      "source": [
        "# **GROUPING**"
      ]
    },
    {
      "cell_type": "code",
      "metadata": {
        "id": "8lt7SWT1Uofj",
        "colab": {
          "base_uri": "https://localhost:8080/"
        },
        "outputId": "bc000624-b1cf-4ce3-ec20-7a45bd6984ac"
      },
      "source": [
        "# A- Grouping by column\n",
        "\n",
        "# predifined df of MLB stats (for me its not i did it my self)\n",
        "df = pd.read_csv('grouping.csv')\n",
        "print('{}\\n'.format(df))\n",
        "\n",
        "# grous by yearID\n",
        "groups = df.groupby('yearID')\n",
        "for name, group in groups:\n",
        "  print('Year: {}'.format(name))\n",
        "  print('{}\\n'.format(group))\n",
        "\n",
        "# getgroup \n",
        "print('Group 2016:\\n{}\\n'.format(groups.get_group(2016)))\n",
        "print('SUM:\\n{}\\n'.format(groups.sum()))\n",
        "print('MEAN:\\n{}\\n'.format(groups.mean()))"
      ],
      "execution_count": 6,
      "outputs": [
        {
          "output_type": "stream",
          "text": [
            "   yearID teamID     H    R\n",
            "0    2017    CLE  1449  818\n",
            "1    2015    CLE  1395  669\n",
            "2    2016    BOS  1598  878\n",
            "3    2015    DET  1515  689\n",
            "4    2016    DET  1476  750\n",
            "5    2016    CLE  1435  777\n",
            "6    2015    BOS  1495  748\n",
            "7    2017    BOS  1461  785\n",
            "\n",
            "Year: 2015\n",
            "   yearID teamID     H    R\n",
            "1    2015    CLE  1395  669\n",
            "3    2015    DET  1515  689\n",
            "6    2015    BOS  1495  748\n",
            "\n",
            "Year: 2016\n",
            "   yearID teamID     H    R\n",
            "2    2016    BOS  1598  878\n",
            "4    2016    DET  1476  750\n",
            "5    2016    CLE  1435  777\n",
            "\n",
            "Year: 2017\n",
            "   yearID teamID     H    R\n",
            "0    2017    CLE  1449  818\n",
            "7    2017    BOS  1461  785\n",
            "\n",
            "Group 2016:\n",
            "   yearID teamID     H    R\n",
            "2    2016    BOS  1598  878\n",
            "4    2016    DET  1476  750\n",
            "5    2016    CLE  1435  777\n",
            "\n",
            "SUM:\n",
            "           H     R\n",
            "yearID            \n",
            "2015    4405  2106\n",
            "2016    4509  2405\n",
            "2017    2910  1603\n",
            "\n",
            "MEAN:\n",
            "                  H           R\n",
            "yearID                         \n",
            "2015    1468.333333  702.000000\n",
            "2016    1503.000000  801.666667\n",
            "2017    1455.000000  801.500000\n",
            "\n"
          ],
          "name": "stdout"
        }
      ]
    },
    {
      "cell_type": "code",
      "metadata": {
        "colab": {
          "base_uri": "https://localhost:8080/"
        },
        "id": "7UOPyLxAWM1S",
        "outputId": "c20fcc54-6c5e-4194-d0c3-e66431acee40"
      },
      "source": [
        "# filter\r\n",
        "no2015 = groups.filter(lambda x: x.name > 2015)\r\n",
        "print(no2015)"
      ],
      "execution_count": 9,
      "outputs": [
        {
          "output_type": "stream",
          "text": [
            "  teamID     H    R\n",
            "0    CLE  1449  818\n",
            "2    BOS  1598  878\n",
            "4    DET  1476  750\n",
            "5    CLE  1435  777\n",
            "7    BOS  1461  785\n"
          ],
          "name": "stdout"
        }
      ]
    },
    {
      "cell_type": "code",
      "metadata": {
        "colab": {
          "base_uri": "https://localhost:8080/"
        },
        "id": "fM8h6zAuWctT",
        "outputId": "7239eabd-28f9-4d85-a78c-530bcad77607"
      },
      "source": [
        "# B- Multiple Columns\r\n",
        "\r\n",
        "# define player_df\r\n",
        "player_df = pd.read_csv('player.csv')\r\n",
        "\r\n",
        "groups = player_df.groupby(['yearID', 'teamID'])\r\n",
        "\r\n",
        "for name, group in groups:\r\n",
        "  print('Year, Team: {}',format(name))\r\n",
        "  print('{}\\n'.format(group))\r\n",
        "\r\n",
        "print(groups.sum())"
      ],
      "execution_count": 11,
      "outputs": [
        {
          "output_type": "stream",
          "text": [
            "Year, Team: {} (2016, 'BOS')\n",
            "   yearID   playerID teamID    H\n",
            "1    2016  bettsmo01    BOS  214\n",
            "2    2016  bogaexa01    BOS  192\n",
            "4    2016  pedrodu01    BOS  201\n",
            "\n",
            "Year, Team: {} (2016, 'HOU')\n",
            "   yearID   playerID teamID    H\n",
            "0    2016  altuvjo01    HOU  216\n",
            "3    2016  correca01    HOU  158\n",
            "\n",
            "Year, Team: {} (2017, 'BOS')\n",
            "   yearID   playerID teamID    H\n",
            "6    2017  bettsmo01    BOS  166\n",
            "7    2017  bogaexa01    BOS  156\n",
            "9    2017  pedrodu01    BOS  119\n",
            "\n",
            "Year, Team: {} (2017, 'HOU')\n",
            "   yearID   playerID teamID    H\n",
            "5    2017  altuvjo01    HOU  204\n",
            "8    2017  correca01    HOU  133\n",
            "\n",
            "                 H\n",
            "yearID teamID     \n",
            "2016   BOS     607\n",
            "       HOU     374\n",
            "2017   BOS     441\n",
            "       HOU     337\n"
          ],
          "name": "stdout"
        }
      ]
    },
    {
      "cell_type": "markdown",
      "metadata": {
        "id": "mZcs2ZGrcjH7"
      },
      "source": [
        "# **FEATURES**"
      ]
    },
    {
      "cell_type": "code",
      "metadata": {
        "id": "O2NMCy38coQU"
      },
      "source": [
        "# A- Quantitive vs Categorical\r\n",
        "\r\n",
        "# A quantitative feature, e.g. height or weight, is a feature that can be measured numerically. These are features we could calculate the sum, mean, or other numerical metrics for.\r\n",
        "# A categorical feature, e.g. gender or birthplace, is one where the values are categories that could be used to group the dataset. These are the features we would use with the groupby function.\r\n"
      ],
      "execution_count": null,
      "outputs": []
    },
    {
      "cell_type": "code",
      "metadata": {
        "colab": {
          "base_uri": "https://localhost:8080/"
        },
        "id": "ZKpyOuZpeVSc",
        "outputId": "0950bc69-da04-4d5b-aa55-9fe64231d278"
      },
      "source": [
        "# B- Quantitive Features\r\n",
        "\r\n",
        "df = pd.DataFrame({\r\n",
        "    'T1': [10, 15, 8],\r\n",
        "    'T2': [25, 27, 25],\r\n",
        "    'T3': [16, 15, 10]})\r\n",
        "\r\n",
        "print('{}\\n'.format(df))\r\n",
        "\r\n",
        "print('{}\\n'.format(df.sum()))\r\n",
        "\r\n",
        "print('{}\\n'.format(df.sum(axis=1)))\r\n",
        "\r\n",
        "print('{}\\n'.format(df.mean()))\r\n",
        "\r\n",
        "print('{}\\n'.format(df.mean(axis=1)))"
      ],
      "execution_count": 12,
      "outputs": [
        {
          "output_type": "stream",
          "text": [
            "   T1  T2  T3\n",
            "0  10  25  16\n",
            "1  15  27  15\n",
            "2   8  25  10\n",
            "\n",
            "T1    33\n",
            "T2    77\n",
            "T3    41\n",
            "dtype: int64\n",
            "\n",
            "0    51\n",
            "1    57\n",
            "2    43\n",
            "dtype: int64\n",
            "\n",
            "T1    11.000000\n",
            "T2    25.666667\n",
            "T3    13.666667\n",
            "dtype: float64\n",
            "\n",
            "0    17.000000\n",
            "1    19.000000\n",
            "2    14.333333\n",
            "dtype: float64\n",
            "\n"
          ],
          "name": "stdout"
        }
      ]
    },
    {
      "cell_type": "code",
      "metadata": {
        "colab": {
          "base_uri": "https://localhost:8080/"
        },
        "id": "d40acr6MfSlN",
        "outputId": "b0448118-69df-4a1b-9b7b-3d7f48d4461d"
      },
      "source": [
        "# C- Weighted Features\r\n",
        "\r\n",
        "df = pd.DataFrame({\r\n",
        "    'T1': [0.1, 150.],\r\n",
        "    'T2': [0.25, 240.],\r\n",
        "    'T3': [0.16, 100.]})\r\n",
        "\r\n",
        "print('{}\\n'.format(df))\r\n",
        "\r\n",
        "print('df multiplied by 2:\\n{}\\n'.format(df.multiply(2)))\r\n",
        "\r\n",
        "df_ms = df.multiply([100, 1], axis=0)\r\n",
        "print('df_ms: df multiplied by [100, 1]:\\n{}\\n'.format(df_ms))\r\n",
        "\r\n",
        "df_w = df_ms.multiply([1, 0.5, 1])\r\n",
        "print('df_w: df_ms multiplied by [1, 05, 1]:\\n{}\\n'.format(df_w))\r\n",
        "print('Sum of df_w:\\n{}\\n'.format(df_w.sum(axis=1)))"
      ],
      "execution_count": 15,
      "outputs": [
        {
          "output_type": "stream",
          "text": [
            "      T1      T2      T3\n",
            "0    0.1    0.25    0.16\n",
            "1  150.0  240.00  100.00\n",
            "\n",
            "df multiplied by 2:\n",
            "      T1     T2      T3\n",
            "0    0.2    0.5    0.32\n",
            "1  300.0  480.0  200.00\n",
            "\n",
            "df_ms: df multiplied by [100, 1]:\n",
            "      T1     T2     T3\n",
            "0   10.0   25.0   16.0\n",
            "1  150.0  240.0  100.0\n",
            "\n",
            "df_w: df_ms multiplied by [1, 05, 1]:\n",
            "      T1     T2     T3\n",
            "0   10.0   12.5   16.0\n",
            "1  150.0  120.0  100.0\n",
            "\n",
            "Sum of df_w:\n",
            "0     38.5\n",
            "1    370.0\n",
            "dtype: float64\n",
            "\n"
          ],
          "name": "stdout"
        }
      ]
    },
    {
      "cell_type": "markdown",
      "metadata": {
        "id": "55HIeHQskxXX"
      },
      "source": [
        "# **FILTERING**"
      ]
    },
    {
      "cell_type": "code",
      "metadata": {
        "colab": {
          "base_uri": "https://localhost:8080/"
        },
        "id": "1iGT1I1bk3J0",
        "outputId": "6cd9fc14-4887-4b65-9af9-2b98ce697ae8"
      },
      "source": [
        "# A- Filter Conditions\r\n",
        "\r\n",
        "\r\n",
        "df = pd.DataFrame({\r\n",
        "    'playerID': ['bettsmo01', 'canoro01', 'cruzne02', 'ortizda01', 'cruzne02'],\r\n",
        "    'yearID': [2016, 2016, 2016, 2016, 2017],\r\n",
        "    'teamID': ['BOS', 'SEA', 'SEA', 'BOS', 'SEA'],\r\n",
        "    'HR': [31, 39, 43, 38, 39]})\r\n",
        "\r\n",
        "print('{}\\n'.format(df))\r\n",
        "\r\n",
        "cruzne02 = df['playerID'] == 'cruzne02'\r\n",
        "print('Player cruzene02 filter:\\n{}\\n'.format(cruzne02))\r\n",
        "\r\n",
        "hr40 = df['HR'] > 40\r\n",
        "print('HR > 40:\\n{}\\n'.format(hr40))\r\n",
        "\r\n",
        "notbos = df['teamID'] != 'BOS'\r\n",
        "print('Teams not BOS:\\n{}\\n'.format(notbos))"
      ],
      "execution_count": 5,
      "outputs": [
        {
          "output_type": "stream",
          "text": [
            "    playerID  yearID teamID  HR\n",
            "0  bettsmo01    2016    BOS  31\n",
            "1   canoro01    2016    SEA  39\n",
            "2   cruzne02    2016    SEA  43\n",
            "3  ortizda01    2016    BOS  38\n",
            "4   cruzne02    2017    SEA  39\n",
            "\n",
            "Player cruzene02 filter:\n",
            "0    False\n",
            "1    False\n",
            "2     True\n",
            "3    False\n",
            "4     True\n",
            "Name: playerID, dtype: bool\n",
            "\n",
            "HR > 40:\n",
            "0    False\n",
            "1    False\n",
            "2     True\n",
            "3    False\n",
            "4    False\n",
            "Name: HR, dtype: bool\n",
            "\n",
            "Teams not BOS:\n",
            "0    False\n",
            "1     True\n",
            "2     True\n",
            "3    False\n",
            "4     True\n",
            "Name: teamID, dtype: bool\n",
            "\n"
          ],
          "name": "stdout"
        }
      ]
    },
    {
      "cell_type": "code",
      "metadata": {
        "colab": {
          "base_uri": "https://localhost:8080/"
        },
        "id": "kYxixH55gZNQ",
        "outputId": "0c03314d-4eb6-4b69-cc14-fbbe48b0ad7c"
      },
      "source": [
        "# B- Filter from Functions\r\n",
        "\r\n",
        "df = pd.DataFrame({\r\n",
        "    'playerID': ['bettsmo01', 'canoro01', 'cruzne02', 'ortizda01', 'cruzne02'],\r\n",
        "    'yearID': [2016, 2016, 2016, 2016, 2017],\r\n",
        "    'teamID': ['BOS', 'SEA', 'SEA', 'BOS', 'SEA'],\r\n",
        "    'HR': [31, 39, 43, 38, 39]})\r\n",
        "\r\n",
        "print('{}\\n'.format(df))\r\n",
        "\r\n",
        "str_f1 = df['playerID'].str.startswith('c')\r\n",
        "print('Player names starts with \"c\":\\n{}\\n'.format(str_f1))\r\n",
        "\r\n",
        "\r\n",
        "str_f2 = df['playerID'].str.endswith('s')\r\n",
        "print('Player names end with \"s\":\\n{}\\n'.format(str_f2))\r\n",
        "\r\n",
        "\r\n",
        "str_f3 = ~df['playerID'].str.contains('o')\r\n",
        "print('Player names does\\'nt contain \"o\":\\n{}\\n'.format(str_f3))"
      ],
      "execution_count": 9,
      "outputs": [
        {
          "output_type": "stream",
          "text": [
            "    playerID  yearID teamID  HR\n",
            "0  bettsmo01    2016    BOS  31\n",
            "1   canoro01    2016    SEA  39\n",
            "2   cruzne02    2016    SEA  43\n",
            "3  ortizda01    2016    BOS  38\n",
            "4   cruzne02    2017    SEA  39\n",
            "\n",
            "Player names starts with \"c\":\n",
            "0    False\n",
            "1     True\n",
            "2     True\n",
            "3    False\n",
            "4     True\n",
            "Name: playerID, dtype: bool\n",
            "\n",
            "Player names end with \"s\":\n",
            "0    False\n",
            "1    False\n",
            "2    False\n",
            "3    False\n",
            "4    False\n",
            "Name: playerID, dtype: bool\n",
            "\n",
            "Player names does'nt contain \"o\":\n",
            "0    False\n",
            "1    False\n",
            "2     True\n",
            "3    False\n",
            "4     True\n",
            "Name: playerID, dtype: bool\n",
            "\n"
          ],
          "name": "stdout"
        }
      ]
    },
    {
      "cell_type": "code",
      "metadata": {
        "colab": {
          "base_uri": "https://localhost:8080/"
        },
        "id": "1HR3IBbN-DcQ",
        "outputId": "66df5e2c-de05-4506-f0f0-5911801d54b2"
      },
      "source": [
        "# second part\r\n",
        "\r\n",
        "df = pd.DataFrame({\r\n",
        "    'playerID': ['bettsmo01', 'canoro01', 'cruzne02', 'ortizda01', 'cruzne02'],\r\n",
        "    'yearID': [2016, 2016, 2016, 2016, 2017],\r\n",
        "    'teamID': ['BOS', 'SEA', 'SEA', 'BOS', 'SEA'],\r\n",
        "    'HR': [31, 39, 43, 38, 39]})\r\n",
        "\r\n",
        "print('{}\\n'.format(df))\r\n",
        "\r\n",
        "isin_f1 = df['playerID'].isin(['cruzne02', 'ortizda01'])\r\n",
        "print('{}\\n'.format(isin_f1))\r\n",
        "\r\n",
        "isin_f2 = df['yearID'].isin([2015, 2017])\r\n",
        "print('{}\\n'.format(isin_f2))"
      ],
      "execution_count": 11,
      "outputs": [
        {
          "output_type": "stream",
          "text": [
            "    playerID  yearID teamID  HR\n",
            "0  bettsmo01    2016    BOS  31\n",
            "1   canoro01    2016    SEA  39\n",
            "2   cruzne02    2016    SEA  43\n",
            "3  ortizda01    2016    BOS  38\n",
            "4   cruzne02    2017    SEA  39\n",
            "\n",
            "0    False\n",
            "1    False\n",
            "2     True\n",
            "3     True\n",
            "4     True\n",
            "Name: playerID, dtype: bool\n",
            "\n",
            "0    False\n",
            "1    False\n",
            "2    False\n",
            "3    False\n",
            "4     True\n",
            "Name: yearID, dtype: bool\n",
            "\n"
          ],
          "name": "stdout"
        }
      ]
    },
    {
      "cell_type": "code",
      "metadata": {
        "colab": {
          "base_uri": "https://localhost:8080/"
        },
        "id": "pmL-cTMC-05M",
        "outputId": "555a622a-4b36-47ab-f957-7c50b55f6fc3"
      },
      "source": [
        "# third part\r\n",
        "\r\n",
        "df = pd.DataFrame({\r\n",
        "  'playerID': ['bettsmo01', 'canoro01', 'doejo01'],\r\n",
        "  'yearID': [2016, 2016, 2017],\r\n",
        "  'teamID': ['BOS', 'SEA', np.nan],\r\n",
        "  'HR': [31, 39, 99]})\r\n",
        "\r\n",
        "print('{}\\n'.format(df))\r\n",
        "\r\n",
        "# isna() to test if its NaN\r\n",
        "isna = df['teamID'].isna()\r\n",
        "print('{}\\n'.format(isna))\r\n",
        "\r\n",
        "# notna to test a non NaN\r\n",
        "notna = df['teamID'].notna()\r\n",
        "print('{}\\n'.format(notna))"
      ],
      "execution_count": 14,
      "outputs": [
        {
          "output_type": "stream",
          "text": [
            "    playerID  yearID teamID  HR\n",
            "0  bettsmo01    2016    BOS  31\n",
            "1   canoro01    2016    SEA  39\n",
            "2    doejo01    2017    NaN  99\n",
            "\n",
            "0    False\n",
            "1    False\n",
            "2     True\n",
            "Name: teamID, dtype: bool\n",
            "\n",
            "0     True\n",
            "1     True\n",
            "2    False\n",
            "Name: teamID, dtype: bool\n",
            "\n"
          ],
          "name": "stdout"
        }
      ]
    },
    {
      "cell_type": "code",
      "metadata": {
        "colab": {
          "base_uri": "https://localhost:8080/"
        },
        "id": "PqTz733sBqO3",
        "outputId": "ec87592d-c4cf-4c07-bd9d-6e2df82fafac"
      },
      "source": [
        "# C- Feature Filtering\r\n",
        "\r\n",
        "df = pd.DataFrame({\r\n",
        "  'playerID': ['bettsmo01', 'canoro01', 'cruzne02', 'ortizda01', 'bettsmo01'],\r\n",
        "  'yearID': [2016, 2016, 2016, 2016, 2015],\r\n",
        "  'teamID': ['BOS', 'SEA', 'SEA', 'BOS', 'BOS'],\r\n",
        "  'HR': [31, 39, 43, 38, 18]})\r\n",
        "\r\n",
        "print('{}\\n'.format(df))\r\n",
        "\r\n",
        "hr40_df = df[df['HR'] > 40]\r\n",
        "print('Players with HR > 40:\\n{}\\n'.format(hr40_df))\r\n",
        "\r\n",
        "not_hr30_df = df[~(df['HR'] > 30)]\r\n",
        "print('players with hr < 30:\\n{}\\n'.format(not_hr30_df))\r\n",
        "\r\n",
        "str_df = df[df['teamID'].str.startswith('B')]\r\n",
        "print('players team starts with \"B\":\\n{}\\n'.format(str_df))"
      ],
      "execution_count": 17,
      "outputs": [
        {
          "output_type": "stream",
          "text": [
            "    playerID  yearID teamID  HR\n",
            "0  bettsmo01    2016    BOS  31\n",
            "1   canoro01    2016    SEA  39\n",
            "2   cruzne02    2016    SEA  43\n",
            "3  ortizda01    2016    BOS  38\n",
            "4  bettsmo01    2015    BOS  18\n",
            "\n",
            "Players with HR > 40:\n",
            "   playerID  yearID teamID  HR\n",
            "2  cruzne02    2016    SEA  43\n",
            "\n",
            "players with hr < 30:\n",
            "    playerID  yearID teamID  HR\n",
            "4  bettsmo01    2015    BOS  18\n",
            "\n",
            "players team starts with \"B\":\n",
            "    playerID  yearID teamID  HR\n",
            "0  bettsmo01    2016    BOS  31\n",
            "3  ortizda01    2016    BOS  38\n",
            "4  bettsmo01    2015    BOS  18\n",
            "\n"
          ],
          "name": "stdout"
        }
      ]
    }
  ]
}